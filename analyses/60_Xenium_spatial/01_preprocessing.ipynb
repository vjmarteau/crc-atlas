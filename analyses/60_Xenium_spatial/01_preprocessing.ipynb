{
 "cells": [
  {
   "cell_type": "code",
   "execution_count": null,
   "id": "67bed727-5cc6-4e2a-89c3-b70a3c784eff",
   "metadata": {},
   "outputs": [],
   "source": [
    "import numpy as np\n",
    "import pandas as pd\n",
    "import os\n",
    "import sys\n",
    "import matplotlib as mpl\n",
    "import matplotlib.pyplot as plt\n",
    "import seaborn as sns\n",
    "import anndata as ad\n",
    "import scanpy as sc\n",
    "import squidpy as sq\n",
    "import spatialdata as sd\n",
    "import spatialdata_io as sdio\n",
    "import spatialdata_plot\n",
    "\n",
    "import torch\n",
    "import scvi\n",
    "\n",
    "import matplotlib.patches as patches\n",
    "from scipy.sparse import csr_matrix\n",
    "from joblib import Parallel, delayed\n",
    "\n",
    "from spatialdata.transformations import (\n",
    "        Affine,\n",
    "        Identity,\n",
    "        MapAxis,\n",
    "        Scale,\n",
    "        Sequence,\n",
    "        Translation,\n",
    "        get_transformation,\n",
    "        get_transformation_between_coordinate_systems,\n",
    "        set_transformation,\n",
    "    )\n",
    "\n",
    "# set project dir paths\n",
    "prjdir = os.path.abspath(os.path.join(os.getcwd(), '../..'))\n",
    "if prjdir not in sys.path:\n",
    "    sys.path.append(prjdir)\n",
    "\n",
    "n_jobs=32\n",
    "sc.settings.n_jobs=n_jobs\n",
    "sc.set_figure_params(dpi=100, frameon=True, vector_friendly=True, fontsize=10)\n",
    "\n",
    "from matplotlib.colors import LinearSegmentedColormap\n",
    "cmap = LinearSegmentedColormap.from_list('grey_to_blue', ['lightgrey', 'mediumblue'])\n",
    "\n",
    "from warnings import simplefilter\n",
    "simplefilter(action=\"ignore\", category=pd.errors.PerformanceWarning)"
   ]
  },
  {
   "cell_type": "code",
   "execution_count": null,
   "id": "0ce13d1d-4ca3-42e0-a363-fcd9b3c35996",
   "metadata": {},
   "outputs": [],
   "source": [
    "%load_ext autoreload\n",
    "%autoreload 2\n",
    "import src.spatial_helpers.spatial as spp\n",
    "import src.spatial_helpers.spatialplot as spl\n",
    "import src.spatial_helpers.sc as scp\n",
    "scp.set_all_seeds()"
   ]
  },
  {
   "cell_type": "code",
   "execution_count": null,
   "id": "dbd21d43-9452-47fd-9b95-1f00490d6b54",
   "metadata": {},
   "outputs": [],
   "source": [
    "samplesdir = '../../data/xenium_samples'\n",
    "datadir = '../../data/xenium_merged'\n",
    "resultsdir = '../../data/xenium_results'\n",
    "os.makedirs(resultsdir, exist_ok=True)\n",
    "sc.settings.figdir = os.path.join(resultsdir)"
   ]
  },
  {
   "cell_type": "code",
   "execution_count": null,
   "id": "3a068e26-28a9-4850-b603-5febf392ef79",
   "metadata": {},
   "outputs": [],
   "source": [
    "sdata = sd.read_zarr(os.path.join(datadir, 'crca_xenium.zarr'))"
   ]
  },
  {
   "cell_type": "markdown",
   "id": "a2fe1c13-501d-469a-be5b-7f9415738fd9",
   "metadata": {},
   "source": [
    "## QC and Filtering"
   ]
  },
  {
   "cell_type": "code",
   "execution_count": null,
   "id": "6249b744-0432-4ba4-b79b-4695d098a0a1",
   "metadata": {},
   "outputs": [],
   "source": [
    "sdata['table'].obs['transcript_density'] = sdata['table'].obs['total_counts'] / sdata['table'].obs['cell_area']"
   ]
  },
  {
   "cell_type": "code",
   "execution_count": null,
   "id": "17e8d0da-edaa-4a0c-a731-a1eba2451dda",
   "metadata": {},
   "outputs": [],
   "source": [
    "# spatially isolated cells\n",
    "n_neighs=50\n",
    "sq.gr.spatial_neighbors(sdata['table'], coord_type='generic', n_neighs=n_neighs)\n",
    "sdata['table'].obs['mean_neighbor_dist'] = np.sum(sdata['table'].obsp['spatial_distances'], axis=1) / n_neighs"
   ]
  },
  {
   "cell_type": "code",
   "execution_count": null,
   "id": "7bccaab1-1fad-443c-9f0e-63e3c9c23000",
   "metadata": {},
   "outputs": [],
   "source": [
    "fig, axs = plt.subplots(1, 5, figsize=(15, 5))\n",
    "fig.subplots_adjust(right=1.5)\n",
    "sns.histplot(sdata['table'].obs, x='transcript_counts', hue = 'name', multiple='stack', log_scale=True, ax=axs[0])\n",
    "sns.histplot(sdata['table'].obs, x='transcript_density', hue = 'name', multiple='stack', log_scale=True, ax=axs[1])\n",
    "sns.histplot(sdata['table'].obs, x='nucleus_area', hue = 'name', multiple='stack', log_scale=True, ax=axs[2])\n",
    "sns.histplot(sdata['table'].obs, x='control_probe_counts', hue = 'name', multiple='stack', log_scale=True, ax=axs[3])\n",
    "sns.histplot(sdata['table'].obs, x='mean_neighbor_dist', hue = 'name', multiple='stack', log_scale=True, ax=axs[4])\n",
    "fig.savefig(os.path.join(resultsdir, 'QC_histplots_sample.jpeg'), bbox_inches='tight', dpi=300)"
   ]
  },
  {
   "cell_type": "code",
   "execution_count": null,
   "id": "4827d232-c230-4b63-9395-8f92fc680fe8",
   "metadata": {},
   "outputs": [],
   "source": [
    "fig, axs = plt.subplots(1, 5, figsize=(15, 5))\n",
    "fig.subplots_adjust(right=1.5)\n",
    "sns.histplot(sdata['table'].obs, x='transcript_counts', hue = 'segmentation_method', multiple='stack', log_scale=True, ax=axs[0])\n",
    "sns.histplot(sdata['table'].obs, x='transcript_density', hue = 'segmentation_method', multiple='stack', log_scale=True, ax=axs[1])\n",
    "sns.histplot(sdata['table'].obs, x='nucleus_area', hue = 'segmentation_method', multiple='stack', log_scale=True, ax=axs[2])\n",
    "sns.histplot(sdata['table'].obs, x='control_probe_counts', hue = 'segmentation_method', multiple='stack', log_scale=True, ax=axs[3])\n",
    "sns.histplot(sdata['table'].obs, x='mean_neighbor_dist', hue = 'segmentation_method', multiple='stack', log_scale=True, ax=axs[4])\n",
    "fig.savefig(os.path.join(resultsdir, 'QC_histplots_segmentation_method.jpeg'), bbox_inches='tight', dpi=300)"
   ]
  },
  {
   "cell_type": "code",
   "execution_count": null,
   "id": "b87d9759-846b-4fa2-adf4-1a15b864186f",
   "metadata": {},
   "outputs": [],
   "source": [
    "# filtering\n",
    "adata = sdata['table'][ (sdata['table'].obs['transcript_counts'] >= 15) & (sdata['table'].obs['control_codeword_counts'] < 2) ]"
   ]
  },
  {
   "cell_type": "code",
   "execution_count": null,
   "id": "4a56596f-0855-4866-8747-f74bb249840d",
   "metadata": {},
   "outputs": [],
   "source": [
    "# knn spatial neighbors\n",
    "adata = spp.spatial_neighbors(adata, sample_key='name', n_neighs=6, max_distance=50)\n",
    "adata = spp.spatial_neighbors(adata, sample_key='name', n_neighs=15, max_distance=50)\n",
    "adata = spp.filter_n_neighbors(adata, key='spatial_n6r50_connectivities', min_neighbors=4)\n",
    "spp.check_adj_matrix(adata.obsp[adata.uns['spatial_n6r50_neighbors']['connectivities_key']], adata.obs, 'name')"
   ]
  },
  {
   "cell_type": "code",
   "execution_count": null,
   "id": "04c8d3e7-8183-4fc1-8a41-141d6e0b8c27",
   "metadata": {},
   "outputs": [],
   "source": [
    "# delaunay spatial neighbors\n",
    "adata = spp.spatial_neighbors(adata, sample_key='name', delaunay=True, max_distance=50)\n",
    "adata = spp.filter_n_neighbors(adata, key='delaunayr50_connectivities', min_neighbors=3)\n",
    "spp.check_adj_matrix(adata.obsp[adata.uns['delaunayr50_neighbors']['connectivities_key']], adata.obs, 'name')\n",
    "adata.write_h5ad(os.path.join(datadir, 'crc_ffpe_filtered.h5ad'))"
   ]
  },
  {
   "cell_type": "markdown",
   "id": "7e395843-7364-4c1c-bd46-a50eb72b46c4",
   "metadata": {},
   "source": [
    "## Normalization"
   ]
  },
  {
   "cell_type": "code",
   "execution_count": null,
   "id": "f6113a4b-6c54-4dd4-83eb-b7c5877674b8",
   "metadata": {},
   "outputs": [],
   "source": [
    "adata = sc.read_h5ad(os.path.join(datadir, 'crc_ffpe_filtered.h5ad'))"
   ]
  },
  {
   "cell_type": "code",
   "execution_count": null,
   "id": "5702bde8-4b55-4021-a64e-ed9039f5b72b",
   "metadata": {},
   "outputs": [],
   "source": [
    "adata.layers['counts'] = adata.X.copy()\n",
    "adata.layers['norm'] = adata.X.copy()\n",
    "del adata.X"
   ]
  },
  {
   "cell_type": "code",
   "execution_count": null,
   "id": "7ab59939-eff9-4956-ad5d-de974e39df42",
   "metadata": {},
   "outputs": [],
   "source": [
    "sc.pp.normalize_total(adata, layer='norm', key_added='norm_factor', inplace=True)\n",
    "sc.pp.log1p(adata, layer='norm')"
   ]
  },
  {
   "cell_type": "code",
   "execution_count": null,
   "id": "bae8c9e1-bada-4aa3-927c-563f802f7897",
   "metadata": {},
   "outputs": [],
   "source": [
    "res = [2.5, 3]\n",
    "adata = scp.pp(adata, layer='norm', resolution=res)"
   ]
  },
  {
   "cell_type": "code",
   "execution_count": null,
   "id": "effcaba4-54f0-4a0e-a3ae-a60c5090af29",
   "metadata": {},
   "outputs": [],
   "source": [
    "sc.pl.embedding(adata, basis='norm_pca_nb_umap', color=['name', 'tissue_region'])"
   ]
  },
  {
   "cell_type": "code",
   "execution_count": null,
   "id": "1af80237-6e33-4710-be61-5dac5943be18",
   "metadata": {},
   "outputs": [],
   "source": [
    "adata.write_h5ad(os.path.join(datadir, 'crc_ffpe_norm.h5ad'))"
   ]
  },
  {
   "cell_type": "markdown",
   "id": "cb102e48-b7b9-4205-8fea-c1ca3140feec",
   "metadata": {},
   "source": [
    "## Integration"
   ]
  },
  {
   "cell_type": "code",
   "execution_count": null,
   "id": "18bf8963-87f6-4a4a-8b46-ceebdd13e0ef",
   "metadata": {},
   "outputs": [],
   "source": [
    "adata = sc.read_h5ad(os.path.join(datadir, 'crc_ffpe_norm.h5ad'))"
   ]
  },
  {
   "cell_type": "code",
   "execution_count": null,
   "id": "87f6313e-01ed-44dd-80f8-7936c2f3af64",
   "metadata": {},
   "outputs": [],
   "source": [
    "res = [2.5, 3]\n",
    "batch_key='name'"
   ]
  },
  {
   "cell_type": "code",
   "execution_count": null,
   "id": "f11c190c-f59e-4f0b-a9ce-00705416e124",
   "metadata": {},
   "outputs": [],
   "source": [
    "# adata = scp.run_scvi(adata, key='scvi120', n_layers=1, n_latent=20, layer='counts', batch_key='name', get_expr=True, save=os.path.join(datadir, 'scvi', 'model_scvi120'))\n",
    "# adata = scp.pp(adata, use_rep='scvi120', layer='norm', resolution=res)\n",
    "# sc.pl.embedding(adata, basis='scvi120_nb_umap', color=['name', 'tissue_region', 'scvi120_nb_leiden_2.5'], show=False)\n",
    "# plt.savefig(os.path.join(resultsdir, 'scvi120_umap.jpg'), dpi=300, bbox_inches='tight')"
   ]
  },
  {
   "cell_type": "code",
   "execution_count": null,
   "id": "05e0b986-2592-4e7c-8c8d-32cb78c8f411",
   "metadata": {},
   "outputs": [],
   "source": [
    "adata = scp.run_scvi(adata, key='scvi130', n_layers=1, n_latent=30, layer='counts', batch_key='name', get_expr=True, save=os.path.join(datadir, 'scvi', 'model_scvi130'))\n",
    "adata = scp.pp(adata, use_rep='scvi130', layer='norm', resolution=res)\n",
    "sc.pl.embedding(adata, basis='scvi130_nb_umap', color=['name', 'tissue_region', 'scvi130_nb_leiden_2.5'], show=False)\n",
    "plt.savefig(os.path.join(resultsdir, 'scvi130_umap.jpg'), dpi=300, bbox_inches='tight')"
   ]
  },
  {
   "cell_type": "code",
   "execution_count": null,
   "id": "0195de28-f04d-4e1f-8baf-346eab1fc69a",
   "metadata": {},
   "outputs": [],
   "source": [
    "# adata = scp.run_scvi(adata, key='scvi220', n_layers=2, n_latent=20, layer='counts', batch_key='name', get_expr=False, save=os.path.join(datadir, 'scvi', 'model_scvi220'))\n",
    "# adata = scp.pp(adata, use_rep='scvi220', layer='norm', resolution=res)\n",
    "# sc.pl.embedding(adata, basis='scvi220_nb_umap', color=['name', 'tissue_region', 'scvi220_nb_leiden_2.5'], show=False)\n",
    "# plt.savefig(os.path.join(resultsdir, 'scvi220_umap.jpg'), dpi=300, bbox_inches='tight')"
   ]
  },
  {
   "cell_type": "code",
   "execution_count": null,
   "id": "755c6d87-e4a0-477a-8662-ba08fa2875af",
   "metadata": {},
   "outputs": [],
   "source": [
    "# adata = scp.run_scvi(adata, key='scvi230', n_layers=2, n_latent=30, layer='counts', batch_key='name', get_expr=False, save=os.path.join(datadir, 'scvi', 'model_scvi230'))\n",
    "# adata = scp.pp(adata, use_rep='scvi230', layer='norm', resolution=res)\n",
    "# sc.pl.embedding(adata, basis='scvi230_nb_umap', color=['name', 'tissue_region', 'scvi230_nb_leiden_2.5'], show=False)\n",
    "# plt.savefig(os.path.join(resultsdir, 'scvi230_umap.jpg'), dpi=300, bbox_inches='tight')"
   ]
  },
  {
   "cell_type": "code",
   "execution_count": null,
   "id": "e4ee5677-f63f-43d9-bd9e-18a5d7eee88e",
   "metadata": {},
   "outputs": [],
   "source": [
    "# adata = scp.run_scvi(adata, key='scvipat', n_layers=1, n_latent=30, layer='counts', batch_key='patient_id', get_expr=False, save=os.path.join(datadir, 'scvi', 'model_scvipat'))\n",
    "# adata = scp.pp(adata, use_rep='scvipat', layer='norm', resolution=res)\n",
    "# sc.pl.embedding(adata, basis='scvipat_nb_umap', color=['name', 'tissue_region', 'scvipat_nb_leiden_2.5'], show=False)\n",
    "# plt.savefig(os.path.join(resultsdir, 'scvipat_umap.jpg'), dpi=300, bbox_inches='tight')"
   ]
  },
  {
   "cell_type": "code",
   "execution_count": null,
   "id": "44d4df47-318f-4598-b8bd-a049d17daf98",
   "metadata": {},
   "outputs": [],
   "source": [
    "# adata = scp.run_scvi(adata, key='scvibatch', n_layers=1, n_latent=30, layer='counts', batch_key='batch_factor', get_expr=False, save=os.path.join(datadir, 'scvi', 'model_scvibatch'))\n",
    "# adata = scp.pp(adata, use_rep='scvibatch', layer='norm', resolution=res)\n",
    "# sc.pl.embedding(adata, basis='scvibatch_nb_umap', color=['name', 'tissue_region', 'scvibatch_nb_leiden_2.5'], show=False)\n",
    "# plt.savefig(os.path.join(resultsdir, 'scvibatch_umap.jpg'), dpi=300, bbox_inches='tight')"
   ]
  },
  {
   "cell_type": "code",
   "execution_count": null,
   "id": "cb40478d-c92d-48e2-b2f1-70e3f21b8468",
   "metadata": {},
   "outputs": [],
   "source": [
    "model = scvi.model.SCVI.load(os.path.join(datadir, 'scvi','model_scvi130'), adata=adata)\n",
    "adata.obsm['scvi'] = model.get_latent_representation()\n",
    "adata.layers['scvi'] = csr_matrix(model.get_normalized_expression(transform_batch=None))"
   ]
  },
  {
   "cell_type": "code",
   "execution_count": null,
   "id": "3d7c019b-4502-4750-9d23-90d8d547a1a3",
   "metadata": {},
   "outputs": [],
   "source": [
    "adata = scp.pp(adata, use_rep='scvi130', layer='norm', n_iterations=5, resolution=[2.5, 3, 3.5, 3.8, 4])"
   ]
  },
  {
   "cell_type": "code",
   "execution_count": null,
   "id": "1bef04e2-a988-4668-87b7-ba9912720858",
   "metadata": {},
   "outputs": [],
   "source": [
    "adata.write_h5ad(os.path.join(datadir, 'crc_ffpe_integrated.h5ad'))"
   ]
  },
  {
   "cell_type": "code",
   "execution_count": null,
   "id": "1f636934-af44-4a1f-9f63-ccd9c339bd94",
   "metadata": {},
   "outputs": [],
   "source": [
    "sdata = sd.read_zarr(os.path.join(datadir, 'crca_xenium.zarr'))\n",
    "sdata['int'] = adata\n",
    "sdata = spp.match_ids(sdata, ['cell_boundaries'], table_key='int')\n",
    "sdata.tables['int'].obs['region'] = 'cell_boundaries'\n",
    "sdata.set_table_annotates_spatialelement('int', region_key='region', region='cell_boundaries')\n",
    "sdata.write_element('int', overwrite=True)"
   ]
  }
 ],
 "metadata": {
  "kernelspec": {
   "display_name": "crca-spatial",
   "language": "python",
   "name": "crca-spatial"
  },
  "language_info": {
   "codemirror_mode": {
    "name": "ipython",
    "version": 3
   },
   "file_extension": ".py",
   "mimetype": "text/x-python",
   "name": "python",
   "nbconvert_exporter": "python",
   "pygments_lexer": "ipython3",
   "version": "3.11.9"
  }
 },
 "nbformat": 4,
 "nbformat_minor": 5
}
