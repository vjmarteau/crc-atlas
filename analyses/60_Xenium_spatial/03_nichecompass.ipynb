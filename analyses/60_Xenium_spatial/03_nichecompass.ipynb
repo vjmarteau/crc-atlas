{
 "cells": [
  {
   "cell_type": "markdown",
   "id": "4083f33f-4d4e-4e32-b95c-7f943d9d1976",
   "metadata": {},
   "source": [
    "## 03. NicheCompass"
   ]
  },
  {
   "cell_type": "markdown",
   "id": "d14b37f4-72a6-438d-84f3-8d5ae8827626",
   "metadata": {
    "editable": true,
    "slideshow": {
     "slide_type": ""
    },
    "tags": []
   },
   "source": [
    "Notebook for niche identification of the merged Xenium data using NicheCompass<br>\n",
    "Run this notebook in the 'nichecompass' conda env<br>\n",
    "Run this notebook on a gpu"
   ]
  },
  {
   "cell_type": "code",
   "execution_count": null,
   "id": "1948e3e4-057a-4d4e-9da0-8cf9928cae1d",
   "metadata": {},
   "outputs": [],
   "source": [
    "import os\n",
    "import sys\n",
    "import numpy as np\n",
    "import scanpy as sc\n",
    "import torch\n",
    "import nichecompass\n",
    "\n",
    "prjdir = os.path.abspath(os.path.join(os.getcwd(), '../..'))\n",
    "if prjdir not in sys.path:\n",
    "    sys.path.append(prjdir)\n",
    "\n",
    "sc.settings.n_jobs=40"
   ]
  },
  {
   "cell_type": "code",
   "execution_count": null,
   "id": "d71da500-7d91-4b8d-9ada-8aa51b2031de",
   "metadata": {},
   "outputs": [],
   "source": [
    "%load_ext autoreload\n",
    "%autoreload 2\n",
    "import src.spatial_helpers.spatial as spp\n",
    "import src.spatial_helpers.sc as scp\n",
    "scp.set_all_seeds()"
   ]
  },
  {
   "cell_type": "code",
   "execution_count": null,
   "id": "d5e68685-fced-429a-ab49-6c02991ddea1",
   "metadata": {},
   "outputs": [],
   "source": [
    "processed_datadir = '../../data/xenium/processed'\n",
    "ncdir = os.path.join(processed_datadir, 'nichecompass')"
   ]
  },
  {
   "cell_type": "markdown",
   "id": "f433c506-6ff8-415c-a79f-bf984ed65260",
   "metadata": {},
   "source": [
    "## NicheCompass"
   ]
  },
  {
   "cell_type": "code",
   "execution_count": null,
   "id": "2cdc69cb-0787-4643-a446-a9f1545f40ad",
   "metadata": {},
   "outputs": [],
   "source": [
    "# params\n",
    "infile = os.path.join(processed_datadir, 'crc_ffpe_norm.h5ad')\n",
    "batch_key = 'name'\n",
    "layer_key = 'counts'\n",
    "key = 'delaunayr50'\n",
    "adj_key = 'delaunayr50_connectivities' \n",
    "n_neighbors = 15\n",
    "n_iterations = 5\n",
    "resolutions = [float(x) for x in '0.05,0.1,0.15,0.2'.split(',')]\n",
    "encoder = 'gcnconv'"
   ]
  },
  {
   "cell_type": "code",
   "execution_count": null,
   "id": "bb76b6ce-4acd-4518-baa5-1ad0ed430128",
   "metadata": {},
   "outputs": [],
   "source": [
    "adata = sc.read_h5ad(infile)\n",
    "adata.obsp['spatial_connectivities'] = adata.obsp[adj_key].copy()\n",
    "adata.X = adata.layers[layer_key]\n",
    "gps = spp.nc_prepare_gps(dir=os.path.join(ncdir, key))\n",
    "model = spp.nc_run(adata, gps, batch_keys=[batch_key], layer=layer_key, adj_key=adj_key, latent_dtype=np.float64, conv_layer_encoder=encoder)\n",
    "model.save(dir_path=os.path.join(ncdir, key, 'model'), overwrite=True, save_adata=True, adata_file_name='adata.h5ad')"
   ]
  },
  {
   "cell_type": "code",
   "execution_count": null,
   "id": "605bbe67-6e35-468a-872f-6d06dca920f8",
   "metadata": {},
   "outputs": [],
   "source": [
    "adata = sc.read_h5ad(os.path.join(ncdir, key, 'model', 'adata.h5ad'))\n",
    "adata.obsm[key] = adata.obsm['nichecompass_latent'].copy()\n",
    "del adata.obsm['nichecompass_latent']\n",
    "sc.pp.neighbors(adata, use_rep=key, n_neighbors=n_neighbors, key_added=key+'_nb')\n",
    "for res in resolutions:\n",
    "    sc.tl.leiden(adata, resolution=res, neighbors_key=key+'_nb', key_added=key+'_nb_leiden_'+str(res), n_iterations=n_iterations)\n",
    "adata = scp.rename_clusters_by_size(adata, cluster_key=key+'_nb_leiden_'+str(res))\n",
    "adata.write_h5ad(os.path.join(ncdir, key, 'model', 'adata.h5ad'))"
   ]
  }
 ],
 "metadata": {
  "kernelspec": {
   "display_name": "nichecompass",
   "language": "python",
   "name": "nichecompass"
  },
  "language_info": {
   "codemirror_mode": {
    "name": "ipython",
    "version": 3
   },
   "file_extension": ".py",
   "mimetype": "text/x-python",
   "name": "python",
   "nbconvert_exporter": "python",
   "pygments_lexer": "ipython3",
   "version": "3.10.16"
  }
 },
 "nbformat": 4,
 "nbformat_minor": 5
}
