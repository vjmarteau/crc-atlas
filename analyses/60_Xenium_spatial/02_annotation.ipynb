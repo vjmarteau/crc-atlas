{
 "cells": [
  {
   "cell_type": "code",
   "execution_count": null,
   "id": "67bed727-5cc6-4e2a-89c3-b70a3c784eff",
   "metadata": {},
   "outputs": [],
   "source": [
    "import numpy as np\n",
    "import pandas as pd\n",
    "import os\n",
    "import sys\n",
    "import matplotlib as mpl\n",
    "import matplotlib.pyplot as plt\n",
    "import seaborn as sns\n",
    "import anndata as ad\n",
    "import scanpy as sc\n",
    "import squidpy as sq\n",
    "import spatialdata as sd\n",
    "import spatialdata_io as sdio\n",
    "import spatialdata_plot\n",
    "\n",
    "import torch\n",
    "import scvi\n",
    "import tangram as tg\n",
    "import matplotlib.patches as patches\n",
    "\n",
    "#from scsampler import scsampler\n",
    "from joblib import Parallel, delayed\n",
    "\n",
    "from spatialdata.transformations import (\n",
    "        Affine,\n",
    "        Identity,\n",
    "        MapAxis,\n",
    "        Scale,\n",
    "        Sequence,\n",
    "        Translation,\n",
    "        get_transformation,\n",
    "        get_transformation_between_coordinate_systems,\n",
    "        set_transformation,\n",
    "    )\n",
    "\n",
    "prjdir = os.path.abspath(os.path.join(os.getcwd(), '../..'))\n",
    "if prjdir not in sys.path:\n",
    "    sys.path.append(prjdir)\n",
    "\n",
    "n_jobs=32\n",
    "sc.settings.n_jobs=n_jobs\n",
    "sc.set_figure_params(dpi=100, frameon=True, vector_friendly=True, fontsize=10)\n",
    "\n",
    "from matplotlib.colors import LinearSegmentedColormap\n",
    "cmap = LinearSegmentedColormap.from_list('grey_to_blue', ['lightgrey', 'mediumblue'])\n",
    "\n",
    "from warnings import simplefilter\n",
    "simplefilter(action=\"ignore\", category=pd.errors.PerformanceWarning)"
   ]
  },
  {
   "cell_type": "code",
   "execution_count": null,
   "id": "cad8f303-496d-466a-aa55-bcbf5d5933e0",
   "metadata": {},
   "outputs": [],
   "source": [
    "%load_ext autoreload\n",
    "%autoreload 2\n",
    "import src.spatial_helpers.spatial as spp\n",
    "import src.spatial_helpers.spatialplot as spl\n",
    "import src.spatial_helpers.sc as scp\n",
    "scp.set_all_seeds()"
   ]
  },
  {
   "cell_type": "code",
   "execution_count": null,
   "id": "dbd21d43-9452-47fd-9b95-1f00490d6b54",
   "metadata": {},
   "outputs": [],
   "source": [
    "datadir = '../../data/xenium_merged'\n",
    "resultsdir = '../../data/xenium_results'\n",
    "os.makedirs(resultsdir, exist_ok=True)\n",
    "sc.settings.figdir = os.path.join(resultsdir)"
   ]
  },
  {
   "cell_type": "code",
   "execution_count": null,
   "id": "aca256a2-af07-4904-b432-e9602e26d6e1",
   "metadata": {},
   "outputs": [],
   "source": [
    "crca_path = '../../data/public/crca.h5ad' # path to CRC atlas\n",
    "refdata_crca_downsampled_path = '../../data/public/crca_refdata.h5ad' # path to save downsampled version"
   ]
  },
  {
   "cell_type": "code",
   "execution_count": null,
   "id": "324014ae-89b5-4bec-9610-58d502d25355",
   "metadata": {},
   "outputs": [],
   "source": [
    "adata = sc.read_h5ad(os.path.join(datadir, 'crc_ffpe_integrated.h5ad'))"
   ]
  },
  {
   "cell_type": "markdown",
   "id": "fad4aae1-adb8-4faf-bb08-2eb31b47d7b7",
   "metadata": {},
   "source": [
    "## Tangram"
   ]
  },
  {
   "cell_type": "code",
   "execution_count": null,
   "id": "f954a643-6239-4bdd-8186-fe68590bfe2c",
   "metadata": {},
   "outputs": [],
   "source": [
    "crca = sc.read_h5ad(crca_path)"
   ]
  },
  {
   "cell_type": "code",
   "execution_count": null,
   "id": "280b9afa-6681-499d-a0b0-137c9a9dfbdf",
   "metadata": {},
   "outputs": [],
   "source": [
    "layer_key='scvi130'"
   ]
  },
  {
   "cell_type": "code",
   "execution_count": null,
   "id": "35ec4ae1-d390-4d83-b51f-2dec89c6fcc2",
   "metadata": {},
   "outputs": [],
   "source": [
    "### MUI reference dataset"
   ]
  },
  {
   "cell_type": "code",
   "execution_count": null,
   "id": "b47af6f7-1238-463e-80ac-e3de9c5e03c8",
   "metadata": {},
   "outputs": [],
   "source": [
    "refdata = crca[crca.obs['dataset'] == 'MUI_Innsbruck']\n",
    "refdata = refdata[refdata.obs['sample_type'] != 'blood'].copy()"
   ]
  },
  {
   "cell_type": "code",
   "execution_count": null,
   "id": "5543084f-8517-4ab6-ae88-dc71ef05de52",
   "metadata": {},
   "outputs": [],
   "source": [
    "# run tangram\n",
    "tgmap, adata = scp.run_tangram(adata, refdata, ref_label='cell_type_middle', adata_layer=layer_key, refdata_layer='denoised')\n",
    "tg.plot_training_scores(tgmap, bins=20, alpha=0.5)\n",
    "tgmap.write_h5ad(os.path.join(datadir, 'tgmap_cell_type_middle_scvi_mui.h5ad'))\n",
    "\n",
    "tgmap, adata = scp.run_tangram(adata, refdata, ref_label='cell_type_fine', adata_layer=layer_key, refdata_layer='denoised')\n",
    "tg.plot_training_scores(tgmap, bins=20, alpha=0.5)\n",
    "tgmap.write_h5ad(os.path.join(datadir, 'tgmap_cell_type_fine_scvi_mui.h5ad'))"
   ]
  },
  {
   "cell_type": "code",
   "execution_count": null,
   "id": "1e20b8f6-a45b-4768-bc04-87482486077f",
   "metadata": {},
   "outputs": [],
   "source": [
    "tgmap = sc.read_h5ad(os.path.join(datadir, 'tgmap_cell_type_middle_scvi_mui.h5ad'))\n",
    "tgmap, adata = scp.run_tangram(adata, refdata=None, tgmap=tgmap, ref_label='cell_type_middle')\n",
    "tgmap = sc.read_h5ad(os.path.join(datadir, 'tgmap_cell_type_fine_scvi_mui.h5ad'))\n",
    "tgmap, adata = scp.run_tangram(adata, refdata=None, tgmap=tgmap, ref_label='cell_type_fine')"
   ]
  },
  {
   "cell_type": "code",
   "execution_count": null,
   "id": "9853fddd-cb1c-4f0f-bb01-b414f2b14dd4",
   "metadata": {},
   "outputs": [],
   "source": [
    "# cell type middle\n",
    "confmat, relabel_dict = scp.get_tangram_annotation(adata, predictions_key='tangram_cell_type_middle', cluster_key='scvi130_nb_leiden_2.5', n_thres=25000)\n",
    "with mpl.rc_context({'font.size': 5, 'xtick.labelsize': 10, 'ytick.labelsize': 10}):\n",
    "    plt.figure(figsize=(15, 7))\n",
    "    plt.grid(False)\n",
    "    sns.heatmap(confmat, annot=True, cmap='Reds')\n",
    "    plt.savefig(os.path.join(resultsdir, 'leiden_2.5_tangram_cell_type_middle.jpg'), dpi=300, bbox_inches='tight')"
   ]
  },
  {
   "cell_type": "code",
   "execution_count": null,
   "id": "f3e8f85f-f2a3-43c4-9c60-efdfdfa5ab73",
   "metadata": {},
   "outputs": [],
   "source": [
    "len(list(set(list(relabel_dict.values()))))\n",
    "pd.DataFrame(list(relabel_dict.items()), columns=['Key', 'Value'])['Value'].value_counts()"
   ]
  },
  {
   "cell_type": "code",
   "execution_count": null,
   "id": "eec1fb1f-3664-4e52-a89d-2a853ef1a126",
   "metadata": {},
   "outputs": [],
   "source": [
    "relabel_dict_sub = scp.add_suffixes(relabel_dict)\n",
    "adata.obs['mui_celltype_trangram_middle'] = adata.obs['scvi130_nb_leiden_2.5'].map(relabel_dict)\n",
    "adata.obs['mui_celltype_trangram_middle_sub'] = adata.obs['scvi130_nb_leiden_2.5'].map(relabel_dict_sub)\n",
    "adata.obs['mui_celltype_trangram_middle'].value_counts()"
   ]
  },
  {
   "cell_type": "code",
   "execution_count": null,
   "id": "ecce281e-acdf-4e44-80d3-fd1fc1412bb2",
   "metadata": {},
   "outputs": [],
   "source": [
    "# cell type fine\n",
    "confmat, relabel_dict = scp.get_tangram_annotation(adata, predictions_key='tangram_cell_type_fine', cluster_key='scvi130_nb_leiden_3.8', n_thres=25000)\n",
    "with mpl.rc_context({'font.size': 4, 'xtick.labelsize': 10, 'ytick.labelsize': 10}):\n",
    "    plt.figure(figsize=(15, 10))\n",
    "    plt.grid(False)\n",
    "    sns.heatmap(confmat, annot=True, cmap='Reds')\n",
    "    plt.savefig(os.path.join(resultsdir, 'leiden_3.8_tangram_cell_type_fine.jpg'), dpi=300, bbox_inches='tight')"
   ]
  },
  {
   "cell_type": "code",
   "execution_count": null,
   "id": "1b883b2c-6bc2-4442-993b-c5ad9f2b1a6a",
   "metadata": {},
   "outputs": [],
   "source": [
    "len(list(set(list(relabel_dict.values()))))\n",
    "pd.DataFrame(list(relabel_dict.items()), columns=['Key', 'Value'])['Value'].value_counts()"
   ]
  },
  {
   "cell_type": "code",
   "execution_count": null,
   "id": "45db8002-0438-426c-bc6d-8153cab2297a",
   "metadata": {},
   "outputs": [],
   "source": [
    "relabel_dict_sub = scp.add_suffixes(relabel_dict)\n",
    "adata.obs['mui_celltype_trangram_fine'] = adata.obs['scvi130_nb_leiden_3.8'].map(relabel_dict)\n",
    "adata.obs['mui_celltype_trangram_fine_sub'] = adata.obs['scvi130_nb_leiden_3.8'].map(relabel_dict_sub)\n",
    "adata.obs['mui_celltype_trangram_fine'].value_counts()"
   ]
  },
  {
   "cell_type": "code",
   "execution_count": null,
   "id": "9a80e8c5-afde-46ed-85d4-bb662b8499f9",
   "metadata": {},
   "outputs": [],
   "source": [
    "### CRCA complete reference dataset"
   ]
  },
  {
   "cell_type": "code",
   "execution_count": null,
   "id": "5759bbd0-92b2-42f0-8a43-5cef7216cfd6",
   "metadata": {},
   "outputs": [],
   "source": [
    "# downsample refdata\n",
    "refdata = scsampler(crca, obsm='X_scANVI', n_obs=100000, random_state=0, copy=True, random_split=10)\n",
    "refdata.write_h5ad(os.path.join(refdata_crca_downsampled_path), compression='gzip')"
   ]
  },
  {
   "cell_type": "code",
   "execution_count": null,
   "id": "b87d9759-846b-4fa2-adf4-1a15b864186f",
   "metadata": {},
   "outputs": [],
   "source": [
    "refdata = sc.read_h5ad(refdata_crca_downsampled_path)\n",
    "refdata.var.set_index('var_names', drop=False, inplace=True)"
   ]
  },
  {
   "cell_type": "code",
   "execution_count": null,
   "id": "faeadefa-4565-4dee-a97f-bd992af04e79",
   "metadata": {},
   "outputs": [],
   "source": [
    "refdata.obs['crca_cell_type_middle'] = refdata.obs['cell_type_middle']\n",
    "refdata.obs['crca_cell_type_fine'] = refdata.obs['cell_type_fine']"
   ]
  },
  {
   "cell_type": "code",
   "execution_count": null,
   "id": "291f9445-7c80-4151-8e55-e9a1c347315b",
   "metadata": {
    "scrolled": true
   },
   "outputs": [],
   "source": [
    "# run tangram\n",
    "tgmap, adata = scp.run_tangram(adata, refdata, ref_label='crca_cell_type_middle', adata_layer=layer_key)\n",
    "tg.plot_training_scores(tgmap, bins=20, alpha=0.5)\n",
    "tgmap.write_h5ad(os.path.join(datadir, 'tgmap_crca_cell_type_middle_scvi.h5ad'))\n",
    "\n",
    "tgmap, adata = scp.run_tangram(adata, refdata, ref_label='crca_cell_type_fine', adata_layer=layer_key)\n",
    "tg.plot_training_scores(tgmap, bins=20, alpha=0.5)\n",
    "tgmap.write_h5ad(os.path.join(datadir, 'tgmap_crca_cell_type_fine_scvi.h5ad'))"
   ]
  },
  {
   "cell_type": "code",
   "execution_count": null,
   "id": "bc332964-0d6e-47c4-a189-b0c8d9a43303",
   "metadata": {},
   "outputs": [],
   "source": [
    "tgmap = sc.read_h5ad(os.path.join(datadir, 'tgmap_crca_cell_type_middle_scvi.h5ad'))\n",
    "tgmap, adata = scp.run_tangram(adata, refdata=None, tgmap=tgmap, ref_label='crca_cell_type_middle')\n",
    "tgmap = sc.read_h5ad(os.path.join(datadir, 'tgmap_crca_cell_type_fine_scvi.h5ad'))\n",
    "tgmap, adata = scp.run_tangram(adata, refdata=None, tgmap=tgmap, ref_label='crca_cell_type_fine')"
   ]
  },
  {
   "cell_type": "code",
   "execution_count": null,
   "id": "e5134d93-0ef8-4e2d-8059-f9364070898f",
   "metadata": {},
   "outputs": [],
   "source": [
    "# cell type middle\n",
    "confmat, relabel_dict = scp.get_tangram_annotation(adata, predictions_key='tangram_crca_cell_type_middle', cluster_key='scvi130_nb_leiden_2.5', n_thres=25000)\n",
    "with mpl.rc_context({'font.size': 5, 'xtick.labelsize': 10, 'ytick.labelsize': 10}):\n",
    "    plt.figure(figsize=(15, 7))\n",
    "    plt.grid(False)\n",
    "    sns.heatmap(confmat, annot=True, cmap='Reds')\n",
    "    plt.savefig(os.path.join(resultsdir, 'leiden_2.5_tangram_crca_cell_type_middle.jpg'), dpi=300, bbox_inches='tight')"
   ]
  },
  {
   "cell_type": "code",
   "execution_count": null,
   "id": "5b69edec-b5bf-40ff-8c8f-1b613a3af0ec",
   "metadata": {},
   "outputs": [],
   "source": [
    "print(len(list(set(list(relabel_dict.values())))))\n",
    "pd.DataFrame(list(relabel_dict.items()), columns=['Key', 'Value'])['Value'].value_counts()"
   ]
  },
  {
   "cell_type": "code",
   "execution_count": null,
   "id": "b4900b5f-7e0a-4407-9194-71c30c40ea17",
   "metadata": {},
   "outputs": [],
   "source": [
    "relabel_dict_sub = scp.add_suffixes(relabel_dict)\n",
    "adata.obs['crca_celltype_trangram_middle'] = adata.obs['scvi130_nb_leiden_2.5'].map(relabel_dict)\n",
    "adata.obs['crca_celltype_trangram_middle_sub'] = adata.obs['scvi130_nb_leiden_2.5'].map(relabel_dict_sub)"
   ]
  },
  {
   "cell_type": "code",
   "execution_count": null,
   "id": "89f49213-93ab-4596-be81-7ee457b07b9d",
   "metadata": {},
   "outputs": [],
   "source": [
    "# cell type fine\n",
    "confmat, relabel_dict = scp.get_tangram_annotation(adata, predictions_key='tangram_crca_cell_type_fine', cluster_key='scvi130_nb_leiden_3.8', n_thres=25000)\n",
    "with mpl.rc_context({'font.size': 4, 'xtick.labelsize': 10, 'ytick.labelsize': 10}):\n",
    "    plt.figure(figsize=(15, 10))\n",
    "    plt.grid(False)\n",
    "    sns.heatmap(confmat, annot=True, cmap='Reds')\n",
    "    plt.savefig(os.path.join(resultsdir, 'leiden_3.8_tangram_crca_cell_type_fine.jpg'), dpi=300, bbox_inches='tight')"
   ]
  },
  {
   "cell_type": "code",
   "execution_count": null,
   "id": "2d63ec27-4379-4ed2-9424-4c3e4f2e0bd7",
   "metadata": {},
   "outputs": [],
   "source": [
    "print(len(list(set(list(relabel_dict.values())))))\n",
    "pd.DataFrame(list(relabel_dict.items()), columns=['Key', 'Value'])['Value'].value_counts()"
   ]
  },
  {
   "cell_type": "code",
   "execution_count": null,
   "id": "e361120a-e160-491b-baa6-bad6e7bfe2a4",
   "metadata": {},
   "outputs": [],
   "source": [
    "relabel_dict_sub = scp.add_suffixes(relabel_dict)\n",
    "adata.obs['crca_celltype_trangram_fine'] = adata.obs['scvi130_nb_leiden_3.8'].map(relabel_dict)\n",
    "adata.obs['crca_celltype_trangram_fine_sub'] = adata.obs['scvi130_nb_leiden_3.8'].map(relabel_dict_sub)"
   ]
  },
  {
   "cell_type": "code",
   "execution_count": null,
   "id": "f97faafa-a6ee-49de-bfb6-0bf3dfb4b4a9",
   "metadata": {},
   "outputs": [],
   "source": [
    "# annotation comparison\n",
    "confmat = pd.crosstab(adata.obs['crca_celltype_trangram_middle'], adata.obs['mui_celltype_trangram_middle'])\n",
    "confmat = confmat.div(confmat.sum(axis=0), axis=1)\n",
    "with mpl.rc_context({'font.size': 5, 'xtick.labelsize': 10, 'ytick.labelsize': 10}):\n",
    "    plt.figure(figsize=(15, 7))\n",
    "    plt.grid(False)\n",
    "    sns.heatmap(confmat, annot=True, cmap='Blues')\n",
    "    plt.savefig(os.path.join(resultsdir, 'tangram_ref_middle_comparison.jpg'), dpi=300, bbox_inches='tight')"
   ]
  },
  {
   "cell_type": "code",
   "execution_count": null,
   "id": "d50aa642-6062-4886-8fd0-aa8518854b60",
   "metadata": {},
   "outputs": [],
   "source": [
    "# annotation comparison\n",
    "confmat = pd.crosstab(adata.obs['crca_celltype_trangram_fine'], adata.obs['mui_celltype_trangram_fine'])\n",
    "confmat = confmat.div(confmat.sum(axis=0), axis=1)\n",
    "with mpl.rc_context({'font.size': 5, 'xtick.labelsize': 10, 'ytick.labelsize': 10}):\n",
    "    plt.figure(figsize=(15, 7))\n",
    "    plt.grid(False)\n",
    "    sns.heatmap(confmat, annot=True, cmap='Blues')\n",
    "    plt.savefig(os.path.join(resultsdir, 'tangram_ref_fine_comparison.jpg'), dpi=300, bbox_inches='tight')"
   ]
  },
  {
   "cell_type": "code",
   "execution_count": null,
   "id": "8f885851-f329-4b76-9b9f-52b6483f219d",
   "metadata": {},
   "outputs": [],
   "source": [
    "adata.write_h5ad(os.path.join(datadir, 'crc_ffpe_anno.h5ad'))"
   ]
  },
  {
   "cell_type": "markdown",
   "id": "f4e99793-be5f-4667-b187-de945a3c7369",
   "metadata": {},
   "source": [
    "## Markers"
   ]
  },
  {
   "cell_type": "code",
   "execution_count": null,
   "id": "eabe40aa-a1e8-4f14-8404-f5d68ec78264",
   "metadata": {},
   "outputs": [],
   "source": [
    "sc.tl.rank_genes_groups(adata, layer='norm', key_added='scvi130_nb_leiden_2.5_rank', groupby='scvi130_nb_leiden_2.5', method='wilcoxon')\n",
    "sc.pl.rank_genes_groups_dotplot(adata, key='scvi130_nb_leiden_2.5_rank', n_genes=6, layer='norm', min_logfoldchange=0.5, dendrogram=False, save='scvi130_nb_leiden_2.5_markers.png')"
   ]
  },
  {
   "cell_type": "code",
   "execution_count": null,
   "id": "1cdb67a1-dc69-4625-afdb-0711a0a293a7",
   "metadata": {},
   "outputs": [],
   "source": [
    "sc.tl.rank_genes_groups(adata, layer='norm', key_added='scvi130_nb_leiden_3.5_rank', groupby='scvi130_nb_leiden_3.5', method='wilcoxon')\n",
    "sc.pl.rank_genes_groups_dotplot(adata, key='scvi130_nb_leiden_3.5_rank', n_genes=6, layer='norm', min_logfoldchange=0.5, dendrogram=False, save='scvi130_nb_leiden_3.5_markers.png')"
   ]
  },
  {
   "cell_type": "code",
   "execution_count": null,
   "id": "8335cddb-b18d-4f0b-b580-b162e86ef7b3",
   "metadata": {},
   "outputs": [],
   "source": [
    "sc.tl.rank_genes_groups(adata, layer='norm', key_added='scvi130_nb_leiden_3.8_rank', groupby='scvi130_nb_leiden_3.8', method='wilcoxon')\n",
    "sc.pl.rank_genes_groups_dotplot(adata, key='scvi130_nb_leiden_3.8_rank', n_genes=6, layer='norm', min_logfoldchange=0.5, dendrogram=False, save='scvi130_nb_leiden_3.8_markers.png')"
   ]
  },
  {
   "cell_type": "code",
   "execution_count": null,
   "id": "ebeb5e3f-c652-49b4-b3fe-61c742b77e87",
   "metadata": {},
   "outputs": [],
   "source": [
    "adata.write_h5ad(os.path.join(datadir, 'crc_ffpe_anno.h5ad'))"
   ]
  },
  {
   "cell_type": "markdown",
   "id": "55044daa-133f-4b20-bdeb-4759ff490c7f",
   "metadata": {},
   "source": [
    "## Final annotation"
   ]
  },
  {
   "cell_type": "code",
   "execution_count": null,
   "id": "abdeb285-eae8-4d3a-a0ef-b468ecba0a68",
   "metadata": {},
   "outputs": [],
   "source": [
    "k1='mui_celltype_trangram_middle'\n",
    "k2='mui_celltype_trangram_fine'\n",
    "k3='crca_celltype_trangram_middle'\n",
    "k4='crca_celltype_trangram_fine'\n",
    "adata.obs['tangram_combined'] = adata.obs[k1].astype('str') + ' - ' + adata.obs[k2].astype('str') + ' | ' + adata.obs[k3].astype('str') + ' - ' +adata.obs[k4].astype('str')"
   ]
  },
  {
   "cell_type": "code",
   "execution_count": null,
   "id": "b1bb46c0-311b-4df7-ac6e-3330d044dac1",
   "metadata": {},
   "outputs": [],
   "source": [
    "topmarkers_dict = scp.rename_clusters_by_markers(adata, 'scvi130_nb_leiden_3.8_rank', n=7)\n",
    "adata.obs['topmarkers'] = adata.obs['scvi130_nb_leiden_3.8'].astype('str').map(topmarkers_dict)\n",
    "adata.obs['scvi130_nb_leiden_3.8_anno_notes'] = adata.obs['tangram_combined'] + ' | ' + adata.obs['topmarkers']"
   ]
  },
  {
   "cell_type": "code",
   "execution_count": null,
   "id": "492c91c4-b207-46ef-8860-3b826992bdf9",
   "metadata": {},
   "outputs": [],
   "source": [
    "tangram_dict = dict(zip(adata.obs['scvi130_nb_leiden_3.8'], adata.obs['scvi130_nb_leiden_3.8_anno_notes']))\n",
    "tangram_dict = dict(sorted(tangram_dict.items()))"
   ]
  },
  {
   "cell_type": "code",
   "execution_count": null,
   "id": "3d72c104-ecfb-440f-8353-7503c40d8d72",
   "metadata": {},
   "outputs": [],
   "source": [
    "confmat = pd.crosstab(adata.obs['tissue_region'], adata.obs['scvi130_nb_leiden_3.8'])\n",
    "confmat = confmat.div(confmat.sum(axis=0), axis=1)\n",
    "with mpl.rc_context({'font.size': 5, 'xtick.labelsize': 8, 'ytick.labelsize': 8}):\n",
    "    plt.figure(figsize=(17, 2))\n",
    "    plt.grid(False)\n",
    "    sns.heatmap(confmat, annot=True, cmap='Blues')"
   ]
  },
  {
   "cell_type": "code",
   "execution_count": null,
   "id": "17cfcd2d-1503-4021-8544-b5bfbc0f7e38",
   "metadata": {},
   "outputs": [],
   "source": [
    "adata.obs['anno_notes'] = adata.obs['scvi130_nb_leiden_3.8'].map(tangram_dict).astype('category')"
   ]
  },
  {
   "cell_type": "code",
   "execution_count": null,
   "id": "99a2d467-c98c-40ca-8d4d-a3d2f65080c5",
   "metadata": {},
   "outputs": [],
   "source": [
    "anno_dict = {\n",
    " 0: 'Cancer cell', # 'Cancer stem-like - Cancer TA-like | Cancer cell - Cancer TA-like | AREG-CD47-MET-CCND1-ERBB3-MKI67-STMN1',\n",
    " 1: 'Plasma cell', # 'Plasma IgG - Plasma IgG | Plasma cell - Plasma IgG | IGHG1-IGHGP-IGHG4-IGHG2-IGHG3-IGKC-JCHAIN',\n",
    " 2: 'Smooth muscle cell', # 'Endothelial cell - Pericyte | Pericyte - Pericyte | ACTA2-SPARCL1-ACTB-C1S-IGFBP7-RGS5-C1R',\n",
    " 3: 'Epithelial cell', # 'Epithelial cell - Goblet | Epithelial cell - Colonocyte | CCL28-REG4-EPCAM-CDX1-JCHAIN-TFF3-ERBB2',\n",
    " 4: 'Endothelial cell', # 'Endothelial cell - Endothelial arterial | Endothelial cell - Endothelial arterial | IGFBP7-RGS5-SPARC-PLVAP-A2M-FLT1-SPARCL1',\n",
    " 5: 'Cancer or epithelial cell', # 'Cancer non-stem-like - TA progenitor | Epithelial cell - Colonocyte | EPCAM-CEACAM6-REG4-TFF3-MUC5AC-CEACAM8-IFNL1',\n",
    " 6: 'T cell', # 'T cell CD4 - CD4 | CD4 - CD8 stem-like | CD2-CD3E-IL7R-CORO1A-IL2RB-PTPRC-CD3D',\n",
    " 7: 'Cancer cell', # 'Cancer stem-like - TA progenitor | Epithelial progenitor - TA progenitor | TFF3-XBP1-C1QBP-CEACAM8-CD44-NOTCH1-CTNNB1',\n",
    " 8: 'Fibroblast', # 'Stromal cell - Fibroblast S3 | Fibroblast - Fibroblast S3 | LUM-FN1-SPARC-IGFBP7-VCAN-DCN-C1S',\n",
    " 9: 'Plasma cell', # 'Plasma IgA - Plasma IgA | Plasma cell - Plasma IgA | JCHAIN-IGKC-SSR4-MZB1-IRF4-FKBP11-DERL3',\n",
    " 10: 'Macrophage', # 'Macrophage - Macrophage | Macrophage - Macrophage | CD74-MPEG1-CTSD-CD163-CD4-APOE-PLA2G7',\n",
    " 11: 'Fibroblast', # 'Plasma IgA - Fibroblast S1 | Fibroblast - Fibroblast S1 | JCHAIN-IGKC-CXCL14-A2M-C1S-CXCL12-PDGFRA',\n",
    " 12: 'Cancer cell', # 'Cancer non-stem-like - Cancer Goblet-like | Goblet - Goblet | TFF3-REG4-XBP1-MUC5AC-CEACAM6-SOX9-CD44',\n",
    " 13: 'Cancer cell', # 'Cancer stem-like - TA progenitor | Cancer cell - Cancer Crypt-like | C1QBP-SOX9-CCL20-TUBA1B-IFITM3-TP53-MKI67',\n",
    " 14: 'Cancer cell', # 'Cancer stem-like - Cancer Crypt-like | Cancer cell - Cancer Crypt-like | LAMP2-PRDX4-ERBB3-CCL20-CDX2-VEGFA-IRF8',\n",
    " 15: 'B cell', # 'B cell - B cell activated | B cell - B cell activated | MS4A1-FCMR-IGHM-TNFRSF13C-CD74-CD79A-BANK1',\n",
    " 16: 'Neutrophil', # 'Neutrophil - TAN1 | Neutrophil - Neutrophil | S100A9-G0S2-ITGAX-IL1B-SOCS3-PLEK-FCGR2A',\n",
    " 17: 'Cancer cell', # 'Cancer stem-like - Cancer TA-like | Cancer cell - Cancer Colonocyte-like | CXCL3-CXCL1-IFITM3-HLA-B-CD74-AREG-ERBB3',\n",
    " 18: 'Cancer cell', # 'Cancer stem-like - Cancer Crypt-like | Cancer cell - Cancer Crypt-like | RNF43-TFF3-CEACAM6-VEGFA-CD44-CEACAM1-CEACAM8',\n",
    " 19: 'Cancer cell', # 'Cancer stem-like - Cancer Crypt-like | Cancer cell - Cancer Crypt-like | CEACAM6-CDX2-VEGFA-CEACAM8-ERBB3-FN1-CEACAM1',\n",
    " 20: 'Macrophage', # 'Macrophage - Macrophage | Macrophage - Macrophage | CD74-CD163-MPEG1-CSF1R-CD4-FCGR2A-IL10RA',\n",
    " 21: 'Cancer cell', # 'Cancer stem-like - Cancer TA-like | Cancer cell - Cancer TA-like | CEACAM6-CDX2-CEACAM8-UBE2C-HLA-B-VEGFA-CXCL3',\n",
    " 22: 'Cancer cell', # 'Cancer non-stem-like - Cancer Colonocyte-like | Epithelial cell - Cancer Colonocyte-like | CEACAM1-CEACAM6-SOX9-CEACAM8-VEGFA-TMPRSS2-TFF3',\n",
    " 23: 'Cancer cell', # 'Cancer stem-like - Cancer Crypt-like | CRLM - Cancer TA-like | IFITM3-AREG-CEACAM1-TFF3-CEACAM8-CEACAM6-RNF43',\n",
    " 24: 'Fibroblast', # 'Stromal cell - Fibroblast S3 | Fibroblast - Fibroblast S2 | IGFBP7-CXCL14-LUM-SPARC-VCAN-C1R-C1S',\n",
    " 25: 'Fibroblast', # 'Stromal cell - Fibroblast S3 | Fibroblast - Fibroblast S2 | IGFBP7-LUM-SPARC-CXCL14-C1S-ACTA2-DCN',\n",
    " 26: 'Epithelial cell', # 'Epithelial cell - TA progenitor | Epithelial cell - TA progenitor | EPCAM-CDX2-CDX1-XBP1-ERBB2-C1QBP-ERBB3',\n",
    " 27: 'Plasma cell', # 'Plasma IgG - Plasma IgG | Plasma cell - Plasma IgG | IGKC-IGHG1-IGHGP-LUM-IGHG4-IGFBP7-IGHG2',\n",
    " 28: 'Fibroblast', # 'T cell CD4 - Treg | CD4 - Treg | LUM-DCN-C1S-SPARC-IGFBP7-C1R-VCAN',\n",
    " 29: 'Cancer cell', # 'Cancer stem-like - Cancer Crypt-like | Cancer cell - Cancer Crypt-like | NOTCH1-SDC1-RNF43-SOX9-ID1-CD47-CDX2',\n",
    " 30: 'Fibroblast', # 'Stromal cell - Fibroblast S3 | Fibroblast - Fibroblast S3 | DCN-MGP-LUM-C1S-C1R-CXCL12-VCAN',\n",
    " 31: 'Cancer cell', # 'Cancer stem-like - Cancer Crypt-like | CRLM - Cancer Crypt-like | FN1-RNF43-CTNNB1-VEGFA-IFITM3-CDKN1B-STMN1',\n",
    " 32: 'Cancer cell', # 'Cancer stem-like - Cancer Colonocyte-like | Cancer cell - Cancer Crypt-like | CCND1-CTNNB1-RNF43-LAMP1-EPCAM-ERBB2-SDC1',\n",
    " 33: 'Cancer cell', # 'Cancer stem-like - Cancer Colonocyte-like | CRLM - Cancer Colonocyte-like | VEGFA-EPCAM-CEACAM6-CEACAM1-CEACAM8-TFF3-CDX2',\n",
    " 34: 'Endothelial cell', # 'Endothelial cell - Endothelial arterial | Endothelial cell - Endothelial arterial | PLVAP-SPARCL1-IGFBP7-A2M-FLT1-RGS5-IFITM3',\n",
    " 35: 'Epithelial cell', # 'Epithelial cell - Colonocyte | Epithelial cell - Colonocyte | TMPRSS2-CEACAM1-CEACAM8-CEACAM6-CCL28-CDKN2B-ANPEP',\n",
    " 36: 'Cancer cell', # 'Cancer non-stem-like - Cancer Goblet-like | Cancer cell - Cancer TA-like | REG4-SOX9-CXCL14-EPCAM-LAMP1-PTEN-CTSD',\n",
    " 37: 'Cancer or epithelial cell', # 'Cancer non-stem-like - Goblet | Goblet - Goblet | XBP1-EPCAM-TFF3-REG4-CEACAM6-MUC5AC-CDX2',\n",
    " 38: 'Cancer cell', # 'Cancer non-stem-like - Cancer Colonocyte-like | Epithelial cell - Colonocyte BEST4 | DMBT1-TMPRSS2-TFF3-CCL28-CEACAM1-CCL20-ERBB2',\n",
    " 39: 'Cancer cell', # 'Cancer non-stem-like - Cancer Colonocyte-like | Epithelial cell - Cancer Colonocyte-like | SOX9-CEACAM6-CEACAM8-CEACAM1-MET-TMPRSS2-STAT1',\n",
    " 40: 'Macrophage', # 'Macrophage - Macrophage | Macrophage - Monocyte non-classical | CTSD-APOE-MMP12-CD74-ITGAX-CD68-FCGR2B',\n",
    " 41: 'Cancer cell', # 'Cancer stem-like - Cancer Colonocyte-like | Cancer cell - Cancer Colonocyte-like | CEACAM6-CEACAM8-MX1-IFITM3-ACE2-RNF43-CEACAM1',\n",
    " 42: 'Cancer cell', # 'Cancer stem-like - TA progenitor | Cancer cell - TA progenitor | C1QBP-CTNNB1-CCND1-CDX2-TP53-ACTB-SOX9',\n",
    " 43: 'Cancer cell', # 'Cancer stem-like - Cancer Colonocyte-like | Cancer cell - Colonocyte | VEGFA-EPCAM-CDX2-TMPRSS2-ID1-CEACAM1-ID2',\n",
    " 44: 'T cell', # 'Cancer stem-like - gamma-delta | Cancer cell - CD8 | CD2-CD3E-IL2RB-ITGAE-GZMA-CD8A-CCL5',\n",
    " 45: 'Macrophage', # 'Stromal cell - Macrophage | Fibroblast - Macrophage | CTSD-SPARC-CD74-FN1-APOE-IGFBP7-LUM',\n",
    " 46: 'Dendritic cell', # 'Endothelial cell - cDC1 | Endothelial cell - cDC2 | CD74-MPEG1-ITGAX-IL10RA-CD4-AIF1-CSF1R',\n",
    " 47: 'Fibroblast', # 'Cancer non-stem-like - CD8 | Epithelial cell - Fibroblast S3 | SPARC-LUM-IGFBP7-FN1-VCAN-ACTA2-C1S',\n",
    " 48: 'Mast cell', # 'Mast cell - Mast cell | Mast cell - Tuft | CPA3-KIT-MS4A2-GATA2-HPGDS-IGKC-P2RX1',\n",
    " 49: 'Cancer cell', # 'Cancer stem-like - Cancer Crypt-like | Cancer cell - Cancer Crypt-like | NOTCH1-RNF43-ERBB2-CD44-CTNNB1-EPCAM-SYK',\n",
    " 50: 'Schwann cell', # 'Stromal cell - Schwann cell | Fibroblast - Schwann cell | S100B-SPARC-SPARCL1-IGFBP7-NCAM1-C1R-C1S',\n",
    " 51: 'Endothelial cell', # 'Macrophage - Endothelial venous | Macrophage - Endothelial venous | CCL21-IGFBP7-IFITM3-TGFB1-A2M-NOTCH1-MGP',\n",
    " 52: 'Cancer cell', # 'Cancer stem-like - Cancer Colonocyte-like | Cancer cell - Cancer Colonocyte-like | ACTB-CEACAM6-LIF-CCND1-SMAD3-CEACAM8-CDKN2B',\n",
    " 53: 'Epithelial cell', # 'Epithelial cell - Colonocyte BEST4 | Epithelial cell - Colonocyte BEST4 | CCL20-SPIB-IL2RG-TMPRSS2-CCL15-VSIR-JAK2',\n",
    " 54: 'Macrophage', # 'Macrophage - Cancer Crypt-like | Macrophage - Macrophage cycling | ITGAX-CCND1-RNF43-TUBA1B-CTNNB1-PLA2G7-S100A9'\n",
    "}"
   ]
  },
  {
   "cell_type": "code",
   "execution_count": null,
   "id": "923ff105-b87a-47a8-8603-0e8daef86db4",
   "metadata": {},
   "outputs": [],
   "source": [
    "anno_dict_sub = scp.add_suffixes(anno_dict)"
   ]
  },
  {
   "cell_type": "code",
   "execution_count": null,
   "id": "1ccb3a64-22ea-4f6f-a802-3b4b646b1688",
   "metadata": {},
   "outputs": [],
   "source": [
    "adata.obs['celltype'] = adata.obs['scvi130_nb_leiden_3.8'].map(anno_dict).astype('category')\n",
    "adata.obs['celltype_sub'] = adata.obs['scvi130_nb_leiden_3.8'].map(anno_dict_sub).astype('category')"
   ]
  },
  {
   "cell_type": "code",
   "execution_count": null,
   "id": "e2a05470-020e-42d8-9440-3f925c37d73a",
   "metadata": {},
   "outputs": [],
   "source": [
    "# reassign mixed clusters\n",
    "adata.obs['celltype'] = adata.obs['celltype'].astype(str)\n",
    "ix = (adata.obs['celltype'] == 'Cancer or epithelial cell') & (adata.obs['tissue_region'] == 'normal')\n",
    "adata.obs.loc[ix, 'celltype'] = 'Epithelial cell'\n",
    "ix = (adata.obs['celltype'] == 'Cancer or epithelial cell') & (adata.obs['tissue_region'] != 'normal')\n",
    "adata.obs.loc[ix, 'celltype'] = 'Cancer cell'\n",
    "adata.obs['celltype'] = adata.obs['celltype'].astype('category')"
   ]
  },
  {
   "cell_type": "code",
   "execution_count": null,
   "id": "fce2c586-5805-4db3-b214-7a850c8d50d6",
   "metadata": {},
   "outputs": [],
   "source": [
    "adata.obs['celltype'].value_counts()"
   ]
  },
  {
   "cell_type": "code",
   "execution_count": null,
   "id": "68894b2e-8b58-47b3-a450-a6bb68bacf9b",
   "metadata": {},
   "outputs": [],
   "source": [
    "fig, ax = plt.subplots(1, 1, figsize=(15, 3))\n",
    "sc.tl.dendrogram(adata, groupby='celltype', use_rep='scvi130')\n",
    "sc.pl.dendrogram(adata, groupby='celltype', ax=ax)\n",
    "fig.savefig(os.path.join(resultsdir, 'dendrogram_celltype.jpg'), dpi=300, bbox_inches='tight')"
   ]
  },
  {
   "cell_type": "code",
   "execution_count": null,
   "id": "bdc7b0a5-d178-4aa9-8717-335c7ebf25fc",
   "metadata": {},
   "outputs": [],
   "source": [
    "fig, ax = plt.subplots(1, 1, figsize=(15, 3))\n",
    "sc.tl.dendrogram(adata, groupby='celltype_sub', use_rep='scvi130')\n",
    "sc.pl.dendrogram(adata, groupby='celltype_sub', ax=ax)\n",
    "fig.savefig(os.path.join(resultsdir, 'dendrogram_celltype_sub.jpg'), dpi=300, bbox_inches='tight')"
   ]
  },
  {
   "cell_type": "code",
   "execution_count": null,
   "id": "22427c5c-63d1-432f-b8c5-0b272f8dfef5",
   "metadata": {},
   "outputs": [],
   "source": [
    "scp.plot_composition(adata.obs, group_key='celltype', composition_key='segm_meth', width=3, height=6, save=os.path.join(resultsdir, 'composition_segm_meth.jpeg'))\n",
    "scp.plot_composition(adata.obs, group_key='celltype', composition_key='tissue_region', width=3, height=6, save=os.path.join(resultsdir, 'composition_tissue_region.jpeg'))\n",
    "scp.plot_composition(adata.obs, group_key='patient_id', composition_key='celltype', width=10, height=6, save=os.path.join(resultsdir, 'composition_celltype.jpeg'))"
   ]
  },
  {
   "cell_type": "code",
   "execution_count": null,
   "id": "523b7445-ae99-4c85-8f4a-6e865714727b",
   "metadata": {},
   "outputs": [],
   "source": [
    "sc.tl.rank_genes_groups(adata, layer='norm', key_added='celltype_rank', groupby='celltype', method='wilcoxon')\n",
    "sc.pl.rank_genes_groups_dotplot(adata, key='celltype_rank', n_genes=6, layer='norm', min_logfoldchange=0.5, dendrogram=False, save='celltype_markers.png')"
   ]
  },
  {
   "cell_type": "code",
   "execution_count": null,
   "id": "9b0ac48b-c5da-406c-9e6b-3c774c1844e8",
   "metadata": {},
   "outputs": [],
   "source": [
    "colors = {\n",
    "    'Cancer cell': '#f54733',\n",
    "    'Epithelial cell': '#b83d4a',\n",
    "    'T cell': '#ff9d00',\n",
    "    'Macrophage': '#f0dd0c',\n",
    "    'Fibroblast': '#00bdad',\n",
    "    'Plasma cell': '#19449c',\n",
    "    'B cell': '#607bcc',\n",
    "    'Schwann cell': '#8eaba6',\n",
    "    'Dendritic cell': '#ff7fbf',\n",
    "    'Neutrophil': '#FF3CFE',\n",
    "    'Endothelial cell': '#911a62',\n",
    "    'Smooth muscle cell': '#db959a',\n",
    "    'Mast cell': '#c0d490',\n",
    "    'Pericyte': '#4b9b83',\n",
    "    'None': '#ECECEC'\n",
    "}\n",
    "adata.uns['colors'] = {'celltype': colors}"
   ]
  },
  {
   "cell_type": "code",
   "execution_count": null,
   "id": "bcb3864b-131a-40de-9ce6-ef44da9e037b",
   "metadata": {},
   "outputs": [],
   "source": [
    "plt.figure(figsize=(8, 6))\n",
    "for i, (cell_type, color) in enumerate(colors.items()):\n",
    "    plt.barh(i, 1, color=color)\n",
    "    plt.text(1.05, i, cell_type, va='center', ha='left', fontsize=12)\n",
    "plt.axis('off')\n",
    "plt.show()"
   ]
  },
  {
   "cell_type": "code",
   "execution_count": null,
   "id": "83e4d5f2-abbd-4686-acce-055bef247e96",
   "metadata": {},
   "outputs": [],
   "source": [
    "adata.write_h5ad(os.path.join(datadir, 'crc_ffpe_anno.h5ad'))"
   ]
  },
  {
   "cell_type": "code",
   "execution_count": null,
   "id": "ae22ee40-5caa-40d6-a756-fefffc731dc2",
   "metadata": {},
   "outputs": [],
   "source": [
    "sdata = sd.read_zarr(os.path.join(datadir, 'crca_xenium.zarr'))\n",
    "sdata['anno'] = adata\n",
    "sdata = spp.match_ids(sdata, ['cell_boundaries'], table_key='anno')\n",
    "sdata.tables['anno'].obs['region'] = 'cell_boundaries'\n",
    "sdata.set_table_annotates_spatialelement('anno', region_key='region', region='cell_boundaries')\n",
    "sdata.delete_element_from_disk('anno')\n",
    "sdata.write_element('anno', overwrite=True)"
   ]
  }
 ],
 "metadata": {
  "kernelspec": {
   "display_name": "crca-spatial",
   "language": "python",
   "name": "crca-spatial"
  },
  "language_info": {
   "codemirror_mode": {
    "name": "ipython",
    "version": 3
   },
   "file_extension": ".py",
   "mimetype": "text/x-python",
   "name": "python",
   "nbconvert_exporter": "python",
   "pygments_lexer": "ipython3",
   "version": "3.11.9"
  }
 },
 "nbformat": 4,
 "nbformat_minor": 5
}
