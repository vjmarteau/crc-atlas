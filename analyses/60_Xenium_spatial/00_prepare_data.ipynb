{
 "cells": [
  {
   "cell_type": "code",
   "execution_count": null,
   "id": "182ac803-f953-48f3-94b4-826225701ecc",
   "metadata": {},
   "outputs": [],
   "source": [
    "import numpy as np\n",
    "import pandas as pd\n",
    "import os\n",
    "import sys\n",
    "import matplotlib as mpl\n",
    "import matplotlib.pyplot as plt\n",
    "import matplotlib.patches as patches\n",
    "import seaborn as sns\n",
    "import scanpy as sc\n",
    "import squidpy as sq\n",
    "import spatialdata as sd\n",
    "import spatialdata_io as sdio\n",
    "import spatialdata_plot\n",
    "\n",
    "from joblib import Parallel, delayed\n",
    "\n",
    "from spatialdata.transformations import (\n",
    "        Affine,\n",
    "        Identity,\n",
    "        MapAxis,\n",
    "        Scale,\n",
    "        Sequence,\n",
    "        Translation,\n",
    "        get_transformation,\n",
    "        get_transformation_between_coordinate_systems,\n",
    "        set_transformation,\n",
    "    )\n",
    "\n",
    "prjdir = os.path.abspath(os.path.join(os.getcwd(), '../..'))\n",
    "if prjdir not in sys.path:\n",
    "    sys.path.append(prjdir)\n",
    "\n",
    "n_jobs=32\n",
    "sc.settings.n_jobs=n_jobs\n",
    "sc.set_figure_params(dpi=100, frameon=True, vector_friendly=True, fontsize=10)\n",
    "\n",
    "from matplotlib.colors import LinearSegmentedColormap\n",
    "cmap = LinearSegmentedColormap.from_list('grey_to_blue', ['lightgrey', 'mediumblue'])\n",
    "\n",
    "import warnings\n",
    "from warnings import simplefilter\n",
    "simplefilter(action=\"ignore\", category=pd.errors.PerformanceWarning)"
   ]
  },
  {
   "cell_type": "code",
   "execution_count": null,
   "id": "6e1bce30-c5d4-4a5c-a07f-75f06061fc25",
   "metadata": {},
   "outputs": [],
   "source": [
    "%load_ext autoreload\n",
    "%autoreload 2\n",
    "import src.spatial_helpers.spatial as spp\n",
    "import src.spatial_helpers.spatialplot as spl\n",
    "import src.spatial_helpers.sc as scp\n",
    "scp.set_all_seeds()"
   ]
  },
  {
   "cell_type": "code",
   "execution_count": null,
   "id": "ae93b816-5e1f-4e29-b82e-8f3dab6ab322",
   "metadata": {},
   "outputs": [],
   "source": [
    "rawdir = '../../data/public/bioimagearchive' # raw data dir (with subdirs crca_xenium_slide1, crca_xenium_slide2, ...)\n",
    "samplesdir = '../../data/xenium_samples' # dir to save single samples\n",
    "datadir = '../../data/xenium_merged' # dir to save generated data\n",
    "resultsdir = '../../data/xenium_results' # dir to save results\n",
    "os.makedirs(resultsdir, exist_ok=True)"
   ]
  },
  {
   "cell_type": "markdown",
   "id": "7a017b6e-d415-4b7b-a095-43da342585ce",
   "metadata": {},
   "source": [
    "## Import data and save individual samples"
   ]
  },
  {
   "cell_type": "code",
   "execution_count": null,
   "id": "d36bdf57-38fe-434f-8c54-59d724400393",
   "metadata": {},
   "outputs": [],
   "source": [
    "from spatialdata_io._constants._constants import XeniumKeys\n",
    "channel_names = {\n",
    "        0: XeniumKeys.MORPHOLOGY_FOCUS_CHANNEL_0,\n",
    "        1: XeniumKeys.MORPHOLOGY_FOCUS_CHANNEL_1,\n",
    "        2: XeniumKeys.MORPHOLOGY_FOCUS_CHANNEL_2,\n",
    "        3: XeniumKeys.MORPHOLOGY_FOCUS_CHANNEL_3,\n",
    "        4: 'dummy',\n",
    "    }\n",
    "image_models_kwargs = {}\n",
    "image_models_kwargs['c_coords'] = list(channel_names.values())"
   ]
  },
  {
   "cell_type": "markdown",
   "id": "479f504a-5cd4-4312-a91e-96488540566f",
   "metadata": {},
   "source": [
    "### Run 1 (Slides 1 & 2)"
   ]
  },
  {
   "cell_type": "code",
   "execution_count": null,
   "id": "8cc9f20a-ab4b-42cd-b6e3-c3257a189f92",
   "metadata": {},
   "outputs": [],
   "source": [
    "sample_out = 'slide1_region1'\n",
    "sdata = sdio.xenium(os.path.join(rawdir, 'crca_xenium_slide1', sample_out), morphology_focus=False, cells_as_circles=True, n_jobs=n_jobs)\n",
    "morphology_focus = os.path.join(rawdir, 'crca_xenium_slide1', sample_out, XeniumKeys.MORPHOLOGY_FOCUS_DIR, XeniumKeys.MORPHOLOGY_FOCUS_CHANNEL_IMAGE.format(0))\n",
    "sdata.images['morphology_focus'] = sdio.xenium_aligned_image(morphology_focus, image_models_kwargs=image_models_kwargs, alignment_file=None)\n",
    "sdata.shapes['sample_area'] = spp.import_shapes(os.path.join(rawdir, 'crca_xenium_slide1', 'slide1_region1_coordinates.csv'))\n",
    "sdata = spp.shapes_to_cells(sdata, shapes='sample_area', key='sample_id', n_cores=n_jobs)\n",
    "sdata['table'].obs['run'] = 1\n",
    "sdata['table'].obs['slide'] = 1\n",
    "sdata['table'].obs['sample_id'].value_counts()\n",
    "spp.save_subset_shapes(sdata, shapes='sample_area', samplesdir=samplesdir, coordinate_system='global', n_jobs=4)"
   ]
  },
  {
   "cell_type": "code",
   "execution_count": null,
   "id": "be492ca5-9eae-4caf-9507-96ce225d55ac",
   "metadata": {},
   "outputs": [],
   "source": [
    "sample_out = 'slide1_region2'\n",
    "sdata = sdio.xenium(os.path.join(rawdir, 'crca_xenium_slide1', sample_out), morphology_focus=False, cells_as_circles=True, n_jobs=n_jobs)\n",
    "morphology_focus = os.path.join(rawdir, 'crca_xenium_slide1', sample_out, XeniumKeys.MORPHOLOGY_FOCUS_DIR, XeniumKeys.MORPHOLOGY_FOCUS_CHANNEL_IMAGE.format(0))\n",
    "sdata.images['morphology_focus'] = sdio.xenium_aligned_image(morphology_focus, image_models_kwargs=image_models_kwargs, alignment_file=None)\n",
    "sdata.shapes['sample_area'] = spp.import_shapes(os.path.join(rawdir, 'crca_xenium_slide1', 'slide1_region2_coordinates.csv'))\n",
    "sdata = spp.shapes_to_cells(sdata, shapes='sample_area', key='sample_id', n_cores=n_jobs)\n",
    "sdata['table'].obs['run'] = 1\n",
    "sdata['table'].obs['slide'] = 1\n",
    "sdata['table'].obs['sample_id'].value_counts()\n",
    "spp.save_subset_shapes(sdata, shapes='sample_area', samplesdir=samplesdir, coordinate_system='global', n_jobs=1)"
   ]
  },
  {
   "cell_type": "code",
   "execution_count": null,
   "id": "25a3a2f2-a382-4a06-af2f-0a45d129b1e4",
   "metadata": {},
   "outputs": [],
   "source": [
    "sample_out = 'slide2_region1'\n",
    "sdata = sdio.xenium(os.path.join(rawdir, 'crca_xenium_slide2', sample_out), morphology_focus=False, cells_as_circles=True, n_jobs=n_jobs)\n",
    "morphology_focus = os.path.join(rawdir, 'crca_xenium_slide2', sample_out, XeniumKeys.MORPHOLOGY_FOCUS_DIR, XeniumKeys.MORPHOLOGY_FOCUS_CHANNEL_IMAGE.format(0))\n",
    "sdata.images['morphology_focus'] = sdio.xenium_aligned_image(morphology_focus, image_models_kwargs=image_models_kwargs, alignment_file=None)\n",
    "sdata.shapes['sample_area'] = spp.import_shapes(os.path.join(rawdir, 'crca_xenium_slide2', 'slide2_region1_coordinates.csv'))\n",
    "sdata = spp.shapes_to_cells(sdata, shapes='sample_area', key='sample_id', n_cores=n_jobs)\n",
    "sdata['table'].obs['run'] = 1\n",
    "sdata['table'].obs['slide'] = 2\n",
    "sdata['table'].obs['sample_id'].value_counts()\n",
    "spp.save_subset_shapes(sdata, shapes='sample_area', samplesdir=samplesdir, coordinate_system='global', n_jobs=1)"
   ]
  },
  {
   "cell_type": "markdown",
   "id": "cd93701a-a668-483e-953a-c37e1a197a0e",
   "metadata": {},
   "source": [
    "### Run 2 (Slides 3 & 4)"
   ]
  },
  {
   "cell_type": "code",
   "execution_count": null,
   "id": "7b9a99dd-496d-4ecc-ace1-6de6cf1d688b",
   "metadata": {},
   "outputs": [],
   "source": [
    "samples_dict_1 = {\n",
    "    '0': {'ID': 'run2_crc_d_c', 'sample_id': 'crc_d_c', 'channels': channel_names, 'dir': os.path.join(rawdir, 'crca_xenium_slide3')},\n",
    "    '1': {'ID': 'run2_crc_f_n', 'sample_id': 'crc_f_n', 'channels': channel_names, 'dir': os.path.join(rawdir, 'crca_xenium_slide3')},\n",
    "    '2': {'ID': 'run2_crc_d_n', 'sample_id': 'crc_d_n', 'channels': channel_names, 'dir': os.path.join(rawdir, 'crca_xenium_slide3')},\n",
    "    '3': {'ID': 'run2_crc_e_m', 'sample_id': 'crc_e_m', 'channels': channel_names, 'dir': os.path.join(rawdir, 'crca_xenium_slide3')},\n",
    "    '4': {'ID': 'run2_crc_d_m', 'sample_id': 'crc_d_m', 'channels': channel_names, 'dir': os.path.join(rawdir, 'crca_xenium_slide3')},\n",
    "    '5': {'ID': 'run2_crc_e_c', 'sample_id': 'crc_e_c', 'channels': channel_names, 'dir': os.path.join(rawdir, 'crca_xenium_slide3')},\n",
    "    '6': {'ID': 'run2_crc_e_n', 'sample_id': 'crc_e_n', 'channels': channel_names, 'dir': os.path.join(rawdir, 'crca_xenium_slide3')},\n",
    "    '7': {'ID': 'run2_crc_f_c', 'sample_id': 'crc_f_c', 'channels': channel_names, 'dir': os.path.join(rawdir, 'crca_xenium_slide3')}\n",
    "}"
   ]
  },
  {
   "cell_type": "code",
   "execution_count": null,
   "id": "f05e8850-53e5-41a1-ab9a-0d030370d13a",
   "metadata": {},
   "outputs": [],
   "source": [
    "def read_sample(sample_info):\n",
    "    from spatialdata_io._constants._constants import XeniumKeys\n",
    "    image_models_kwargs = {}\n",
    "    image_models_kwargs['c_coords'] = list(sample_info['channels'].values())\n",
    "    sample_path = os.path.join(sample_info['dir'], sample_info['ID'])\n",
    "    sdata = sdio.xenium(sample_path, morphology_focus=False, cells_as_circles=True, n_jobs=sc.settings.n_jobs)\n",
    "    morphology_focus = os.path.join(sample_path, XeniumKeys.MORPHOLOGY_FOCUS_DIR, XeniumKeys.MORPHOLOGY_FOCUS_CHANNEL_IMAGE.format(0))\n",
    "    sdata.images['morphology_focus'] = sdio.xenium_aligned_image(morphology_focus, image_models_kwargs=image_models_kwargs, alignment_file=None)\n",
    "    sdata['table'].obs['sample_id'] = sample_info['sample_id']\n",
    "    sdata['table'].obs['run'] = 2\n",
    "    sdata['table'].obs['slide'] = 3\n",
    "    sdata['sample_area'] = spp.get_enclosing_rect(sdata, name=sample_info['sample_id'])\n",
    "    return sample_info['sample_id'], sdata"
   ]
  },
  {
   "cell_type": "code",
   "execution_count": null,
   "id": "fb47fdf6-4ce7-467d-9d0c-89bdaa105cb0",
   "metadata": {},
   "outputs": [],
   "source": [
    "results = Parallel(n_jobs=n_jobs)(delayed(read_sample)(samples_dict_1[sample]) for sample in samples_dict_1)\n",
    "samples = {sample_id: sdata for sample_id, sdata in results}"
   ]
  },
  {
   "cell_type": "code",
   "execution_count": null,
   "id": "80e4e0b8-f3c1-4873-93c1-ae6aa7e1f784",
   "metadata": {},
   "outputs": [],
   "source": [
    "for s in list(samples):\n",
    "    samples[s].write(os.path.join(samplesdir, 'run2_' + s + '.zarr'), overwrite=True)"
   ]
  },
  {
   "cell_type": "code",
   "execution_count": null,
   "id": "686d09c3-9ca0-4dd5-a56a-98b9df22e5e5",
   "metadata": {},
   "outputs": [],
   "source": [
    "samples_dict_2 = {\n",
    "    '8': {'ID': 'run2_crc_h_c', 'sample_id': 'crc_h_c', 'channels': channel_names, 'dir': os.path.join(rawdir, 'crca_xenium_slide4')},\n",
    "    '9': {'ID': 'run2_crc_g_c', 'sample_id': 'crc_g_c', 'channels': channel_names, 'dir': os.path.join(rawdir, 'crca_xenium_slide4')},\n",
    "    '10': {'ID': 'run2_crc_i_c', 'sample_id': 'crc_i_c', 'channels': channel_names, 'dir': os.path.join(rawdir, 'crca_xenium_slide4')},\n",
    "    '11': {'ID': 'run2_crc_g_n', 'sample_id': 'crc_g_n', 'channels': channel_names, 'dir': os.path.join(rawdir, 'crca_xenium_slide4')},\n",
    "    '12': {'ID': 'run2_crc_f_m', 'sample_id': 'crc_f_m', 'channels': channel_names, 'dir': os.path.join(rawdir, 'crca_xenium_slide4')},\n",
    "    '13': {'ID': 'run2_crc_h_n', 'sample_id': 'crc_h_n', 'channels': channel_names, 'dir': os.path.join(rawdir, 'crca_xenium_slide4')},\n",
    "}"
   ]
  },
  {
   "cell_type": "code",
   "execution_count": null,
   "id": "9cb9cc17-48d3-4855-9d57-ebe3e72372cb",
   "metadata": {},
   "outputs": [],
   "source": [
    "def read_sample(sample_info):\n",
    "    from spatialdata_io._constants._constants import XeniumKeys\n",
    "    image_models_kwargs = {}\n",
    "    image_models_kwargs['c_coords'] = list(sample_info['channels'].values())\n",
    "    sample_path = os.path.join(sample_info['dir'], sample_info['ID'])\n",
    "    sdata = sdio.xenium(sample_path, morphology_focus=False, cells_as_circles=True, n_jobs=sc.settings.n_jobs)\n",
    "    morphology_focus = os.path.join(sample_path, XeniumKeys.MORPHOLOGY_FOCUS_DIR, XeniumKeys.MORPHOLOGY_FOCUS_CHANNEL_IMAGE.format(0))\n",
    "    sdata.images['morphology_focus'] = sdio.xenium_aligned_image(morphology_focus, image_models_kwargs=image_models_kwargs, alignment_file=None)\n",
    "    sdata['table'].obs['sample_id'] = sample_info['sample_id']\n",
    "    sdata['table'].obs['run'] = 2\n",
    "    sdata['table'].obs['slide'] = 4\n",
    "    sdata['sample_area'] = spp.get_enclosing_rect(sdata, name=sample_info['sample_id'])\n",
    "    return sample_info['sample_id'], sdata"
   ]
  },
  {
   "cell_type": "code",
   "execution_count": null,
   "id": "fbc829ae-9f25-4184-ae0d-785e594a473f",
   "metadata": {},
   "outputs": [],
   "source": [
    "results = Parallel(n_jobs=n_jobs)(delayed(read_sample)(samples_dict_2[sample]) for sample in samples_dict_2)\n",
    "samples = {sample_id: sdata for sample_id, sdata in results}"
   ]
  },
  {
   "cell_type": "code",
   "execution_count": null,
   "id": "e7cb4083-2011-446e-bcb1-f0bdc9d4bcd5",
   "metadata": {},
   "outputs": [],
   "source": [
    "for s in list(samples):\n",
    "    samples[s].write(os.path.join(samplesdir, 'run2_' + s + '.zarr'), overwrite=True)"
   ]
  },
  {
   "cell_type": "markdown",
   "id": "d98267bc-2843-47e4-8d62-c0189387c701",
   "metadata": {},
   "source": [
    "### Run 3 (Slides 5 & 6)"
   ]
  },
  {
   "cell_type": "markdown",
   "id": "f9c1531a-87e1-413b-8ae1-822f0ae91592",
   "metadata": {},
   "source": [
    "Slide 5"
   ]
  },
  {
   "cell_type": "code",
   "execution_count": null,
   "id": "267d42e6-de9a-4632-b0ca-49fff04df484",
   "metadata": {},
   "outputs": [],
   "source": [
    "sample_out = 'slide5_region1'\n",
    "sdata = sdio.xenium(os.path.join(rawdir, 'crca_xenium_slide5', sample_out), morphology_focus=False, cells_as_circles=True, n_jobs=n_jobs)"
   ]
  },
  {
   "cell_type": "code",
   "execution_count": null,
   "id": "ef879d54-3877-4b99-8ad0-c1a1095cc5ce",
   "metadata": {},
   "outputs": [],
   "source": [
    "morphology_focus = os.path.join(rawdir, 'crca_xenium_slide5', sample_out, XeniumKeys.MORPHOLOGY_FOCUS_DIR, XeniumKeys.MORPHOLOGY_FOCUS_CHANNEL_IMAGE.format(0))\n",
    "sdata.images['morphology_focus'] = sdio.xenium_aligned_image(morphology_focus, image_models_kwargs=image_models_kwargs, alignment_file=None)"
   ]
  },
  {
   "cell_type": "code",
   "execution_count": null,
   "id": "32e5ae14-cb48-4d3b-8251-77961d029fe2",
   "metadata": {},
   "outputs": [],
   "source": [
    "sdata.shapes['sample_area'] = spp.import_shapes(os.path.join(rawdir, 'crca_xenium_slide5', 'slide5_region1_coordinates.csv'))\n",
    "sdata = spp.shapes_to_cells(sdata, shapes='sample_area', key='sample_id', n_cores=n_jobs)"
   ]
  },
  {
   "cell_type": "code",
   "execution_count": null,
   "id": "10768b2b-514d-4f59-9f14-57883028916f",
   "metadata": {},
   "outputs": [],
   "source": [
    "sdata['table'].obs['run'] = 3\n",
    "sdata['table'].obs['slide'] = 5\n",
    "sdata['table'].obs['sample_id'].value_counts()"
   ]
  },
  {
   "cell_type": "code",
   "execution_count": null,
   "id": "cdb3665c-9288-484d-869f-9109dcafcccd",
   "metadata": {},
   "outputs": [],
   "source": [
    "ax = spl.spatialplot(sdata, figsize=(8,8), coordinate_system='global')\n",
    "sample_areas = sdata['sample_area']['name'].unique()\n",
    "for s in sample_areas:\n",
    "    polygon = sdata['sample_area'][sdata['sample_area']['name'] == s].geometry.iloc[0]\n",
    "    poly_patch = patches.Polygon(list(polygon.exterior.coords), linewidth=2, edgecolor='red', facecolor='none')\n",
    "    ax.add_patch(poly_patch)\n",
    "plt.show()"
   ]
  },
  {
   "cell_type": "code",
   "execution_count": null,
   "id": "d4062c01-2726-4feb-83b1-3c037101e4af",
   "metadata": {},
   "outputs": [],
   "source": [
    "spp.save_subset_shapes(sdata, shapes='sample_area', samplesdir=samplesdir, coordinate_system='global', n_jobs=1)"
   ]
  },
  {
   "cell_type": "markdown",
   "id": "b9acd08d-3e7e-4533-a11b-dc18b60dcc13",
   "metadata": {},
   "source": [
    "Slide 6"
   ]
  },
  {
   "cell_type": "code",
   "execution_count": null,
   "id": "2836e10d-d8f0-4c1c-ab56-36019bc2ff8f",
   "metadata": {},
   "outputs": [],
   "source": [
    "sample_out = 'slide6_region1'\n",
    "sdata = sdio.xenium(os.path.join(rawdir, 'crca_xenium_slide6', sample_out), morphology_focus=False, cells_as_circles=True, n_jobs=n_jobs)"
   ]
  },
  {
   "cell_type": "code",
   "execution_count": null,
   "id": "e09aa6eb-ef63-4ec2-8868-e6974cf50adc",
   "metadata": {},
   "outputs": [],
   "source": [
    "morphology_focus = os.path.join(rawdir, 'crca_xenium_slide6', sample_out, XeniumKeys.MORPHOLOGY_FOCUS_DIR, XeniumKeys.MORPHOLOGY_FOCUS_CHANNEL_IMAGE.format(0))\n",
    "sdata.images['morphology_focus'] = sdio.xenium_aligned_image(morphology_focus, image_models_kwargs=image_models_kwargs, alignment_file=None)"
   ]
  },
  {
   "cell_type": "code",
   "execution_count": null,
   "id": "45dd0b39-32ca-4afd-bffb-ed0bfaeb6977",
   "metadata": {},
   "outputs": [],
   "source": [
    "sdata.shapes['sample_area'] = spp.import_shapes(os.path.join(rawdir, 'crca_xenium_slide6', 'slide6_region1_coordinates.csv'))\n",
    "sdata = spp.shapes_to_cells(sdata, shapes='sample_area', key='sample_id', n_cores=n_jobs)"
   ]
  },
  {
   "cell_type": "code",
   "execution_count": null,
   "id": "40d6911f-85a5-482f-aa06-beee0fd25069",
   "metadata": {},
   "outputs": [],
   "source": [
    "sdata['table'].obs['run'] = 3\n",
    "sdata['table'].obs['slide'] = 6\n",
    "sdata['table'].obs['sample_id'].value_counts()"
   ]
  },
  {
   "cell_type": "code",
   "execution_count": null,
   "id": "b1daef28-a496-4240-9ddf-201a2c49bf96",
   "metadata": {},
   "outputs": [],
   "source": [
    "ax = spl.spatialplot(sdata, figsize=(8,8), coordinate_system='global')\n",
    "sample_areas = sdata['sample_area']['name'].unique()\n",
    "for s in sample_areas:\n",
    "    polygon = sdata['sample_area'][sdata['sample_area']['name'] == s].geometry.iloc[0]\n",
    "    poly_patch = patches.Polygon(list(polygon.exterior.coords), linewidth=2, edgecolor='red', facecolor='none')\n",
    "    ax.add_patch(poly_patch)\n",
    "plt.show()"
   ]
  },
  {
   "cell_type": "code",
   "execution_count": null,
   "id": "e124b191-fc99-457a-980e-d294dcf17e16",
   "metadata": {},
   "outputs": [],
   "source": [
    "spp.save_subset_shapes(sdata, shapes='sample_area', samplesdir=samplesdir, coordinate_system='global', n_jobs=1)"
   ]
  },
  {
   "cell_type": "markdown",
   "id": "ff1325ec-d79f-4326-8e49-bc00d56df373",
   "metadata": {},
   "source": [
    "## Combine samples from different runs"
   ]
  },
  {
   "cell_type": "markdown",
   "id": "efc4ac99-6949-4867-b004-5c1b5b6c3da7",
   "metadata": {},
   "source": [
    "### Load samples"
   ]
  },
  {
   "cell_type": "code",
   "execution_count": null,
   "id": "c2584b2d-adeb-4b89-b08a-9325d6c67c3a",
   "metadata": {},
   "outputs": [],
   "source": [
    "sample_dict = {\n",
    "    \n",
    "    # Run 1\n",
    "    'crc_a_c': 'run1_crc_a_c',\n",
    "    'crc_a_m': 'run1_crc_a_m',\n",
    "    'crc_b_c': 'run1_crc_b_c',\n",
    "    'crc_b_m': 'run1_crc_b_m',\n",
    "    'crc_c_c': 'run1_crc_c_c',\n",
    "    'crc_c_m': 'run1_crc_c_m',\n",
    "    'crc_d_c': 'run1_crc_d_c',\n",
    "    'crc_d_m': 'run1_crc_d_m',\n",
    "    'crc_o_c': 'run1_crc_o_c',\n",
    "    \n",
    "    # Run 2\n",
    "    'crc_e_n': 'run2_crc_e_n',\n",
    "    'crc_e_m': 'run2_crc_e_m',\n",
    "    'crc_e_c': 'run2_crc_e_c',\n",
    "    'crc_d_n': 'run2_crc_d_n',\n",
    "    'crc_f_n': 'run2_crc_f_n',\n",
    "    'crc_f_c': 'run2_crc_f_c',\n",
    "    'crc_f_m': 'run2_crc_f_m',\n",
    "    'crc_g_n': 'run2_crc_g_n',\n",
    "    'crc_g_c': 'run2_crc_g_c',\n",
    "    'crc_h_c': 'run2_crc_h_c',\n",
    "    'crc_i_c': 'run2_crc_i_c',\n",
    "\n",
    "    # Run 3\n",
    "    'crc_h_n': 'run3_crc_h_n',\n",
    "    'crc_i_n': 'run3_crc_i_n',\n",
    "    'crc_j_n': 'run3_crc_j_n',\n",
    "    'crc_j_m': 'run3_crc_j_m',\n",
    "    'crc_j_c': 'run3_crc_j_c',\n",
    "    'crc_k_n': 'run3_crc_k_n',\n",
    "    'crc_k_m': 'run3_crc_k_m',\n",
    "    'crc_k_c': 'run3_crc_k_c',\n",
    "    'crc_l_n': 'run3_crc_l_n',\n",
    "    'crc_l_m': 'run3_crc_l_m',\n",
    "    'crc_l_c': 'run3_crc_l_c',\n",
    "    'crc_m_n': 'run3_crc_m_n',\n",
    "    'crc_m_m': 'run3_crc_m_m',\n",
    "    'crc_m_c': 'run3_crc_m_c',\n",
    "    'crc_n_n': 'run3_crc_n_n',\n",
    "    'crc_n_m': 'run3_crc_n_m',\n",
    "    'crc_n_c': 'run3_crc_n_c',\n",
    "\n",
    "}\n",
    "\n",
    "samples = spp.load_samples(sample_dict, samplesdir, n_jobs=n_jobs)"
   ]
  },
  {
   "cell_type": "code",
   "execution_count": null,
   "id": "d540d029-9399-42f3-a8e0-ce6964e96e6c",
   "metadata": {},
   "outputs": [],
   "source": [
    "sample_files = [s + '.zarr' for s in list(sample_dict.values())]\n",
    "[file for file in sample_files if file not in os.listdir(samplesdir)]"
   ]
  },
  {
   "cell_type": "code",
   "execution_count": null,
   "id": "95109851-d8aa-4a2d-b42f-935d0c776eee",
   "metadata": {},
   "outputs": [],
   "source": [
    "sample_files = [s + '.zarr' for s in list(sample_dict.values())]\n",
    "[file for file in os.listdir(samplesdir) if file not in sample_files]"
   ]
  },
  {
   "cell_type": "markdown",
   "id": "ff74098d-54c9-4c92-8969-cdf225f9a37e",
   "metadata": {},
   "source": [
    "### Coordinate transformations"
   ]
  },
  {
   "cell_type": "code",
   "execution_count": null,
   "id": "20a2e49e-9a58-49eb-8447-2c50fb48f065",
   "metadata": {},
   "outputs": [],
   "source": [
    "### Centering\n",
    "with warnings.catch_warnings():\n",
    "    warnings.simplefilter(\"ignore\", UserWarning)\n",
    "    elements=['morphology_focus', 'cell_labels', 'nucleus_labels', 'cell_circles', 'transcripts', 'cell_boundaries', 'nucleus_boundaries'] # '\n",
    "    samples = spp.par_apply_coord_transformation(samples, elements, rotations=None, translations=None, target_coordinate_system='global', center=True, n_jobs=n_jobs)"
   ]
  },
  {
   "cell_type": "code",
   "execution_count": null,
   "id": "3021ab44-51dc-4386-83af-985427990b6b",
   "metadata": {},
   "outputs": [],
   "source": [
    "for s in samples:\n",
    "    elems = [s+'_morphology_focus', s+'_cell_labels', s+'_nucleus_labels', s+'_cell_circles', s+'_transcripts', s+'_cell_boundaries', s+'_nucleus_boundaries', s+'_sample_area']\n",
    "    samples[s] = spp.transform_xenium_coords(samples[s], coordinate_system_µm='global_µm', elements_px=elems, elements_μm=[])"
   ]
  },
  {
   "cell_type": "code",
   "execution_count": null,
   "id": "d0792ba2-70d0-4907-819d-87a84245061c",
   "metadata": {},
   "outputs": [],
   "source": [
    "### Rotations\n",
    "rotations = {\n",
    "    \n",
    "    # Run 1\n",
    "    'crc_a_c': 0,\n",
    "    'crc_a_m': 0,\n",
    "    'crc_b_c': 10,\n",
    "    'crc_b_m': 0,\n",
    "    'crc_c_c': 20,\n",
    "    'crc_c_m': 0,\n",
    "    'crc_d_c': 0,\n",
    "    'crc_d_m': 60,\n",
    "    'crc_o_c': 60,\n",
    "    \n",
    "    # Run 2\n",
    "    'crc_e_n': 0,\n",
    "    'crc_e_m': 0,\n",
    "    'crc_e_c': 0,\n",
    "    'crc_d_n': 0,\n",
    "    'crc_f_n': 10,\n",
    "    'crc_f_c': 355,\n",
    "    'crc_f_m': 0,\n",
    "    'crc_g_n': 85,\n",
    "    'crc_g_c': 0,\n",
    "    'crc_h_c': 0,\n",
    "    'crc_i_c': 45,\n",
    "\n",
    "    # Run 3\n",
    "    'crc_h_n': 90,\n",
    "    'crc_i_n': 275,\n",
    "    'crc_j_n': 5,\n",
    "    'crc_j_m': 0,\n",
    "    'crc_j_c': 0,\n",
    "    'crc_k_n': 15,\n",
    "    'crc_k_m': 30,\n",
    "    'crc_k_c': 20,\n",
    "    'crc_l_n': 0,\n",
    "    'crc_l_m': 10,\n",
    "    'crc_l_c': 10,\n",
    "    'crc_m_n': 350,\n",
    "    'crc_m_m': 15,\n",
    "    'crc_m_c': 325,\n",
    "    'crc_n_n': 0,\n",
    "    'crc_n_m': 0,\n",
    "    'crc_n_c': 355,\n",
    "\n",
    "}"
   ]
  },
  {
   "cell_type": "code",
   "execution_count": null,
   "id": "aaf167ba-84c6-4afe-81d2-8393bd5e574b",
   "metadata": {},
   "outputs": [],
   "source": [
    "all(key in rotations for key in samples)"
   ]
  },
  {
   "cell_type": "code",
   "execution_count": null,
   "id": "17fcd5e8-504d-43c5-bc9a-117361dc3b72",
   "metadata": {},
   "outputs": [],
   "source": [
    "with warnings.catch_warnings():\n",
    "    warnings.simplefilter(\"ignore\", UserWarning)\n",
    "    elements=['sample_area', 'cell_boundaries', 'cell_circles', 'transcripts', 'morphology_focus']\n",
    "    samples = spp.par_apply_coord_transformation(samples, elements, rotations=rotations, translations=None, target_coordinate_system='rot_µm', prior_coordinate_system='global_µm', center=True, n_jobs=n_jobs)"
   ]
  },
  {
   "cell_type": "code",
   "execution_count": null,
   "id": "906c9e7d-f63c-4e16-a484-7f61135f95db",
   "metadata": {},
   "outputs": [],
   "source": []
  },
  {
   "cell_type": "code",
   "execution_count": null,
   "id": "d9b98b51-f139-4f62-b103-1191b5c9d173",
   "metadata": {},
   "outputs": [],
   "source": [
    "### Global layout\n",
    "sample_dims = {}\n",
    "for s in list(samples):\n",
    "    sample_dims[s] = spp.get_sample_dim(samples[s], s+'_morphology_focus')"
   ]
  },
  {
   "cell_type": "code",
   "execution_count": null,
   "id": "c6f93791-0b08-4f65-ac85-cc89f907ae68",
   "metadata": {},
   "outputs": [],
   "source": [
    "layout = [\n",
    "    ['crc_a_c', 'crc_b_c', 'crc_c_c', 'crc_d_c', 'crc_e_c', 'crc_f_c', 'crc_g_c', 'crc_h_c', 'crc_i_c', 'crc_j_c', 'crc_k_c', 'crc_l_c', 'crc_m_c', 'crc_n_c', 'crc_o_c'],\n",
    "    ['crc_a_m', 'crc_b_m', 'crc_c_m', 'crc_d_m', 'crc_e_m', 'crc_f_m', None,      None,        None,      'crc_j_m', 'crc_k_m', 'crc_l_m', 'crc_m_m', 'crc_n_m', None],\n",
    "    [None,      None,      None,      'crc_d_n', 'crc_e_n', 'crc_f_n', 'crc_g_n', 'crc_h_n', 'crc_i_n', 'crc_j_n', 'crc_k_n', 'crc_l_n', 'crc_m_n', 'crc_n_n', None]\n",
    "]"
   ]
  },
  {
   "cell_type": "code",
   "execution_count": null,
   "id": "ae103a2b-bf00-4b44-ae74-b0404c08cfd0",
   "metadata": {},
   "outputs": [],
   "source": [
    "translations = spp.compute_transformations(layout, sample_dims, spacing=(0.1, 0.1))"
   ]
  },
  {
   "cell_type": "code",
   "execution_count": null,
   "id": "233b5931-3f66-4008-b7ab-37d333b9e0a8",
   "metadata": {},
   "outputs": [],
   "source": [
    "elements=['cell_boundaries', 'cell_circles', 'transcripts', 'morphology_focus']\n",
    "samples = spp.par_apply_coord_transformation(samples, elements, rotations=None, translations=translations, target_coordinate_system='merged_µm', prior_coordinate_system='rot_µm', center=False, n_jobs=n_jobs)"
   ]
  },
  {
   "cell_type": "code",
   "execution_count": null,
   "id": "68194d3b-12bd-4198-aefa-984c0495bbf8",
   "metadata": {},
   "outputs": [],
   "source": [
    "samples[s]['table'].uns['spatialdata_attrs']['region_key']\n",
    "samples[s]['table'].obs['region']"
   ]
  },
  {
   "cell_type": "code",
   "execution_count": null,
   "id": "3f0d2a34-762c-445c-9c90-b50a9e67a56f",
   "metadata": {},
   "outputs": [],
   "source": [
    "for s in list(samples):\n",
    "    samples[s]['table'].obs['region'] = s+'_cell_boundaries'\n",
    "    samples[s].set_table_annotates_spatialelement(table_name = 'table', region = s+'_cell_boundaries', region_key = 'region', instance_key = 'cell_id')"
   ]
  },
  {
   "cell_type": "code",
   "execution_count": null,
   "id": "c6be0719-d7b9-4afa-8630-b8e579304e9a",
   "metadata": {},
   "outputs": [],
   "source": [
    "sdata = sd.concatenate(list(samples.values()), region_key='region', concatenate_tables=True, index_unique=None)\n",
    "dup = sdata.tables['table'].obs.index.duplicated()\n",
    "sdata.tables['table'] = sdata.tables['table'][~sdata.tables['table'].obs.index.duplicated(keep='first')]"
   ]
  },
  {
   "cell_type": "code",
   "execution_count": null,
   "id": "78ccbd6d-d139-4100-a9e1-32657a110be1",
   "metadata": {},
   "outputs": [],
   "source": [
    "print(dup.sum() / len(dup))"
   ]
  },
  {
   "cell_type": "code",
   "execution_count": null,
   "id": "bdb872be-9cad-46b1-8420-6658c7f5ab5e",
   "metadata": {},
   "outputs": [],
   "source": [
    "# shapes\n",
    "sdata['cell_boundaries'] = spp.concat_shapes(sdata, elem='cell_boundaries', samples=samples.keys())\n",
    "sdata['cell_boundaries'].reset_index(level=0, inplace=True, drop=True)\n",
    "sdata['cell_boundaries'] = sdata['cell_boundaries'][~sdata['cell_boundaries'].index.duplicated(keep='first')]\n",
    "sdata = spp.match_ids(sdata, ['cell_boundaries'], table_key='table')\n",
    "sdata.tables['table'].obs['region'] = 'cell_boundaries'\n",
    "sdata.set_table_annotates_spatialelement('table', region_key='region', region='cell_boundaries')\n",
    "\n",
    "sdata['cell_circles'] = spp.concat_shapes(sdata, elem='cell_circles', samples=samples.keys())\n",
    "sdata['cell_circles'].reset_index(level=0, inplace=True, drop=True)\n",
    "sdata['cell_circles'] = sdata['cell_circles'][~sdata['cell_circles'].index.duplicated(keep='first')]"
   ]
  },
  {
   "cell_type": "code",
   "execution_count": null,
   "id": "e027e752-df21-4c43-9e0b-9d8de6cb4a3c",
   "metadata": {},
   "outputs": [],
   "source": [
    "# transcripts\n",
    "sdata['transcripts'] = sd.models.PointsModel.parse(spp.concat_points(sdata, elem='transcripts', samples=samples.keys()))"
   ]
  },
  {
   "cell_type": "code",
   "execution_count": null,
   "id": "aeeb1108-773f-408f-a592-c6fb61903f5a",
   "metadata": {},
   "outputs": [],
   "source": [
    "# images\n",
    "# sdata['morphology_focus'] = spp.concat_images(sdata, elem='morphology_focus', samples=samples.keys())\n",
    "# too large for saving to zarr"
   ]
  },
  {
   "cell_type": "code",
   "execution_count": null,
   "id": "ec892242-16e4-4346-a635-685a4cd19277",
   "metadata": {},
   "outputs": [],
   "source": [
    "set_transformation(sdata['transcripts'], Identity(), 'merged_µm')\n",
    "set_transformation(sdata['cell_boundaries'], Identity(), 'merged_µm')"
   ]
  },
  {
   "cell_type": "code",
   "execution_count": null,
   "id": "7017f897-fa06-49f3-b040-19c43043259c",
   "metadata": {},
   "outputs": [],
   "source": [
    "# update coordinates in tables\n",
    "sdata = spp.match_ids(sdata, ['cell_circles'], table_key='table')\n",
    "sdata.tables['table'].obsm['spatial'] = np.array([sdata['cell_circles']['geometry'].x, sdata['cell_circles']['geometry'].y]).transpose()"
   ]
  },
  {
   "cell_type": "code",
   "execution_count": null,
   "id": "3a35f31b-645b-43ae-9a51-7c4a6685456f",
   "metadata": {},
   "outputs": [],
   "source": [
    "sample_cat = {\n",
    "    'm': 'margin',\n",
    "    'c': 'core',\n",
    "    'n': 'normal',\n",
    "}\n",
    "sdata['table'].obs['tissue_region'] = sdata['table'].obs.name.str.split('_').str[-1].str.replace(r'\\d+', '', regex=True).map(sample_cat).fillna('Unknown')"
   ]
  },
  {
   "cell_type": "code",
   "execution_count": null,
   "id": "2abc5cdf-1727-4891-8379-95927fa5868e",
   "metadata": {},
   "outputs": [],
   "source": [
    "sdata['table'].obs['tissue_region'].value_counts()"
   ]
  },
  {
   "cell_type": "code",
   "execution_count": null,
   "id": "6339fc61-2cf8-43a0-9d1f-3fcbe0e4e315",
   "metadata": {},
   "outputs": [],
   "source": [
    "sdata['table'].obs['patient_id'] = sdata['table'].obs.name.str.extract(r'_(.)_')\n",
    "sdata['table'].obs['patient_id'].value_counts()"
   ]
  },
  {
   "cell_type": "code",
   "execution_count": null,
   "id": "8b76cb51-1e8a-460c-acf8-2054da7f2689",
   "metadata": {},
   "outputs": [],
   "source": [
    "segmentation_method_redef = {\n",
    "    'Segmented by interior stain (18S)': 'interior',\n",
    "    'Segmented by boundary stain (ATP1A1+CD45+E-Cadherin)': 'boundary',\n",
    "    'Segmented by nucleus expansion of 5.0µm': 'nucleus',\n",
    "}\n",
    "sdata['table'].obs['segm_meth'] = sdata['table'].obs.segmentation_method.map(segmentation_method_redef)\n",
    "sdata['table'].obs['batch_factor'] = sdata['table'].obs['name'].astype(str) + '_' + sdata['table'].obs['segm_meth'].astype(str)"
   ]
  },
  {
   "cell_type": "code",
   "execution_count": null,
   "id": "25c1161f-f9c6-4040-9001-32dd8e0c1f07",
   "metadata": {},
   "outputs": [],
   "source": [
    "sdata['table'].obs['sample_id'] = sdata['table'].obs['sample_id'].str.replace('run._', ' ', regex=True)\n",
    "sdata['table'].obs['sample_id'].value_counts()"
   ]
  },
  {
   "cell_type": "code",
   "execution_count": null,
   "id": "11c4c8c5-2e9d-4f5a-b781-65f051faa208",
   "metadata": {},
   "outputs": [],
   "source": [
    "sdata = spp.match_ids(sdata, ['cell_boundaries'], table_key='table')\n",
    "sdata.tables['table'].obs['region'] = 'cell_boundaries'\n",
    "sdata.set_table_annotates_spatialelement('table', region_key='region', region='cell_boundaries')"
   ]
  },
  {
   "cell_type": "code",
   "execution_count": null,
   "id": "dfc9ef5d-4bdf-4ed5-b6b8-8a7b6df1ed3b",
   "metadata": {},
   "outputs": [],
   "source": [
    "elems = ['transcripts','cell_boundaries','cell_circles'] + [s + '_sample_area' for s in samples]\n",
    "sdata.subset(elems, filter_tables=False).write(os.path.join(datadir, 'crca_xenium.zarr'), overwrite=True)"
   ]
  }
 ],
 "metadata": {
  "kernelspec": {
   "display_name": "crca-spatial",
   "language": "python",
   "name": "crca-spatial"
  },
  "language_info": {
   "codemirror_mode": {
    "name": "ipython",
    "version": 3
   },
   "file_extension": ".py",
   "mimetype": "text/x-python",
   "name": "python",
   "nbconvert_exporter": "python",
   "pygments_lexer": "ipython3",
   "version": "3.11.9"
  }
 },
 "nbformat": 4,
 "nbformat_minor": 5
}
