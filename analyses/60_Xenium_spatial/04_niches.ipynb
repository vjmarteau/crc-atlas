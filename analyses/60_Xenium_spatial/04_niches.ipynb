{
 "cells": [
  {
   "cell_type": "code",
   "execution_count": 1,
   "id": "67bed727-5cc6-4e2a-89c3-b70a3c784eff",
   "metadata": {},
   "outputs": [],
   "source": [
    "import numpy as np\n",
    "import pandas as pd\n",
    "import os\n",
    "import sys\n",
    "import matplotlib as mpl\n",
    "import matplotlib.pyplot as plt\n",
    "import matplotlib.patches as patches\n",
    "import seaborn as sns\n",
    "import anndata as ad\n",
    "import scanpy as sc\n",
    "import squidpy as sq\n",
    "import spatialdata as sd\n",
    "import spatialdata_io as sdio\n",
    "import spatialdata_plot\n",
    "\n",
    "from joblib import Parallel, delayed\n",
    "\n",
    "from spatialdata.transformations import (\n",
    "        Affine,\n",
    "        Identity,\n",
    "        MapAxis,\n",
    "        Scale,\n",
    "        Sequence,\n",
    "        Translation,\n",
    "        get_transformation,\n",
    "        get_transformation_between_coordinate_systems,\n",
    "        set_transformation,\n",
    "    )\n",
    "\n",
    "prjdir = os.path.abspath(os.path.join(os.getcwd(), '../..'))\n",
    "if prjdir not in sys.path:\n",
    "    sys.path.append(prjdir)\n",
    "\n",
    "n_jobs=32\n",
    "sc.settings.n_jobs=n_jobs\n",
    "sc.set_figure_params(dpi=100, frameon=True, vector_friendly=True, fontsize=10)\n",
    "\n",
    "from matplotlib.colors import LinearSegmentedColormap\n",
    "cmap = LinearSegmentedColormap.from_list('grey_to_blue', ['lightgrey', 'mediumblue'])\n",
    "\n",
    "from warnings import simplefilter\n",
    "simplefilter(action=\"ignore\", category=pd.errors.PerformanceWarning)"
   ]
  },
  {
   "cell_type": "code",
   "execution_count": 2,
   "id": "0ce13d1d-4ca3-42e0-a363-fcd9b3c35996",
   "metadata": {},
   "outputs": [],
   "source": [
    "%load_ext autoreload\n",
    "%autoreload 2\n",
    "import src.spatial_helpers.spatial as spp\n",
    "import src.spatial_helpers.spatialplot as spl\n",
    "import src.spatial_helpers.sc as scp\n",
    "scp.set_all_seeds()"
   ]
  },
  {
   "cell_type": "code",
   "execution_count": 3,
   "id": "dbd21d43-9452-47fd-9b95-1f00490d6b54",
   "metadata": {},
   "outputs": [],
   "source": [
    "datadir = '../../data/xenium_merged'\n",
    "resultsdir = '../../data/xenium_results'\n",
    "ncdir = os.path.join(datadir, 'nichecompass')\n",
    "os.makedirs(resultsdir, exist_ok=True)\n",
    "sc.settings.figdir = os.path.join(resultsdir)"
   ]
  },
  {
   "cell_type": "markdown",
   "id": "fad4aae1-adb8-4faf-bb08-2eb31b47d7b7",
   "metadata": {},
   "source": [
    "## Niche analysis"
   ]
  },
  {
   "cell_type": "code",
   "execution_count": null,
   "id": "9ab776e6-fc8c-4146-948c-f5d8ef0b6baa",
   "metadata": {},
   "outputs": [],
   "source": [
    "# load nichecompass results\n",
    "adata = sc.read_h5ad(os.path.join(ncdir, 'delaunayr50', 'model', 'adata.h5ad'))"
   ]
  },
  {
   "cell_type": "code",
   "execution_count": null,
   "id": "29210dc0-c997-4b7d-8260-7fddae85379b",
   "metadata": {},
   "outputs": [],
   "source": [
    "# load annotations\n",
    "adata_anno = sc.read_h5ad(os.path.join(datadir, 'crc_ffpe_anno.h5ad'))\n",
    "adata.obs = adata.obs.merge(adata_anno.obs.loc[:, ~adata_anno.obs.columns.isin(adata.obs.columns)], left_index=True, right_index=True, how='left')\n",
    "adata.uns['colors'] = adata_anno.uns['colors'].copy()"
   ]
  },
  {
   "cell_type": "code",
   "execution_count": null,
   "id": "7ed85620-d02c-44d8-b1ac-d62e87794a95",
   "metadata": {},
   "outputs": [],
   "source": [
    "sc.pl.embedding(adata, basis='delaunayr50', color=['name', nc_key, 'tissue_region', 'celltype'], show=False)\n",
    "plt.savefig(os.path.join(resultsdir, 'nc_latent.jpg'), dpi=300, bbox_inches='tight')"
   ]
  },
  {
   "cell_type": "code",
   "execution_count": null,
   "id": "d89a65e0-7cad-446e-86e9-7aae2c038249",
   "metadata": {},
   "outputs": [],
   "source": [
    "nc_key = 'delaunayr50_nb_leiden_0.15'\n",
    "adata.obs[nc_key] = adata.obs[nc_key].astype(str)\n",
    "adata.obs['CN'] = adata.obs[nc_key].astype('int') + 1\n",
    "adata.obs['CN'] = 'CN' + adata.obs['CN'].astype('str')"
   ]
  },
  {
   "cell_type": "code",
   "execution_count": null,
   "id": "36485977-8460-43ce-b978-eabfdf0c38e2",
   "metadata": {},
   "outputs": [],
   "source": [
    "cn_colors = {\n",
    "    'CN1': '#44a685',\n",
    "    'CN2': '#7EC8E3',\n",
    "    'CN3': '#b86c8c',\n",
    "    'CN4': '#79b9f7',\n",
    "    'CN5': '#6495ED',\n",
    "    'CN6': '#4e6bb5',\n",
    "    'CN7': '#5096e6',\n",
    "    'CN8': '#3650ad',\n",
    "    'CN9': '#ffd000',\n",
    "    'CN10': '#4169E1',\n",
    "    'CN11': '#1C39BB'\n",
    "}"
   ]
  },
  {
   "cell_type": "code",
   "execution_count": null,
   "id": "788e8450-8eac-4b2a-894f-2f876f55c8aa",
   "metadata": {},
   "outputs": [],
   "source": [
    "colors = spl.get_obs_colors(adata, obs_key='celltype', colors_key='colors')\n",
    "scp.plot_composition(adata.obs, 'CN', 'celltype', colors=colors, fontsize=18, width=12, height=6, rel=False, save=os.path.join(resultsdir, 'CN_composition_abs.jpg'))\n",
    "scp.plot_composition(adata.obs, 'CN', 'celltype', colors=colors, fontsize=18, width=12, height=6, rel=True, save=os.path.join(resultsdir, 'CN_composition.pdf'))"
   ]
  },
  {
   "cell_type": "markdown",
   "id": "d6978424-fe4a-44b0-ac2a-c16d76877a12",
   "metadata": {},
   "source": [
    "### Niche marker genes"
   ]
  },
  {
   "cell_type": "code",
   "execution_count": null,
   "id": "1a8b3f29-f716-4607-9be9-d6fa9d80d0e5",
   "metadata": {},
   "outputs": [],
   "source": [
    "# CN markers across all celltypes\n",
    "sc.tl.rank_genes_groups(adata, key_added='CN_rank', groupby='CN', method='wilcoxon')\n",
    "sc.pl.rank_genes_groups_dotplot(adata, key='CN_rank', n_genes=10, layer='norm', groups=['CN9'], swap_axes=True, min_logfoldchange=0.5, dendrogram=False, save='CN_markers.png')"
   ]
  },
  {
   "cell_type": "code",
   "execution_count": null,
   "id": "2e887955-d70a-45dd-b720-fbb93220fa1a",
   "metadata": {},
   "outputs": [],
   "source": [
    "# CN - for each celltype\n",
    "for ct in adata.obs['celltype'].unique():\n",
    "    adata_sub = adata[(adata.obs['celltype']==ct),:].copy()\n",
    "    sc.tl.rank_genes_groups(adata_sub, key_added='CN_rank', groupby='CN', method='wilcoxon')\n",
    "    sc.pl.rank_genes_groups_dotplot(adata_sub, key='CN_rank', n_genes=6, layer='norm', min_logfoldchange=0.5, dendrogram=False, save='CN_markers_'+ct+'.png')"
   ]
  },
  {
   "cell_type": "code",
   "execution_count": null,
   "id": "6f5b3101-9822-404f-9581-898b816295a6",
   "metadata": {},
   "outputs": [],
   "source": [
    "# Fibroblasts\n",
    "adata_fibro = adata[(adata.obs['celltype']=='Fibroblast'),:].copy()\n",
    "test_genes = spp.filter_bg_genes(adata, list(adata.var.index), target_celltype='Fibroblast', expr_thres=0.2, corr_thres=0.6)\n",
    "adata_fibro = adata_fibro[:,test_genes]\n",
    "sc.tl.rank_genes_groups(adata_fibro, layer='norm', key_added='CN_fibro_rank', groupby='CN', method='wilcoxon')\n",
    "# adata_fibro.write_h5ad(os.path.join(datadir, 'adata_fibro.h5ad'))"
   ]
  },
  {
   "cell_type": "code",
   "execution_count": null,
   "id": "6c389ddb-82e2-47ef-910f-7b7ad9af9d00",
   "metadata": {},
   "outputs": [],
   "source": [
    "# adata_fibro = sc.read_h5ad(os.path.join(datadir, 'adata_fibro.h5ad'))\n",
    "fibro_genes = scp.marker_dotplot(adata_fibro, group_by='CN', group='CN9', rank_key='CN_fibro_rank', save=os.path.join(resultsdir, 'crca_fibro_niches.png'))\n",
    "fibro_genes = scp.marker_dotplot(adata_fibro, group_by='CN', group='CN9', rank_key='CN_fibro_rank', save=os.path.join(resultsdir, 'crca_fibro_niches.pdf'))"
   ]
  },
  {
   "cell_type": "code",
   "execution_count": null,
   "id": "10055c4e-4d6b-4d5c-aebe-8e93964e5094",
   "metadata": {},
   "outputs": [],
   "source": [
    "# Cancer cells\n",
    "adata_cancer = adata[(adata.obs['celltype']=='Cancer cell'),:].copy()\n",
    "test_genes = spp.filter_bg_genes(adata, list(adata.var.index), target_celltype='Cancer cell', expr_thres=0.2, corr_thres=0.6)\n",
    "adata_cancer = adata_cancer[:,test_genes]\n",
    "sc.tl.rank_genes_groups(adata_cancer, layer='norm', key_added='CN_cancer_rank', groupby='CN', method='wilcoxon')\n",
    "# adata_cancer.write_h5ad(os.path.join(datadir, 'adata_cancer.h5ad'))"
   ]
  },
  {
   "cell_type": "code",
   "execution_count": null,
   "id": "7c8bb51a-c8b8-469d-8461-d215caa68789",
   "metadata": {},
   "outputs": [],
   "source": [
    "# adata_cancer = sc.read_h5ad(os.path.join(datadir, 'adata_cancer.h5ad'))\n",
    "cancer_genes = scp.marker_dotplot(adata_cancer, group_by='CN', group='CN9', rank_key='CN_cancer_rank', save=os.path.join(resultsdir, 'crca_cancer_niches.png'))\n",
    "cancer_genes = scp.marker_dotplot(adata_cancer, group_by='CN', group='CN9', rank_key='CN_cancer_rank', save=os.path.join(resultsdir, 'crca_cancer_niches.pdf'))"
   ]
  },
  {
   "cell_type": "code",
   "execution_count": null,
   "id": "e91c900d-bb0a-4d18-8993-6eb76241c8b5",
   "metadata": {},
   "outputs": [],
   "source": [
    "# T cells\n",
    "adata_tcells = adata[(adata.obs['celltype']=='T cell') & (adata.obs['CN']!='CN11'),:].copy() # CN11 too few cells\n",
    "test_genes = spp.filter_bg_genes(adata, list(adata.var.index), target_celltype='T cell', expr_thres=0.2, corr_thres=0.6)\n",
    "adata_tcells = adata_tcells[:,test_genes]\n",
    "sc.tl.rank_genes_groups(adata_tcells, layer='norm', key_added='CN_tcells_rank', groupby='CN', method='wilcoxon')\n",
    "# adata_tcells.write_h5ad(os.path.join(datadir, 'adata_tcells.h5ad'))"
   ]
  },
  {
   "cell_type": "code",
   "execution_count": null,
   "id": "d675b2e0-a5a2-4bf2-bfe2-2b58c21e3bf8",
   "metadata": {},
   "outputs": [],
   "source": [
    "# adata_tcells = sc.read_h5ad(os.path.join(datadir, 'adata_tcells.h5ad'))\n",
    "tcell_genes = scp.marker_dotplot(adata_tcells, group_by='CN', group='CN9', rank_key='CN_tcells_rank', save=os.path.join(resultsdir, 'crca_tcell_niches.png'))\n",
    "tcell_genes = scp.marker_dotplot(adata_tcells, group_by='CN', group='CN9', rank_key='CN_tcells_rank', save=os.path.join(resultsdir, 'crca_tcell_niches.pdf'))"
   ]
  },
  {
   "cell_type": "code",
   "execution_count": null,
   "id": "348047a1-fc8a-4aa2-ac47-6ad309e56882",
   "metadata": {},
   "outputs": [],
   "source": [
    "# Expression of these genes in other celltypes of the same niche\n",
    "group='CN9'\n",
    "genes= list(set(list(cancer_genes) + list(fibro_genes) + list(tcell_genes) ))\n",
    "adata_cn = adata[(adata.obs['CN']==group),:].copy()\n",
    "font_size = 18\n",
    "with mpl.rc_context({'font.size': font_size, \n",
    "                     'axes.labelsize': font_size,\n",
    "                     'axes.titlesize': font_size,\n",
    "                     'xtick.labelsize': font_size,\n",
    "                     'ytick.labelsize': font_size,\n",
    "                     'legend.fontsize': font_size,\n",
    "                    }):\n",
    "    plt.figure(figsize=(12, 10))\n",
    "    fig = sc.pl.dotplot(adata_cn, layer='norm', var_names=genes, groupby='celltype', dendrogram=False, swap_axes=True, return_fig=True)\n",
    "    fig.legend(colorbar_title='Expression', size_title='% of cells ', width=2.5)\n",
    "    fig.savefig(os.path.join(resultsdir, 'crca_neutro_niche_celltype.jpg'), bbox_inches='tight', dpi=300)"
   ]
  },
  {
   "cell_type": "code",
   "execution_count": null,
   "id": "f195cad1-4ea7-4c68-9585-a29e941ee5c3",
   "metadata": {},
   "outputs": [],
   "source": [
    "adata.write_h5ad(os.path.join(datadir, 'crc_ffpe_niches.h5ad'))"
   ]
  },
  {
   "cell_type": "markdown",
   "id": "366ec685-15a5-48e9-ad7a-62a43b45d928",
   "metadata": {},
   "source": [
    "## Cluster analysis"
   ]
  },
  {
   "cell_type": "code",
   "execution_count": null,
   "id": "88f23313-8f4b-4b6d-b5aa-a2937bea6929",
   "metadata": {},
   "outputs": [],
   "source": [
    "nc_key = 'delaunayr50_nb_leiden_0.15'\n",
    "neighbor_key='delaunayr50_connectivities'\n",
    "adata.obsp['delaunayr50_connectivities'].sum(axis=1).max()"
   ]
  },
  {
   "cell_type": "code",
   "execution_count": null,
   "id": "834fc452-1026-4cf9-976c-9a23faadb5d8",
   "metadata": {},
   "outputs": [],
   "source": [
    "celltype_neighbors_df = spp.get_neighbors(adata, obs_key='celltype', neighbors_key='delaunayr50_connectivities', n_jobs=n_jobs)"
   ]
  },
  {
   "cell_type": "code",
   "execution_count": null,
   "id": "ccb93866-7ba7-4141-b626-8e536d067f3e",
   "metadata": {},
   "outputs": [],
   "source": [
    "# get cells that have neutrophils as neighbors\n",
    "adata.obs['neutrophil_neighbors'] = celltype_neighbors_df['Neutrophil'].values.copy()"
   ]
  },
  {
   "cell_type": "code",
   "execution_count": null,
   "id": "5d58acee-1b8a-48cf-8ad1-f9e1f85abe57",
   "metadata": {},
   "outputs": [],
   "source": [
    "# find aggregates\n",
    "adata = spp.find_aggregates(adata, celltype='Neutrophil', n_neighbors=3, max_iterations=10, n_neighbors_key='neutrophil_neighbors',\n",
    "                            aggr_key='neutrophil_aggregate', neighbors_key=neighbor_key)\n",
    "adata.obs['neutrophil_aggregate_seed'].value_counts()\n",
    "adata.obs['neutrophil_aggregate'].value_counts()"
   ]
  },
  {
   "cell_type": "code",
   "execution_count": null,
   "id": "c69d7dc1-7b51-447c-9d6e-5ece75cf0ddd",
   "metadata": {},
   "outputs": [],
   "source": [
    "adata.obs['Neutrophil'] = 'other celltype'\n",
    "adata.obs.loc[adata.obs['celltype'] == 'Neutrophil', 'Neutrophil'] = 'dispersed'\n",
    "adata.obs.loc[(adata.obs['celltype'] == 'Neutrophil') & (adata.obs['neutrophil_aggregate'] == True), 'Neutrophil'] = 'clustered'\n",
    "adata.obs['Neutrophil'].value_counts()"
   ]
  },
  {
   "cell_type": "code",
   "execution_count": null,
   "id": "2112b078-85e7-4cbc-b264-2aabd553930d",
   "metadata": {},
   "outputs": [],
   "source": [
    "cluster_colors = {\n",
    "    'clustered': '#7d7ddb',\n",
    "    'dispersed': '#b8b8de',\n",
    "    'other celltype': '#e0e0e0'\n",
    "}"
   ]
  },
  {
   "cell_type": "code",
   "execution_count": null,
   "id": "268cfc11-588a-4bf8-8897-27a053d0d3ea",
   "metadata": {},
   "outputs": [],
   "source": [
    "# plot cluster distribution\n",
    "fontsize = 18\n",
    "group_key = 'CN'\n",
    "composition_key = 'Neutrophil'\n",
    "df = adata[adata.obs['Neutrophil'] != 'other celltype'].obs\n",
    "dfplot = (df.groupby([group_key, composition_key], observed=True).size().unstack())\n",
    "dfplot = dfplot.div(dfplot.sum(axis=1), axis=0)\n",
    "color_mapping = {category: cluster_colors.get(category, '#ECECEC') for category in dfplot.columns}\n",
    "plotcolors = [color_mapping.get(col, '#ECECEC') for col in dfplot.columns]\n",
    "\n",
    "with mpl.rc_context({'font.size': fontsize, \n",
    "                     'axes.labelsize': fontsize,\n",
    "                     'axes.titlesize': fontsize,\n",
    "                     'xtick.labelsize': fontsize,\n",
    "                     'ytick.labelsize': fontsize,\n",
    "                     'legend.fontsize': fontsize,\n",
    "                    }):\n",
    "    fig, ax = plt.subplots(1, 1, figsize=(8, 5))\n",
    "    dfplot.plot(kind=\"bar\", stacked=True, ax=ax, width=0.7, color=plotcolors)\n",
    "    legend = ax.legend(bbox_to_anchor=(1, 1), labelspacing=0.15, frameon=False, loc=\"upper left\")\n",
    "    ax.set_xlabel(\"\")\n",
    "    ax.set_ylabel(\"\")\n",
    "    ax.grid(False)\n",
    "    ax.set_ylim(0, 1)\n",
    "    ax.tick_params(axis='both', which='major')\n",
    "    plt.tight_layout()\n",
    "    plt.savefig(os.path.join(resultsdir, 'Neutrophil_cluster_composition.jpg'), bbox_inches='tight', pad_inches=0, dpi=500)\n",
    "    plt.savefig(os.path.join(resultsdir, 'Neutrophil_cluster_composition.pdf'), bbox_inches='tight', pad_inches=0, dpi=500)"
   ]
  },
  {
   "cell_type": "code",
   "execution_count": null,
   "id": "07aa7645-02c5-4b24-8bb2-a460fcf8d32f",
   "metadata": {},
   "outputs": [],
   "source": [
    "plt.figure(figsize=(8, 6))\n",
    "for i, (cell_type, color) in enumerate(cn_colors.items()):\n",
    "    plt.barh(i, 1, color=color)\n",
    "    plt.text(1.05, i, cell_type, va='center', ha='left', fontsize=12)\n",
    "plt.axis('off')\n",
    "plt.show()"
   ]
  },
  {
   "cell_type": "code",
   "execution_count": null,
   "id": "4c7326ae-fa0d-4b72-bf3a-1a177756c377",
   "metadata": {},
   "outputs": [],
   "source": [
    "adata.obs['Neutrophil_cluster_niche'] = 'other celltype'\n",
    "adata.obs.loc[(adata.obs['celltype'] == 'Neutrophil'), 'Neutrophil_cluster_niche'] = 'other Neutrophil'\n",
    "adata.obs.loc[(adata.obs['Neutrophil'] == 'in cluster') & (adata.obs['CN'] == 'CN9'), 'Neutrophil_cluster_niche'] = 'Neutrophil in cluster & niche'\n",
    "adata.obs['Neutrophil_cluster_niche'].value_counts()"
   ]
  },
  {
   "cell_type": "code",
   "execution_count": null,
   "id": "7b5a411b-5679-4695-88fc-ef3114108c53",
   "metadata": {},
   "outputs": [],
   "source": [
    "# add plotting colors\n",
    "cluster_colors = {\n",
    "    'in cluster': '#ffbb00',\n",
    "    'not in cluster': '#4d4df0',\n",
    "    'other celltype': '#ECECEC'\n",
    "}\n",
    "\n",
    "CD74_colors = {\n",
    "    'Neutrophil_CD74-lo': '#4d4df0',\n",
    "    'Neutrophil_CD74-hi': '#ffbb00',\n",
    "    'other celltype': '#ECECEC'\n",
    "}\n",
    "\n",
    "neutro_colors = {\n",
    "    'Neutrophil in cluster & niche': '#ffbb00',\n",
    "    'other Neutrophil': '#4d4df0',\n",
    "    'other celltype': '#ECECEC'\n",
    "}\n",
    "\n",
    "adata.uns['colors'] = {'celltype': adata.uns['colors']['celltype'],\n",
    "                       'CN': cn_colors,\n",
    "                       'Neutrophil': cluster_colors,\n",
    "                       'Neutrophil_CD74': CD74_colors,\n",
    "                       'Neutrophil_cluster_niche': neutro_colors}"
   ]
  },
  {
   "cell_type": "code",
   "execution_count": null,
   "id": "2eba3467-727e-4681-9d9f-69e54c92f873",
   "metadata": {},
   "outputs": [],
   "source": [
    "# save\n",
    "adata.write_h5ad(os.path.join(datadir, 'crc_ffpe_niches.h5ad'))"
   ]
  },
  {
   "cell_type": "code",
   "execution_count": null,
   "id": "523e13c2-7f3d-4fac-ac4d-4d73c404a5a3",
   "metadata": {},
   "outputs": [],
   "source": [
    "sdata = sd.read_zarr(os.path.join(datadir, 'crca_xenium.zarr'))\n",
    "sdata['niches'] = adata\n",
    "sdata = spp.match_ids(sdata, ['cell_boundaries'], table_key='anno')\n",
    "sdata.tables['niches'].obs['region'] = 'cell_boundaries'\n",
    "sdata.set_table_annotates_spatialelement('niches', region_key='region', region='cell_boundaries')\n",
    "sdata.delete_element_from_disk('niches')\n",
    "sdata.write_element('niches', overwrite=True)"
   ]
  }
 ],
 "metadata": {
  "kernelspec": {
   "display_name": "crca-spatial",
   "language": "python",
   "name": "crca-spatial"
  },
  "language_info": {
   "codemirror_mode": {
    "name": "ipython",
    "version": 3
   },
   "file_extension": ".py",
   "mimetype": "text/x-python",
   "name": "python",
   "nbconvert_exporter": "python",
   "pygments_lexer": "ipython3",
   "version": "3.11.9"
  }
 },
 "nbformat": 4,
 "nbformat_minor": 5
}
