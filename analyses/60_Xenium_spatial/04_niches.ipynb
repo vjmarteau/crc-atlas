{
 "cells": [
  {
   "cell_type": "markdown",
   "id": "8182ef5f-6d52-423c-9018-efb0bc2b7802",
   "metadata": {},
   "source": [
    "## 04. Niches"
   ]
  },
  {
   "cell_type": "markdown",
   "id": "67217699-89a3-450e-800b-3ee70ba493f9",
   "metadata": {
    "editable": true,
    "slideshow": {
     "slide_type": ""
    },
    "tags": []
   },
   "source": [
    "Notebook to analyse niches<br>\n",
    "Run this notebook in the 'xenium' conda env"
   ]
  },
  {
   "cell_type": "code",
   "execution_count": 1,
   "id": "67bed727-5cc6-4e2a-89c3-b70a3c784eff",
   "metadata": {},
   "outputs": [
    {
     "name": "stderr",
     "output_type": "stream",
     "text": [
      "/home/kirchmair/myScratch/conda/envs/crca-spatial/lib/python3.11/site-packages/dask/dataframe/__init__.py:31: FutureWarning: The legacy Dask DataFrame implementation is deprecated and will be removed in a future version. Set the configuration option `dataframe.query-planning` to `True` or None to enable the new Dask Dataframe implementation and silence this warning.\n",
      "  warnings.warn(\n"
     ]
    }
   ],
   "source": [
    "import numpy as np\n",
    "import pandas as pd\n",
    "import os\n",
    "import sys\n",
    "import matplotlib as mpl\n",
    "import matplotlib.pyplot as plt\n",
    "import matplotlib.patches as patches\n",
    "import seaborn as sns\n",
    "import anndata as ad\n",
    "import scanpy as sc\n",
    "import squidpy as sq\n",
    "import spatialdata as sd\n",
    "import spatialdata_io as sdio\n",
    "import spatialdata_plot\n",
    "\n",
    "from joblib import Parallel, delayed\n",
    "\n",
    "from spatialdata.transformations import (\n",
    "        Affine,\n",
    "        Identity,\n",
    "        MapAxis,\n",
    "        Scale,\n",
    "        Sequence,\n",
    "        Translation,\n",
    "        get_transformation,\n",
    "        get_transformation_between_coordinate_systems,\n",
    "        set_transformation,\n",
    "    )\n",
    "\n",
    "prjdir = os.path.abspath(os.path.join(os.getcwd(), '../..'))\n",
    "if prjdir not in sys.path:\n",
    "    sys.path.append(prjdir)\n",
    "\n",
    "n_jobs=32\n",
    "sc.settings.n_jobs=n_jobs\n",
    "sc.set_figure_params(dpi=100, frameon=True, vector_friendly=True, fontsize=10)\n",
    "\n",
    "from matplotlib.colors import LinearSegmentedColormap\n",
    "cmap = LinearSegmentedColormap.from_list('grey_to_blue', ['lightgrey', 'mediumblue'])\n",
    "\n",
    "from warnings import simplefilter\n",
    "simplefilter(action=\"ignore\", category=pd.errors.PerformanceWarning)"
   ]
  },
  {
   "cell_type": "code",
   "execution_count": 2,
   "id": "0ce13d1d-4ca3-42e0-a363-fcd9b3c35996",
   "metadata": {},
   "outputs": [],
   "source": [
    "%load_ext autoreload\n",
    "%autoreload 2\n",
    "import src.spatial_helpers.spatial as spp\n",
    "import src.spatial_helpers.spatialplot as spl\n",
    "import src.spatial_helpers.sc as scp\n",
    "scp.set_all_seeds()"
   ]
  },
  {
   "cell_type": "code",
   "execution_count": null,
   "id": "f3c9232f-c2d4-4c40-bc57-9f135fe4f242",
   "metadata": {},
   "outputs": [],
   "source": [
    "processed_datadir = '../../data/xenium/processed'\n",
    "ncdir = os.path.join(processed_datadir, 'nichecompass')"
   ]
  },
  {
   "cell_type": "code",
   "execution_count": null,
   "id": "1452ea3a-74af-46a7-949b-3ef53f1defe5",
   "metadata": {},
   "outputs": [],
   "source": []
  },
  {
   "cell_type": "markdown",
   "id": "edd16c41-9ae5-442e-b04c-c3224eb3c37d",
   "metadata": {},
   "source": [
    "## Niche analysis"
   ]
  },
  {
   "cell_type": "code",
   "execution_count": null,
   "id": "27cbc453-9bf9-4193-ab1e-2c3a584f331c",
   "metadata": {},
   "outputs": [],
   "source": [
    "# load nichecompass results\n",
    "adata = sc.read_h5ad(os.path.join(ncdir, 'delaunayr50', 'model', 'adata.h5ad'))"
   ]
  },
  {
   "cell_type": "code",
   "execution_count": null,
   "id": "41ffc1a1-e4bf-4c39-8c29-cd0e2aad8bce",
   "metadata": {},
   "outputs": [],
   "source": [
    "# load annotations\n",
    "adata_anno = sc.read_h5ad(os.path.join(processed_datadir, 'crc_ffpe_anno.h5ad'))\n",
    "adata.obs = adata.obs.merge(adata_anno.obs.loc[:, ~adata_anno.obs.columns.isin(adata.obs.columns)], left_index=True, right_index=True, how='left')\n",
    "adata.uns['colors'] = adata_anno.uns['colors'].copy()"
   ]
  },
  {
   "cell_type": "code",
   "execution_count": null,
   "id": "ea4b98f8-0a43-4264-bab1-e2758cb993cd",
   "metadata": {},
   "outputs": [],
   "source": [
    "nc_key = 'delaunayr50_nb_leiden_0.15'\n",
    "adata.obs[nc_key] = adata.obs[nc_key].astype(str)\n",
    "adata.obs['CN'] = adata.obs[nc_key].astype('int') + 1\n",
    "adata.obs['CN'] = 'CN' + adata.obs['CN'].astype('str')"
   ]
  },
  {
   "cell_type": "code",
   "execution_count": null,
   "id": "76735f13-5957-4255-ab43-742cbfd0ac53",
   "metadata": {},
   "outputs": [],
   "source": [
    "cn_colors = {\n",
    "    'CN1': '#44a685',\n",
    "    'CN2': '#7EC8E3',\n",
    "    'CN3': '#b86c8c',\n",
    "    'CN4': '#79b9f7',\n",
    "    'CN5': '#6495ED',\n",
    "    'CN6': '#4e6bb5',\n",
    "    'CN7': '#5096e6',\n",
    "    'CN8': '#3650ad',\n",
    "    'CN9': '#ffd000',\n",
    "    'CN10': '#4169E1',\n",
    "    'CN11': '#1C39BB'\n",
    "}\n",
    "adata.uns['colors']['Niche'] = cn_colors"
   ]
  },
  {
   "cell_type": "code",
   "execution_count": null,
   "id": "49ce7a16-2395-4326-bce6-2db642e8ee78",
   "metadata": {},
   "outputs": [],
   "source": [
    "# combine niches\n",
    "niches_descriptive = {\n",
    "    'CN1': 'Stromal niche',\n",
    "    'CN2': 'Cancer - fibroblast-enriched',\n",
    "    'CN3': 'Epithelial niche',\n",
    "    'CN4': 'Cancer - myeloid-enriched',\n",
    "    'CN5': 'Cancer',\n",
    "    'CN6': 'Cancer',\n",
    "    'CN7': 'Cancer',\n",
    "    'CN8': 'Cancer',\n",
    "    'CN9': 'Neutrophil niche',\n",
    "    'CN10': 'Cancer',\n",
    "    'CN11': 'Cancer'\n",
    "}\n",
    "adata.obs['Niche'] = adata.obs['CN'].map(niches_descriptive).astype('category')"
   ]
  },
  {
   "cell_type": "code",
   "execution_count": null,
   "id": "9419e483-5b61-4d73-9487-fc4787bdd03a",
   "metadata": {},
   "outputs": [],
   "source": [
    "niche_colors = {\n",
    "    'Epithelial niche': '#e65e5e',\n",
    "    'Cancer': '#528df2',\n",
    "    'Cancer - myeloid-enriched': '#6b46bd',\n",
    "    'Cancer - fibroblast-enriched': '#518ebd',\n",
    "    'Stromal niche': '#44a685',\n",
    "    'Neutrophil niche': '#ffbf00'\n",
    "}\n",
    "adata.uns['colors']['Niche'] = niche_colors"
   ]
  },
  {
   "cell_type": "markdown",
   "id": "12cad2df-cb36-4b04-b494-6008a8b71250",
   "metadata": {},
   "source": [
    "## Cluster analysis"
   ]
  },
  {
   "cell_type": "code",
   "execution_count": null,
   "id": "35ebe047-2903-471a-8575-a7b43943d1db",
   "metadata": {},
   "outputs": [],
   "source": [
    "nc_key = 'delaunayr50_nb_leiden_0.15'\n",
    "neighbor_key='delaunayr50_connectivities'\n",
    "adata.obsp['delaunayr50_connectivities'].sum(axis=1).max()"
   ]
  },
  {
   "cell_type": "code",
   "execution_count": null,
   "id": "56e19139-a2e0-4243-8e18-43add1f1bdd5",
   "metadata": {},
   "outputs": [],
   "source": [
    "celltype_neighbors_df = spp.get_neighbors(adata, obs_key='celltype', neighbors_key='delaunayr50_connectivities', n_jobs=n_jobs)"
   ]
  },
  {
   "cell_type": "code",
   "execution_count": null,
   "id": "7e70af82-50a6-44ef-85a5-f8604a274ca1",
   "metadata": {},
   "outputs": [],
   "source": [
    "# get cells that have neutrophils as neighbors\n",
    "adata.obs['neutrophil_neighbors'] = celltype_neighbors_df['Neutrophil'].values.copy()"
   ]
  },
  {
   "cell_type": "code",
   "execution_count": null,
   "id": "af92696a-0e7d-4d27-9fd8-3658f8dd48c4",
   "metadata": {},
   "outputs": [],
   "source": [
    "# find aggregates\n",
    "adata = spp.find_aggregates(adata, celltype='Neutrophil', n_neighbors=3, max_iterations=10, n_neighbors_key='neutrophil_neighbors',\n",
    "                            aggr_key='neutrophil_aggregate', neighbors_key=neighbor_key)\n",
    "adata.obs['neutrophil_aggregate_seed'].value_counts()\n",
    "adata.obs['neutrophil_aggregate'].value_counts()"
   ]
  },
  {
   "cell_type": "code",
   "execution_count": null,
   "id": "7128c926-02cc-4cf6-8ec8-a937750ca8df",
   "metadata": {},
   "outputs": [],
   "source": [
    "adata.obs['Neutrophil'] = 'other celltype'\n",
    "adata.obs.loc[adata.obs['celltype'] == 'Neutrophil', 'Neutrophil'] = 'dispersed'\n",
    "adata.obs.loc[(adata.obs['celltype'] == 'Neutrophil') & (adata.obs['neutrophil_aggregate'] == True), 'Neutrophil'] = 'clustered'\n",
    "adata.obs['Neutrophil'].value_counts()"
   ]
  },
  {
   "cell_type": "code",
   "execution_count": null,
   "id": "ff19add0-cf42-4374-a9a2-a6f49103ab80",
   "metadata": {},
   "outputs": [],
   "source": []
  },
  {
   "cell_type": "code",
   "execution_count": null,
   "id": "f07f5113-3a08-4b78-b5dc-d0fccefced62",
   "metadata": {},
   "outputs": [],
   "source": [
    "# save\n",
    "adata.write_h5ad(os.path.join(processed_datadir, 'crc_ffpe_niches.h5ad'))"
   ]
  },
  {
   "cell_type": "code",
   "execution_count": null,
   "id": "9754bf97-242c-4480-8223-f48ada63e6a7",
   "metadata": {},
   "outputs": [],
   "source": [
    "sdata = sd.read_zarr(os.path.join(processed_datadir, 'crca_xenium.zarr'))\n",
    "sdata['niches'] = adata\n",
    "sdata = spp.match_ids(sdata, ['cell_boundaries'], table_key='anno')\n",
    "sdata.tables['niches'].obs['region'] = 'cell_boundaries'\n",
    "sdata.set_table_annotates_spatialelement('niches', region_key='region', region='cell_boundaries')\n",
    "sdata.delete_element_from_disk('niches')\n",
    "sdata.write_element('niches', overwrite=True)"
   ]
  }
 ],
 "metadata": {
  "kernelspec": {
   "display_name": "xenium",
   "language": "python",
   "name": "xenium"
  },
  "language_info": {
   "codemirror_mode": {
    "name": "ipython",
    "version": 3
   },
   "file_extension": ".py",
   "mimetype": "text/x-python",
   "name": "python",
   "nbconvert_exporter": "python",
   "pygments_lexer": "ipython3",
   "version": "3.10.16"
  }
 },
 "nbformat": 4,
 "nbformat_minor": 5
}
