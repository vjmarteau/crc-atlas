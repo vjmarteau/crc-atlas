{
 "cells": [
  {
   "cell_type": "code",
   "execution_count": null,
   "id": "41a593c9-efe2-4727-8856-09a60696bfd5",
   "metadata": {},
   "outputs": [],
   "source": [
    "import numpy as np\n",
    "import pandas as pd\n",
    "import os\n",
    "import sys\n",
    "import matplotlib as mpl\n",
    "import matplotlib.pyplot as plt\n",
    "import matplotlib.patches as patches\n",
    "import seaborn as sns\n",
    "import anndata as ad\n",
    "import scanpy as sc\n",
    "import squidpy as sq\n",
    "import spatialdata as sd\n",
    "import spatialdata_io as sdio\n",
    "import spatialdata_plot\n",
    "\n",
    "prjdir = os.path.abspath(os.path.join(os.getcwd(), '../..'))\n",
    "if prjdir not in sys.path:\n",
    "    sys.path.append(prjdir)\n",
    "\n",
    "n_jobs=8\n",
    "sc.settings.n_jobs=n_jobs\n",
    "sc.set_figure_params(dpi=300, frameon=True, vector_friendly=True, fontsize=10)\n",
    "\n",
    "from matplotlib.colors import LinearSegmentedColormap\n",
    "cmap = LinearSegmentedColormap.from_list('grey_to_blue', ['lightgrey', 'mediumblue'])"
   ]
  },
  {
   "cell_type": "code",
   "execution_count": null,
   "id": "411169a8-b346-4c89-a882-e320f54f9db8",
   "metadata": {},
   "outputs": [],
   "source": [
    "%load_ext autoreload\n",
    "%autoreload 2\n",
    "import src.spatial_helpers.spatial as spp\n",
    "import src.spatial_helpers.spatialplot as spl\n",
    "import src.spatial_helpers.sc as scp\n",
    "scp.set_all_seeds()"
   ]
  },
  {
   "cell_type": "code",
   "execution_count": null,
   "id": "6c2f68b1-089e-4d1e-8717-4c86ada2e751",
   "metadata": {},
   "outputs": [],
   "source": [
    "datadir = '../../data/xenium_merged'\n",
    "resultsdir = '../../data/xenium_results'\n",
    "os.makedirs(resultsdir, exist_ok=True)\n",
    "sc.settings.figdir = os.path.join(resultsdir)"
   ]
  },
  {
   "cell_type": "code",
   "execution_count": null,
   "id": "e3e41a25-318d-4afd-a432-6b70f3cb4728",
   "metadata": {},
   "outputs": [],
   "source": []
  },
  {
   "cell_type": "code",
   "execution_count": null,
   "id": "d00167d4-2d90-42a3-98b3-8ee2538e84c9",
   "metadata": {},
   "outputs": [],
   "source": []
  },
  {
   "cell_type": "markdown",
   "id": "aaa8b9b1-ee85-4a2c-a28f-8b1968a94a84",
   "metadata": {},
   "source": [
    "## Figures"
   ]
  },
  {
   "cell_type": "code",
   "execution_count": null,
   "id": "511094bc-11f1-4236-a0ac-19d1592a302b",
   "metadata": {},
   "outputs": [],
   "source": []
  },
  {
   "cell_type": "code",
   "execution_count": null,
   "id": "0fa03fc6-a4fa-4df2-815e-a486e9d266c1",
   "metadata": {},
   "outputs": [],
   "source": []
  },
  {
   "cell_type": "code",
   "execution_count": null,
   "id": "2fdd84d8-0fb9-445f-b621-410b276bf1bb",
   "metadata": {},
   "outputs": [],
   "source": []
  },
  {
   "cell_type": "code",
   "execution_count": null,
   "id": "dcd84927-2198-41a8-be26-01265f12ce9b",
   "metadata": {},
   "outputs": [],
   "source": []
  },
  {
   "cell_type": "code",
   "execution_count": null,
   "id": "10fbaf64-6e74-49c3-99ca-84b809c3f481",
   "metadata": {},
   "outputs": [],
   "source": []
  },
  {
   "cell_type": "code",
   "execution_count": null,
   "id": "d18ec367-2487-4e41-9c6e-473f00a609fe",
   "metadata": {},
   "outputs": [],
   "source": []
  },
  {
   "cell_type": "code",
   "execution_count": null,
   "id": "4285a2c3-f72b-42e0-9983-eb3157b42192",
   "metadata": {},
   "outputs": [],
   "source": []
  },
  {
   "cell_type": "code",
   "execution_count": null,
   "id": "9b7e1e98-7129-426b-923a-606a87f9415f",
   "metadata": {},
   "outputs": [],
   "source": []
  },
  {
   "cell_type": "code",
   "execution_count": null,
   "id": "985c21ea-f12d-473b-b4ba-09c485793e92",
   "metadata": {},
   "outputs": [],
   "source": []
  },
  {
   "cell_type": "code",
   "execution_count": null,
   "id": "292287cf-c0bd-478d-9a02-541b0f73c925",
   "metadata": {},
   "outputs": [],
   "source": []
  },
  {
   "cell_type": "code",
   "execution_count": null,
   "id": "888f9a21-1cb6-4242-a0ed-581724c66664",
   "metadata": {},
   "outputs": [],
   "source": []
  },
  {
   "cell_type": "code",
   "execution_count": null,
   "id": "5ec769e4-2036-4f39-bddc-32800a20f323",
   "metadata": {},
   "outputs": [],
   "source": []
  }
 ],
 "metadata": {
  "kernelspec": {
   "display_name": "crca-spatial",
   "language": "python",
   "name": "crca-spatial"
  },
  "language_info": {
   "codemirror_mode": {
    "name": "ipython",
    "version": 3
   },
   "file_extension": ".py",
   "mimetype": "text/x-python",
   "name": "python",
   "nbconvert_exporter": "python",
   "pygments_lexer": "ipython3",
   "version": "3.11.9"
  }
 },
 "nbformat": 4,
 "nbformat_minor": 5
}
