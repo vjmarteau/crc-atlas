{
 "cells": [
  {
   "cell_type": "markdown",
   "id": "7556ade9-ed02-4af1-bb51-4c5fb9c5f668",
   "metadata": {},
   "source": [
    "## 05. Results"
   ]
  },
  {
   "cell_type": "markdown",
   "id": "ce0fbe2e-e61f-456a-b7b7-048edde08e0c",
   "metadata": {
    "editable": true,
    "slideshow": {
     "slide_type": ""
    },
    "tags": []
   },
   "source": [
    "Notebook to reproduce the figures<br>\n",
    "The processed data can be downloaded from the BioImage Archive (https://doi.org/10.6019/S-BIAD2208)<br>\n",
    "To download only the adata object: 'https://ftp.ebi.ac.uk/pub/databases/biostudies/S-BIAD2208/xenium/processed/crca_xenium.h5ad'<br>\n",
    "To download only the sdata object: 'https://ftp.ebi.ac.uk/pub/databases/biostudies/S-BIAD2208/xenium/processed/crca_xenium.zarr.zip'<br>\n",
    "Run this notebook in the 'xenium' conda env"
   ]
  },
  {
   "cell_type": "code",
   "execution_count": null,
   "id": "5ced5dae-45cf-4a7b-9fb8-93c1de60ed93",
   "metadata": {},
   "outputs": [],
   "source": [
    "import numpy as np\n",
    "import pandas as pd\n",
    "import os\n",
    "import sys\n",
    "import subprocess\n",
    "import matplotlib as mpl\n",
    "import matplotlib.pyplot as plt\n",
    "import matplotlib.patches as patches\n",
    "import seaborn as sns\n",
    "import anndata as ad\n",
    "import scanpy as sc\n",
    "import squidpy as sq\n",
    "import spatialdata as sd\n",
    "import spatialdata_io as sdio\n",
    "import spatialdata_plot\n",
    "import liana as li\n",
    "import zipfile\n",
    "from plotnine import labs, theme, element_text\n",
    "\n",
    "prjdir = os.path.abspath(os.path.join(os.getcwd(), '../..'))\n",
    "if prjdir not in sys.path:\n",
    "    sys.path.append(prjdir)\n",
    "\n",
    "n_jobs=8\n",
    "sc.settings.n_jobs=n_jobs\n",
    "sc.set_figure_params(dpi=300, frameon=True, vector_friendly=True, fontsize=10)\n",
    "\n",
    "from matplotlib.colors import LinearSegmentedColormap\n",
    "cmap = LinearSegmentedColormap.from_list('grey_to_blue', ['lightgrey', 'mediumblue'])"
   ]
  },
  {
   "cell_type": "code",
   "execution_count": null,
   "id": "ff52acaf-9e9a-4f3c-83ff-b1909fcfd4df",
   "metadata": {},
   "outputs": [],
   "source": [
    "%load_ext autoreload\n",
    "%autoreload 2\n",
    "import src.spatial_helpers.spatial as spp\n",
    "import src.spatial_helpers.spatialplot as spl\n",
    "import src.spatial_helpers.sc as scp\n",
    "scp.set_all_seeds()"
   ]
  },
  {
   "cell_type": "code",
   "execution_count": null,
   "id": "f813adf0-2284-436c-af51-9b8f1a6cf446",
   "metadata": {},
   "outputs": [],
   "source": []
  },
  {
   "cell_type": "code",
   "execution_count": null,
   "id": "6f735540-f999-456b-9c11-95c038d2a83c",
   "metadata": {},
   "outputs": [],
   "source": [
    "processed_datadir = '../../data/xenium/processed'\n",
    "resultsdir = '../../results/xenium'\n",
    "os.makedirs(resultsdir, exist_ok=True)\n",
    "sc.settings.figdir = resultsdir"
   ]
  },
  {
   "cell_type": "code",
   "execution_count": null,
   "id": "58069642-e975-41f1-ab68-752c1df53f59",
   "metadata": {},
   "outputs": [],
   "source": [
    "# download the processed data only\n",
    "if not os.path.exists(processed_datadir):\n",
    "    os.makedirs(processed_datadir, exist_ok=True)\n",
    "    ftp_url = 'ftp://ftp.ebi.ac.uk/pub/databases/biostudies/S-BIAD/208/S-BIAD2208/Files/xenium/processed'\n",
    "    command = [\n",
    "        'wget',\n",
    "        '-r',\n",
    "        '--ftp-user=anonymous',\n",
    "        '--ftp-password=anonymous',\n",
    "        '--cut-dirs=9',\n",
    "        '-nH',\n",
    "        '-P', processed_datadir,\n",
    "        ftp_url\n",
    "    ]\n",
    "    subprocess.run(command, capture_output=True, text=True)\n",
    "\n",
    "    # unzip the downloaded data\n",
    "    zarrzipfile = os.path.join(processed_datadir, 'crca_xenium.zarr.zip')\n",
    "    with zipfile.ZipFile(zarrzipfile, 'r') as zip_ref:\n",
    "        zip_ref.extractall(processed_datadir)"
   ]
  },
  {
   "cell_type": "code",
   "execution_count": null,
   "id": "f7c44a37-f5b4-48de-81bc-ffafb37f1232",
   "metadata": {},
   "outputs": [],
   "source": [
    "# load sdata (for spatial plots) or just the adata object\n",
    "sdata = sd.read_zarr(os.path.join(processed_datadir, 'crca_xenium.zarr')) \n",
    "adata = sc.read_h5ad(os.path.join(processed_datadir, 'crca_xenium.h5ad'))\n",
    "# adata = sdata['niches']"
   ]
  },
  {
   "cell_type": "code",
   "execution_count": null,
   "id": "66dabb6a-fe6e-489c-976a-24413e8893e4",
   "metadata": {},
   "outputs": [],
   "source": [
    "# plotting params\n",
    "dpi = 300\n",
    "dpi_raster = 2000\n",
    "linewidth = 0.5\n",
    "fontsize = 6\n",
    "pagewidth = 8.3 * 0.95\n",
    "pageheight = 11.7 * 0.95\n",
    "sc.set_figure_params(dpi=dpi, frameon=True, vector_friendly=True, fontsize=fontsize)"
   ]
  },
  {
   "cell_type": "code",
   "execution_count": null,
   "id": "a41806ad-ab82-410b-a158-3539334ce78d",
   "metadata": {},
   "outputs": [],
   "source": []
  },
  {
   "cell_type": "markdown",
   "id": "5763afe2-4287-4640-9cd0-af654078006e",
   "metadata": {},
   "source": [
    "## Figure 5"
   ]
  },
  {
   "cell_type": "markdown",
   "id": "d259bf6c-bfbf-4000-8ec5-0947572df374",
   "metadata": {},
   "source": [
    "### A. Spatial plot of cell types"
   ]
  },
  {
   "cell_type": "code",
   "execution_count": null,
   "id": "73a6a5ee-06f7-4b7b-b9ac-b38ddce6856a",
   "metadata": {},
   "outputs": [],
   "source": [
    "# get positions for top row\n",
    "ix = sdata['niches'].obs['tissue_region'] == 'core'\n",
    "spatial_df = pd.DataFrame(sdata['niches'].obsm['spatial'][ix], columns=['x', 'y'])\n",
    "spatial_df['group'] = sdata['niches'].obs[ix]['patient_id'].values\n",
    "group_centroids = spatial_df.groupby('group')[['x', 'y']].mean().reset_index()\n",
    "\n",
    "ax = spl.spatialplot(sdata, obs_key='celltype', shape='cell_boundaries', xlabel='µm', ylabel='µm', title=' ',\n",
    "                     table_key='niches', coordinate_system='merged_µm', legendsize=2, legend_markerscale=0.3,\n",
    "                     dpi=dpi_raster, fontsize=fontsize, figsize=(pagewidth, 1.4))\n",
    "\n",
    "# axes\n",
    "xticks = range(0, 95000, 10000)\n",
    "ax.set_xticks(xticks)\n",
    "ax.set_xticklabels([str(int(tick/1000)) for tick in reversed(xticks)]) \n",
    "ax.set_xticklabels(ax.get_xticklabels()[::-1])\n",
    "yticks = range(0, 28000, 5000)\n",
    "ax.set_yticks(yticks)\n",
    "ax.set_yticklabels([str(int(tick/1000)) for tick in yticks]) \n",
    "ax.set_yticklabels(ax.get_yticklabels()[::-1])\n",
    "plt.xlabel('mm', fontsize=5)\n",
    "plt.ylabel('')\n",
    "legend = ax.get_legend()\n",
    "legend.set_visible(False)\n",
    "\n",
    "# top annotation\n",
    "y_top = ax.get_ylim()[1]\n",
    "y_offset = 0.01 * (y_top - ax.get_ylim()[0])\n",
    "for _, row in group_centroids.iterrows():\n",
    "    ax.text(row['x'], y_top + y_offset, row['group'], ha='center', va='bottom', fontsize=fontsize)\n",
    "\n",
    "# side annotation\n",
    "row_labels = ['normal', 'margin', 'core']\n",
    "y_positions = [4500, 12500, 20500]\n",
    "x_label_pos = ax.get_xlim()[1] * 1.02\n",
    "for label, y in zip(row_labels, y_positions):\n",
    "    ax.text(x_label_pos, y, label, ha='left', va='center', fontsize=fontsize, rotation=90, color='black')\n",
    "\n",
    "plt.savefig(os.path.join(resultsdir, 'Fig_5a_Spatial_celltypes.pdf'), bbox_inches='tight', pad_inches=0.1, dpi=dpi_raster)"
   ]
  },
  {
   "cell_type": "code",
   "execution_count": null,
   "id": "d2524ba5-9be4-414a-a896-890b80ae780c",
   "metadata": {},
   "outputs": [],
   "source": []
  },
  {
   "cell_type": "markdown",
   "id": "4dfca4af-9b3e-4605-a9a0-7d1a2e7ea444",
   "metadata": {},
   "source": [
    "### B. Spatial plot of selected regions from tumor cores and margins"
   ]
  },
  {
   "cell_type": "code",
   "execution_count": null,
   "id": "41bd134c-ab6e-4904-8811-5d70257a566f",
   "metadata": {},
   "outputs": [],
   "source": [
    "## Core\n",
    "core = spp.subset_rect(sdata, x0=76300, y0=3500, xdim=500, ydim=500, table_key='niches', coordinate_system='merged_µm')\n",
    "translation = Translation([-76300, -3500], axes=(\"x\", \"y\"))\n",
    "set_transformation(core['cell_boundaries'], transformation=translation, to_coordinate_system='merged_µm_reset')\n",
    "\n",
    "ax = spl.spatialplot(core, obs_key='celltype', shape='cell_boundaries',  xlabel='µm', ylabel='µm', title='Tumor core', table_key='niches',\n",
    "                     coordinate_system='merged_µm_reset', fontsize=6, rasterize_shapes=False, figsize=(pagewidth*0.3, pagewidth*0.25))\n",
    "yticks = range(0, 600, 100)\n",
    "ax.set_yticks(yticks)\n",
    "ax.set_yticklabels([str(tick) for tick in yticks]) \n",
    "ax.set_yticklabels(ax.get_yticklabels()[::-1], rotation=0)\n",
    "legend = ax.get_legend()\n",
    "if legend:\n",
    "    legend.set_visible(False)\n",
    "plt.savefig(os.path.join(resultsdir, 'Fig_5c_part_1_core.pdf'), bbox_inches='tight', pad_inches=0, dpi=dpi_raster)"
   ]
  },
  {
   "cell_type": "code",
   "execution_count": null,
   "id": "e2ca03fc-e173-4492-b057-f557154929f3",
   "metadata": {},
   "outputs": [],
   "source": [
    "## Margin\n",
    "margin = spp.subset_rect(sdata, x0=83200, y0=11300, xdim=500, ydim=500, table_key='niches', coordinate_system='merged_µm')\n",
    "translation = Translation([-83200, -11300], axes=(\"x\", \"y\"))\n",
    "set_transformation(margin['cell_boundaries'], transformation=translation, to_coordinate_system='merged_µm_reset')\n",
    "\n",
    "ax = spl.spatialplot(margin, obs_key='celltype', shape='cell_boundaries', xlabel='µm', ylabel='µm', title='Invasive margin', table_key='niches',\n",
    "                     coordinate_system='merged_µm_reset', fontsize=6, rasterize_shapes=False, figsize=(pagewidth*0.3, pagewidth*0.25))\n",
    "yticks = range(0, 600, 100)\n",
    "ax.set_yticks(yticks)\n",
    "ax.set_yticklabels([str(tick) for tick in yticks]) \n",
    "ax.set_yticklabels(ax.get_yticklabels()[::-1], rotation=0)\n",
    "legend = ax.get_legend()\n",
    "if legend:\n",
    "    legend.set_visible(False) \n",
    "plt.savefig(os.path.join(resultsdir, 'Fig_5c_part_2_margin.pdf'), bbox_inches='tight', pad_inches=0, dpi=dpi_raster)"
   ]
  },
  {
   "cell_type": "code",
   "execution_count": null,
   "id": "1aa11cf7-f4d6-42d7-9c3d-2596f4387526",
   "metadata": {},
   "outputs": [],
   "source": []
  },
  {
   "cell_type": "markdown",
   "id": "8fe5edb3-f9fe-4a73-918b-a033fd3a838c",
   "metadata": {},
   "source": [
    "### C. Cell type composition of niches"
   ]
  },
  {
   "cell_type": "code",
   "execution_count": null,
   "id": "ff80a6d3-6c42-4279-97f0-7b26ec7f12ca",
   "metadata": {},
   "outputs": [],
   "source": [
    "df = adata.obs\n",
    "dfplot = (df.groupby(['Niche', 'celltype'], observed=True).size().unstack())\n",
    "dfplot = dfplot.div(dfplot.sum(axis=1), axis=0)\n",
    "with mpl.rc_context({'legend.markerscale': 0.5}):\n",
    "    fig, ax = plt.subplots(figsize=(pagewidth*0.5, pagewidth*0.22))\n",
    "    dfplot.plot(kind=\"barh\", stacked=True, ax=ax, width=0.7, color=spl.get_obs_colors(sdata['niches'], obs_key='celltype', colors_key='colors'))\n",
    "    legend = ax.legend(bbox_to_anchor=(1, 1), labelspacing=0.15, frameon=False, loc=\"upper left\")\n",
    "    ax.set_xlabel(\"\")\n",
    "    ax.set_ylabel(\"\")\n",
    "    ax.grid(False)\n",
    "    ax.set_xlim(0,1)\n",
    "    ax.invert_yaxis()\n",
    "    ax.tick_params(axis='both', which='major')\n",
    "    plt.tight_layout()\n",
    "    plt.savefig(os.path.join(resultsdir, 'Fig_5b_nichecompass_composition.pdf'), dpi=dpi_raster, bbox_inches='tight')\n",
    "    plt.savefig(os.path.join(resultsdir, 'Fig_5b_nichecompass_composition.jpg'), dpi=dpi_raster, bbox_inches='tight')"
   ]
  },
  {
   "cell_type": "code",
   "execution_count": null,
   "id": "22da2153-1cf0-4f6d-b512-fbab3d2d2d00",
   "metadata": {},
   "outputs": [],
   "source": []
  },
  {
   "cell_type": "markdown",
   "id": "015a27fa-bb4f-404d-b8ae-9ee5cd8a712e",
   "metadata": {},
   "source": [
    "### D. Markers of neutrophils in the neutrophil niche"
   ]
  },
  {
   "cell_type": "code",
   "execution_count": null,
   "id": "6adcdfb8-63a8-4b89-bee1-c5b65b8c8715",
   "metadata": {},
   "outputs": [],
   "source": [
    "celltype = 'Neutrophil'\n",
    "adata_sub = adata[(adata.obs['celltype']==celltype),:].copy()\n",
    "test_genes = spp.filter_bg_genes(adata, list(adata.var.index), target_celltype='Neutrophil', expr_thres=0.4, corr_thres=0.5)\n",
    "adata_sub = adata_sub[:,test_genes]\n",
    "\n",
    "# wilcoxon\n",
    "sc.tl.rank_genes_groups(adata_sub, layer='norm', groupby='Niche', key_added='Niche_rank', method='wilcoxon')\n",
    "\n",
    "de_genes = scp.marker_dotplot(adata_sub, n_genes=5, group_by='Niche', group='Neutrophil niche', rank_key='Niche_rank',\n",
    "                              swap_axes=False, font_size=6, dpi=dpi, figsize=(pagewidth*0.3, pagewidth*0.25),\n",
    "                              save=os.path.join(resultsdir, 'Fig_5d_Neutrophil_niche_'+celltype+'.jpg'))\n",
    "de_genes = scp.marker_dotplot(adata_sub, n_genes=5, group_by='Niche', group='Neutrophil niche', rank_key='Niche_rank',\n",
    "                              swap_axes=False, font_size=6, dpi=dpi, figsize=(pagewidth*0.3, pagewidth*0.25),\n",
    "                              save=os.path.join(resultsdir, 'Fig_5d_Neutrophil_niche_'+celltype+'.pdf'))\n",
    "\n",
    "# deseq2\n",
    "adata_sub.obs['Niche_redef'] = 'other'\n",
    "adata_sub.obs.loc[adata_sub.obs['Niche'] == 'Neutrophil niche', 'Niche_redef'] = 'Neutrophil niche'\n",
    "contrasts={'Niche': ['Niche_redef', 'Neutrophil niche', 'other']}\n",
    "res, dds = scp.run_pydeseq2(adata_sub, formula='~ *CONTRAST* + tissue_region + patient_id', contrasts=contrasts, aggregate_by='name', min_cells=50, layer='counts', n_jobs=n_jobs)\n",
    "res['Niche'][res['Niche']['log2FoldChange'] > 1.5]"
   ]
  },
  {
   "cell_type": "code",
   "execution_count": null,
   "id": "a56006fe-dc2a-4a8b-9f35-adfb686178fe",
   "metadata": {},
   "outputs": [],
   "source": []
  },
  {
   "cell_type": "markdown",
   "id": "21215233-ea91-4917-aeb0-fc25a8a4741a",
   "metadata": {},
   "source": [
    "### E. Markers of fibroblasts in the neutrophil niche"
   ]
  },
  {
   "cell_type": "code",
   "execution_count": null,
   "id": "474afa50-4778-4bb4-b0c0-50b8428f6e5e",
   "metadata": {},
   "outputs": [],
   "source": [
    "celltype = 'Fibroblast'\n",
    "adata_sub = adata[(adata.obs['celltype']==celltype),:].copy()\n",
    "test_genes = spp.filter_bg_genes(adata, list(adata.var.index), target_celltype='Fibroblast', expr_thres=0.25, corr_thres=0.5)\n",
    "adata_sub = adata_sub[:,test_genes]\n",
    "\n",
    "# wilcoxon\n",
    "sc.tl.rank_genes_groups(adata_sub, layer='norm', groupby='Niche', key_added='Niche_rank', method='wilcoxon')\n",
    "\n",
    "de_genes = scp.marker_dotplot(adata_sub, n_genes=5, group_by='Niche', group='Neutrophil niche', rank_key='Niche_rank',\n",
    "                              swap_axes=False, font_size=6, dpi=dpi, figsize=(pagewidth*0.3, pagewidth*0.25),\n",
    "                              save=os.path.join(resultsdir, 'Fig_5e_Neutrophil_niche_'+celltype+'.jpg'))\n",
    "de_genes = scp.marker_dotplot(adata_sub, n_genes=5, group_by='Niche', group='Neutrophil niche', rank_key='Niche_rank',\n",
    "                              swap_axes=False, font_size=6, dpi=dpi, figsize=(pagewidth*0.3, pagewidth*0.25),\n",
    "                              save=os.path.join(resultsdir, 'Fig_5e_Neutrophil_niche_'+celltype+'.pdf'))\n",
    "\n",
    "# deseq2\n",
    "adata_sub.obs['Niche_redef'] = 'other'\n",
    "adata_sub.obs.loc[adata_sub.obs['Niche'] == 'Neutrophil niche', 'Niche_redef'] = 'Neutrophil niche'\n",
    "contrasts={'Niche': ['Niche_redef', 'Neutrophil niche', 'other']}\n",
    "res, dds = scp.run_pydeseq2(adata_sub, formula='~ *CONTRAST* + tissue_region + patient_id', contrasts=contrasts, aggregate_by='name', min_cells=50, layer='counts', n_jobs=n_jobs)\n",
    "res['Niche'][res['Niche']['log2FoldChange'] > 1.5]"
   ]
  },
  {
   "cell_type": "code",
   "execution_count": null,
   "id": "177f3bdf-9b79-4f43-8304-1e4bdfb35f79",
   "metadata": {},
   "outputs": [],
   "source": []
  },
  {
   "cell_type": "markdown",
   "id": "7cb77db2-6fe3-442d-b87b-66a8888465fe",
   "metadata": {},
   "source": [
    "### F. Selected neutrophil/fibroblast markers in all main cell types of the neutrophil niche"
   ]
  },
  {
   "cell_type": "code",
   "execution_count": null,
   "id": "5cf0dba2-7caf-42e1-bbb3-fca1c5c68915",
   "metadata": {},
   "outputs": [],
   "source": [
    "# genes that are upregulated in fibroblasts vs. other cell types within neutrophil niche\n",
    "adata_nn = adata[(adata.obs['Niche']=='Neutrophil niche') & (adata.obs['celltype'].isin(['Neutrophil', 'Cancer cell', 'Fibroblast', 'Macrophage'])),:].copy()\n",
    "\n",
    "# wilcoxon\n",
    "sc.tl.rank_genes_groups(adata_nn, layer='norm', groupby='celltype', key_added='Niche_rank', method='wilcoxon')\n",
    "sc.get.rank_genes_groups_df(adata_nn, group='Fibroblast', key='Niche_rank')\n",
    "\n",
    "# deseq2\n",
    "test_genes = spp.filter_bg_genes(adata, list(adata.var.index), target_celltype='Fibroblast', expr_thres=0.25, corr_thres=0.5)\n",
    "adata_sub = adata_nn[:,test_genes].copy()\n",
    "adata_sub.obs['ct_fibroblast'] = 'other'\n",
    "adata_sub.obs.loc[adata_sub.obs['celltype'] == 'Fibroblast', 'ct_fibroblast'] = 'Fibroblast'\n",
    "contrasts={'Fibroblast': ['ct_fibroblast', 'Fibroblast', 'other']}\n",
    "res, dds = scp.run_pydeseq2(adata_sub, formula='~ *CONTRAST* + tissue_region + patient_id', contrasts=contrasts, aggregate_by='name', min_cells=50, layer='counts', n_jobs=n_jobs)\n",
    "res['Fibroblast'][res['Fibroblast']['log2FoldChange'] > 1.5]\n",
    "\n",
    "# selected genes\n",
    "genes = ['CXCL1', 'CXCL3', 'CXCL5', 'IL1A', 'IL1B', 'IL1R1']\n",
    "\n",
    "sel_genes = scp.marker_dotplot(adata_nn, genes=genes, group_by='celltype', rank_key='Niche_rank',\n",
    "                               swap_axes=False, font_size=6, dpi=dpi, figsize=(pagewidth*0.3, pagewidth*0.25),\n",
    "                               save=os.path.join(resultsdir, 'Fig_5F_Neutrophil_niche_selected.jpg'))\n",
    "sel_genes = scp.marker_dotplot(adata_nn, genes=genes, group_by='celltype', rank_key='Niche_rank',\n",
    "                               swap_axes=False, font_size=6, dpi=dpi, figsize=(pagewidth*0.3, pagewidth*0.25),\n",
    "                               save=os.path.join(resultsdir, 'Fig_5F_Neutrophil_niche_selected.pdf'))"
   ]
  },
  {
   "cell_type": "code",
   "execution_count": null,
   "id": "bc41c33d-1982-406a-898e-f11247f2851a",
   "metadata": {},
   "outputs": [],
   "source": []
  },
  {
   "cell_type": "markdown",
   "id": "53e70a04-f94c-4efc-b6dc-660590de096a",
   "metadata": {},
   "source": [
    "## Supplementary Figure 5"
   ]
  },
  {
   "cell_type": "markdown",
   "id": "0dd56f08-1551-4441-9655-257ac49a12c0",
   "metadata": {},
   "source": [
    "### A. Spatial plot of neutrophils"
   ]
  },
  {
   "cell_type": "code",
   "execution_count": null,
   "id": "a57f9f00-6957-4a44-92d8-d04f9c280269",
   "metadata": {},
   "outputs": [],
   "source": [
    "sdata['niches'].obs['is_neutrophil'] = 'Other'\n",
    "sdata['niches'].obs.loc[sdata['niches'].obs['celltype'] == 'Neutrophil', 'is_neutrophil'] = 'Neutrophil'\n",
    "groups = ['Neutrophil']\n",
    "colors_ref=[\"blue\", \"red\", \"yellow\"]\n",
    "palette = [colors_ref[i % len(colors_ref)] for i in range(len(groups))]\n",
    "palette.append(\"#cccccc\")\n",
    "groups.append(\"other\")\n",
    "\n",
    "ax = spl.spatialplot(sdata, obs_key='is_neutrophil', shape='cell_boundaries', xlabel='µm', ylabel='µm', title=' ', \n",
    "                     groups=groups, palette=palette,\n",
    "                     table_key='niches', coordinate_system='merged_µm', legendsize=2, legend_markerscale=0.3,\n",
    "                     dpi=dpi_raster, fontsize=fontsize, figsize=(pagewidth, 1.4))\n",
    "\n",
    "# axes\n",
    "xticks = range(0, 95000, 10000)\n",
    "ax.set_xticks(xticks)\n",
    "ax.set_xticklabels([str(int(tick/1000)) for tick in reversed(xticks)]) \n",
    "ax.set_xticklabels(ax.get_xticklabels()[::-1])\n",
    "yticks = range(0, 28000, 5000)\n",
    "ax.set_yticks(yticks)\n",
    "ax.set_yticklabels([str(int(tick/1000)) for tick in yticks]) \n",
    "ax.set_yticklabels(ax.get_yticklabels()[::-1])\n",
    "plt.xlabel('mm', fontsize=5)\n",
    "plt.ylabel('')\n",
    "legend = ax.get_legend()\n",
    "legend.set_visible(False)\n",
    "\n",
    "# top annotation\n",
    "y_top = ax.get_ylim()[1]\n",
    "y_offset = 0.01 * (y_top - ax.get_ylim()[0])\n",
    "for _, row in group_centroids.iterrows():\n",
    "    ax.text(row['x'], y_top + y_offset, row['group'], ha='center', va='bottom', fontsize=fontsize)\n",
    "\n",
    "# side annotation\n",
    "row_labels = ['normal', 'margin', 'core']\n",
    "y_positions = [4500, 12500, 20500]\n",
    "x_label_pos = ax.get_xlim()[1] * 1.02\n",
    "for label, y in zip(row_labels, y_positions):\n",
    "    ax.text(x_label_pos, y, label, ha='left', va='center', fontsize=fontsize, rotation=90, color='black')\n",
    "\n",
    "plt.savefig(os.path.join(resultsdir, 'Fig_S5a_Neutrophils.pdf'), bbox_inches='tight', pad_inches=0.1, dpi=dpi_raster)"
   ]
  },
  {
   "cell_type": "code",
   "execution_count": null,
   "id": "c6b06050-df7c-469c-a12f-e97123041539",
   "metadata": {},
   "outputs": [],
   "source": []
  },
  {
   "cell_type": "markdown",
   "id": "608b0de2-7815-41fa-b8df-46ebd2e2a67c",
   "metadata": {},
   "source": [
    "### B. Nichecompass latent space UMAP"
   ]
  },
  {
   "cell_type": "code",
   "execution_count": null,
   "id": "ce6eaa99-4985-4fc4-94f6-6f4b92df9a32",
   "metadata": {},
   "outputs": [],
   "source": [
    "with mpl.rc_context({'legend.markerscale': 0.5}):\n",
    "    fig, ax = plt.subplots(figsize=(pagewidth*0.3, pagewidth*0.25))\n",
    "    niche_colors = sdata['niches'].uns['colors']['Niche']\n",
    "    sc.pl.embedding(adata, 'nichecompass_umap', color='Niche', palette=niche_colors, edges_width=0.02, show=False, size=0.008, ax=ax)\n",
    "    ax.set_aspect('equal')\n",
    "    for spine in ax.spines.values():\n",
    "        spine.set_linewidth(linewidth)\n",
    "    ax.set_title('')\n",
    "    plt.savefig(os.path.join(resultsdir, 'Fig_5b_nichecompass_latent_umap_niches.pdf'), dpi=dpi_raster, bbox_inches='tight')\n",
    "    plt.savefig(os.path.join(resultsdir, 'Fig_5b_nichecompass_latent_umap_niches.jpg'), dpi=dpi_raster, bbox_inches='tight')"
   ]
  },
  {
   "cell_type": "code",
   "execution_count": null,
   "id": "3b3522cc-8e60-44af-b75d-84c44a62a0ed",
   "metadata": {},
   "outputs": [],
   "source": []
  },
  {
   "cell_type": "markdown",
   "id": "4d543025-e356-4676-bac8-b56187ca033b",
   "metadata": {},
   "source": [
    "### C. Neutrophil clustering"
   ]
  },
  {
   "cell_type": "code",
   "execution_count": null,
   "id": "3d26aee5-234a-46b1-aeb8-3c42c8b5c58c",
   "metadata": {},
   "outputs": [],
   "source": [
    "df = adata.obs.copy()\n",
    "df['Neutrophil'] = df['Neutrophil'].map({'in cluster': 'clustered', 'not in cluster': 'dispersed'})\n",
    "clust_colors = {'clustered': '#60947d', 'dispersed': '#95b6e8'}\n",
    "dfplot = (df.groupby(['Niche', 'Neutrophil'], observed=True).size().unstack())\n",
    "dfplot = dfplot[['clustered', 'dispersed']]\n",
    "dfplot = dfplot.div(dfplot.sum(axis=1), axis=0)\n",
    "with mpl.rc_context({'legend.markerscale': 0.5}):\n",
    "    fig, ax = plt.subplots(figsize=(pagewidth*0.4, pagewidth*0.27))\n",
    "    dfplot.plot(kind=\"barh\", stacked=True, ax=ax, color=clust_colors, width=0.7)\n",
    "    legend = ax.legend(bbox_to_anchor=(0, 1.3), labelspacing=0.15, frameon=False, loc=\"upper left\")\n",
    "    ax.set_xlabel(\"\")\n",
    "    ax.set_ylabel(\"\")\n",
    "    ax.grid(False)\n",
    "    ax.set_xlim(0,1)\n",
    "    ax.invert_yaxis()\n",
    "    ax.tick_params(axis='both', which='major')\n",
    "    ax.yaxis.set_label_position(\"right\")\n",
    "    ax.yaxis.tick_right()\n",
    "    plt.tight_layout()\n",
    "    plt.savefig(os.path.join(resultsdir, 'Fig_S5c_neutrophil_clustering.pdf'), dpi=dpi_raster, bbox_inches='tight')\n",
    "    plt.savefig(os.path.join(resultsdir, 'Fig_S5c_neutrophil_clustering.jpg'), dpi=dpi_raster, bbox_inches='tight')"
   ]
  },
  {
   "cell_type": "code",
   "execution_count": null,
   "id": "c3d9ef7d-3697-4de8-9359-3c1cea88b586",
   "metadata": {},
   "outputs": [],
   "source": []
  },
  {
   "cell_type": "markdown",
   "id": "03d9292c-bd11-496d-a99d-561b094ffd4d",
   "metadata": {},
   "source": [
    "### D. Spatial plot of niches"
   ]
  },
  {
   "cell_type": "code",
   "execution_count": null,
   "id": "f9d7c177-a43a-4186-b295-e46e2e894eeb",
   "metadata": {},
   "outputs": [],
   "source": [
    "ax = spl.spatialplot(sdata, obs_key='Niche', shape='cell_boundaries', xlabel='µm', ylabel='µm', title=' ',\n",
    "                     table_key='niches', coordinate_system='merged_µm', legendsize=2, legend_markerscale=0.3,\n",
    "                     dpi=dpi_raster, fontsize=fontsize, figsize=(pagewidth, 1.4))\n",
    "\n",
    "# axes\n",
    "xticks = range(0, 95000, 10000)\n",
    "ax.set_xticks(xticks)\n",
    "ax.set_xticklabels([str(int(tick/1000)) for tick in reversed(xticks)]) \n",
    "ax.set_xticklabels(ax.get_xticklabels()[::-1])\n",
    "yticks = range(0, 28000, 5000)\n",
    "ax.set_yticks(yticks)\n",
    "ax.set_yticklabels([str(int(tick/1000)) for tick in yticks]) \n",
    "ax.set_yticklabels(ax.get_yticklabels()[::-1])\n",
    "plt.xlabel('mm', fontsize=5)\n",
    "plt.ylabel('')\n",
    "legend = ax.get_legend()\n",
    "legend.set_visible(False)\n",
    "\n",
    "# top annotation\n",
    "y_top = ax.get_ylim()[1]\n",
    "y_offset = 0.01 * (y_top - ax.get_ylim()[0])\n",
    "for _, row in group_centroids.iterrows():\n",
    "    ax.text(row['x'], y_top + y_offset, row['group'], ha='center', va='bottom', fontsize=fontsize)\n",
    "\n",
    "# side annotation\n",
    "row_labels = ['normal', 'margin', 'core']\n",
    "y_positions = [4500, 12500, 20500]\n",
    "x_label_pos = ax.get_xlim()[1] * 1.02\n",
    "for label, y in zip(row_labels, y_positions):\n",
    "    ax.text(x_label_pos, y, label, ha='left', va='center', fontsize=fontsize, rotation=90, color='black')\n",
    "\n",
    "plt.savefig(os.path.join(resultsdir, 'Fig_S5b_Niches.pdf'), bbox_inches='tight', pad_inches=0.1, dpi=dpi_raster)"
   ]
  },
  {
   "cell_type": "code",
   "execution_count": null,
   "id": "65e57f6e-9339-4708-a425-b90df535590a",
   "metadata": {},
   "outputs": [],
   "source": []
  },
  {
   "cell_type": "markdown",
   "id": "972c2b6c-2278-46f3-bb0b-e5edc849a049",
   "metadata": {},
   "source": [
    "### E. Markers of cancer cells in the neutrophil niche"
   ]
  },
  {
   "cell_type": "code",
   "execution_count": null,
   "id": "522a3617-9896-4cb3-ab34-c86003834df5",
   "metadata": {},
   "outputs": [],
   "source": [
    "celltype = 'Cancer cell'\n",
    "adata_sub = adata[(adata.obs['celltype']==celltype),:].copy()\n",
    "test_genes = spp.filter_bg_genes(adata, list(adata.var.index), target_celltype=celltype, expr_thres=0.2, corr_thres=0.6)\n",
    "adata_sub = adata_sub[:,test_genes]\n",
    "\n",
    "# wilcoxon\n",
    "sc.tl.rank_genes_groups(adata_sub, layer='norm', groupby='Niche', key_added='Niche_rank', method='wilcoxon')\n",
    "\n",
    "de_genes = scp.marker_dotplot(adata_sub, n_genes=5, group_by='Niche', group='Neutrophil niche', rank_key='Niche_rank',\n",
    "                              swap_axes=False, font_size=6, dpi=dpi, figsize=(pagewidth*0.3, pagewidth*0.25),\n",
    "                              save=os.path.join(resultsdir, 'Fig_S5e_Neutrophil_niche_'+celltype+'.jpg'))\n",
    "de_genes = scp.marker_dotplot(adata_sub, n_genes=5, group_by='Niche', group='Neutrophil niche', rank_key='Niche_rank',\n",
    "                              swap_axes=False, font_size=6, dpi=dpi, figsize=(pagewidth*0.3, pagewidth*0.25),\n",
    "                              save=os.path.join(resultsdir, 'Fig_S5e_Neutrophil_niche_'+celltype+'.pdf'))\n",
    "\n",
    "# deseq2\n",
    "adata_sub.obs['Niche_redef'] = 'other'\n",
    "adata_sub.obs.loc[adata_sub.obs['Niche'] == 'Neutrophil niche', 'Niche_redef'] = 'Neutrophil niche'\n",
    "contrasts={'Niche': ['Niche_redef', 'Neutrophil niche', 'other']}\n",
    "res, dds = scp.run_pydeseq2(adata_sub, formula='~ *CONTRAST* + tissue_region + patient_id', contrasts=contrasts, aggregate_by='name', min_cells=50, layer='counts', n_jobs=n_jobs)\n",
    "res['Niche'][res['Niche']['log2FoldChange'] > 1.5]"
   ]
  },
  {
   "cell_type": "code",
   "execution_count": null,
   "id": "3f6875dc-24ab-498d-8d55-094a74fd73dd",
   "metadata": {},
   "outputs": [],
   "source": []
  },
  {
   "cell_type": "markdown",
   "id": "7ee9edfd-2d1a-49d1-be52-08bee824da4c",
   "metadata": {},
   "source": [
    "### F. LIANA dotplot of interactions of fibroblasts (source) with other celltypes (targets) in the neutrophil niche"
   ]
  },
  {
   "cell_type": "code",
   "execution_count": null,
   "id": "950ba692-c981-4d59-ab4d-48730cea73bd",
   "metadata": {},
   "outputs": [],
   "source": [
    "niche = 'Neutrophil niche'\n",
    "adata_nn = adata[adata.obs['Niche'] == niche].copy()\n",
    "li.mt.rank_aggregate(adata_nn,\n",
    "                     groupby='celltype',\n",
    "                     key_added = 'liana_celltype_' + niche,\n",
    "                     resource_name='consensus',\n",
    "                     expr_prop=0.1,\n",
    "                     min_cells = 100,\n",
    "                     use_raw=False,\n",
    "                     layer='norm',\n",
    "                     n_perms=100000,\n",
    "                     n_jobs=n_jobs,\n",
    "                     verbose=True)"
   ]
  },
  {
   "cell_type": "code",
   "execution_count": null,
   "id": "bec67c1f-4cb1-407b-8d6d-5b1b838d2956",
   "metadata": {},
   "outputs": [],
   "source": [
    "celltype='Fibroblast'\n",
    "fig = li.pl.dotplot(adata = adata_nn,\n",
    "                    uns_key='liana_celltype_' + niche,\n",
    "                    colour='magnitude_rank',\n",
    "                    size='specificity_rank',\n",
    "                    inverse_size=True,\n",
    "                    inverse_colour=True,\n",
    "                    source_labels=[celltype],\n",
    "                    top_n=15,\n",
    "                    cmap='cool',\n",
    "                    orderby='magnitude_rank',\n",
    "                    orderby_ascending=True,\n",
    "                    figure_size=(pagewidth*0.3, pagewidth*0.25),\n",
    "                    filter_fun=lambda x: x['specificity_rank'] <= 0.1,\n",
    "                    return_fig=True\n",
    "                   )\n",
    "fig = fig + labs(x='', y='', title='') + theme(text=element_text(color='black', size=10, weight='normal'), axis_text_x=element_text(color='black', size=10, weight='normal'))\n",
    "fig.save(os.path.join(resultsdir, 'Fig_S5f_Liana_' + niche + '_' + celltype + '.jpg'), width=pagewidth*0.7, height=pagewidth*0.6, dpi=dpi)\n",
    "fig.save(os.path.join(resultsdir, 'Fig_S5f_Liana_' + niche + '_' + celltype + '.pdf'), width=pagewidth*0.7, height=pagewidth*0.6, dpi=dpi)"
   ]
  },
  {
   "cell_type": "code",
   "execution_count": null,
   "id": "18ef1a7c-aac3-4a77-a267-d630df4ec977",
   "metadata": {},
   "outputs": [],
   "source": []
  }
 ],
 "metadata": {
  "kernelspec": {
   "display_name": "xenium",
   "language": "python",
   "name": "xenium"
  },
  "language_info": {
   "codemirror_mode": {
    "name": "ipython",
    "version": 3
   },
   "file_extension": ".py",
   "mimetype": "text/x-python",
   "name": "python",
   "nbconvert_exporter": "python",
   "pygments_lexer": "ipython3",
   "version": "3.10.16"
  }
 },
 "nbformat": 4,
 "nbformat_minor": 5
}
