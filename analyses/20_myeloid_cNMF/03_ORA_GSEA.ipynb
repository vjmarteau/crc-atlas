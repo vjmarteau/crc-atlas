{
 "cells": [
  {
   "cell_type": "markdown",
   "id": "bebe7ce6-1490-4322-acab-07ea4d9eb7dc",
   "metadata": {},
   "source": [
    "# ORA and GSEA"
   ]
  },
  {
   "cell_type": "markdown",
   "id": "702ec30f-6706-43fc-868f-438e06931198",
   "metadata": {},
   "source": [
    "## 1. Import"
   ]
  },
  {
   "cell_type": "code",
   "execution_count": null,
   "id": "51532bd3-9da7-4280-b974-ca88a4e8a209",
   "metadata": {},
   "outputs": [],
   "source": [
    "import decoupler as dc\n",
    "import os\n",
    "import scanpy as sc\n",
    "import pandas as pd\n",
    "import matplotlib.pyplot as plt\n",
    "import numpy as np\n",
    "import pickle\n",
    "\n",
    "\n",
    "np.random.seed(14)"
   ]
  },
  {
   "cell_type": "markdown",
   "id": "8c7b6deb-7de4-421b-ba30-6d094a03b941",
   "metadata": {},
   "source": [
    "## 2. Load databases"
   ]
  },
  {
   "cell_type": "markdown",
   "id": "9a925cd6-fb6c-4478-b2f5-09c48c7dbab8",
   "metadata": {},
   "source": [
    "### 2.1 MSigDB "
   ]
  },
  {
   "cell_type": "code",
   "execution_count": null,
   "id": "306e2cdc-7644-4617-b088-e22518685930",
   "metadata": {},
   "outputs": [],
   "source": [
    "msigdb = dc.op.resource('MSigDB', organism='human')"
   ]
  },
  {
   "cell_type": "code",
   "execution_count": null,
   "id": "fac2f058-8f92-4e37-b2df-9745d48b77fc",
   "metadata": {
    "scrolled": true
   },
   "outputs": [],
   "source": [
    "# Filter by GO terms\n",
    "msigdb = msigdb[msigdb['collection'].str.startswith('go')]\n",
    "# Remove duplicated entries\n",
    "msigdb = msigdb[~msigdb.duplicated(['geneset', 'genesymbol'])]\n",
    "msigdb"
   ]
  },
  {
   "cell_type": "code",
   "execution_count": null,
   "id": "9c9be12e-6efc-4d0a-aaf5-8cc13fc4932f",
   "metadata": {},
   "outputs": [],
   "source": [
    "msigdb.to_csv('dataset/msigdb_GOterms.csv', index=False)"
   ]
  },
  {
   "cell_type": "code",
   "execution_count": null,
   "id": "6d8067db-2e5d-4919-849d-805fdd02efd9",
   "metadata": {},
   "outputs": [],
   "source": [
    "msigdb = pd.read_csv('dataset/msigdb_GOterms.csv')"
   ]
  },
  {
   "cell_type": "markdown",
   "id": "73afd5ef-591c-4b8d-825c-f4385c7ebeeb",
   "metadata": {},
   "source": [
    "### 2.2 Hallmark"
   ]
  },
  {
   "cell_type": "code",
   "execution_count": null,
   "id": "cc075aaa-3e11-499e-aabd-335fd4972c65",
   "metadata": {
    "scrolled": true
   },
   "outputs": [],
   "source": [
    "hallmark = dc.op.hallmark(organism='human')\n",
    "hallmark"
   ]
  },
  {
   "cell_type": "markdown",
   "id": "8ac8497f-2514-4132-97e5-5840ab191459",
   "metadata": {},
   "source": [
    "## 3. Load consensus_top_genes_df"
   ]
  },
  {
   "cell_type": "code",
   "execution_count": null,
   "id": "223af229-7647-4ab8-9347-e259b07053f8",
   "metadata": {},
   "outputs": [],
   "source": [
    "output_directory = 'cNMF_w_filtered_genes'\n",
    "corrected_count_adat_fn = os.path.join(output_directory, 'corrected_counts.h5ad')\n",
    "adata = sc.read_h5ad(corrected_count_adat_fn)\n",
    "cohorts = adata.obs['dataset'].unique()"
   ]
  },
  {
   "cell_type": "code",
   "execution_count": null,
   "id": "4c120e53-b6b4-4546-8db0-2ad061ab6ae1",
   "metadata": {},
   "outputs": [],
   "source": [
    "directory = os.path.join(output_directory, \"2000hvg\")"
   ]
  },
  {
   "cell_type": "code",
   "execution_count": null,
   "id": "0bb52032-84e2-41b0-9c5a-3652d054215f",
   "metadata": {},
   "outputs": [],
   "source": [
    "consensus_top_genes_df = pd.read_csv(f\"{directory}/cos_similarity_consensus_top_genes_df.csv\")"
   ]
  },
  {
   "cell_type": "code",
   "execution_count": null,
   "id": "070b44c9-73bb-4ccb-8055-f035d5bb9463",
   "metadata": {},
   "outputs": [],
   "source": [
    "consensus_top_genes_df = consensus_top_genes_df.set_index('Unnamed: 0')\n",
    "consensus_top_genes_df.index.name = \"gene_id\""
   ]
  },
  {
   "cell_type": "code",
   "execution_count": null,
   "id": "950af395-e5e1-40f0-8d7e-4f2117d97db6",
   "metadata": {
    "scrolled": true
   },
   "outputs": [],
   "source": [
    "consensus_top_genes_df_og = consensus_top_genes_df.copy()\n",
    "consensus_top_genes_df = consensus_top_genes_df.head(20)\n",
    "consensus_top_genes_df"
   ]
  },
  {
   "cell_type": "code",
   "execution_count": null,
   "id": "1cd2c172-73e4-47d4-9ce1-5163351e147e",
   "metadata": {},
   "outputs": [],
   "source": [
    "# dataframe with boolean values\n",
    "all_genes = pd.unique(consensus_top_genes_df.values.ravel())\n",
    "bool_df = pd.DataFrame(0, index=all_genes, columns=consensus_top_genes_df.columns)\n",
    "\n",
    "# assign a 1 if gene is in top 100 of that consensus\n",
    "for consensus in consensus_top_genes_df.columns:\n",
    "    genes_in_consensus = consensus_top_genes_df[consensus].values\n",
    "    bool_df.loc[genes_in_consensus, consensus] = 1"
   ]
  },
  {
   "cell_type": "markdown",
   "id": "7c75da01-b66e-4cc7-a23c-e6e9582852ad",
   "metadata": {},
   "source": [
    "## 4. ORA"
   ]
  },
  {
   "cell_type": "markdown",
   "id": "4ff8d411-fe97-4387-b5b8-5b8ec447e72b",
   "metadata": {},
   "source": [
    "### 4.1 MSigDB GO terms"
   ]
  },
  {
   "cell_type": "code",
   "execution_count": null,
   "id": "1435d5cc-0c08-4d47-8373-a66e6f6079ef",
   "metadata": {},
   "outputs": [],
   "source": [
    "net = msigdb.rename(columns={\n",
    "    'geneset': 'source',\n",
    "    'genesymbol': 'target'\n",
    "})[['source', 'target']]"
   ]
  },
  {
   "cell_type": "code",
   "execution_count": null,
   "id": "6b5b20bb-1c5c-472f-a098-6346d120e83a",
   "metadata": {},
   "outputs": [],
   "source": [
    "genes_in_net = set(net['target'])\n",
    "filtered_bool_df = bool_df.loc[bool_df.index.intersection(genes_in_net)]"
   ]
  },
  {
   "cell_type": "code",
   "execution_count": null,
   "id": "3dce3cfe-bdbf-44b4-b760-d04e28112432",
   "metadata": {},
   "outputs": [],
   "source": [
    "pd.DataFrame(filtered_bool_df).sum()"
   ]
  },
  {
   "cell_type": "code",
   "execution_count": null,
   "id": "148225ab-d342-4fff-8227-81c854ca4c5d",
   "metadata": {},
   "outputs": [],
   "source": [
    "filtered_bool_df = filtered_bool_df.drop(columns=['consensus_11'])"
   ]
  },
  {
   "cell_type": "code",
   "execution_count": null,
   "id": "a0e4b202-ccad-46e7-81e7-420accfdd042",
   "metadata": {},
   "outputs": [],
   "source": [
    "# order the df\n",
    "filtered_bool_df = filtered_bool_df[sorted(filtered_bool_df.columns, key=lambda x: int(x.split(\"_\")[1]))]"
   ]
  },
  {
   "cell_type": "code",
   "execution_count": null,
   "id": "1a5b1ac4-2d26-488d-b9ee-d6a86d6965ab",
   "metadata": {
    "scrolled": true
   },
   "outputs": [],
   "source": [
    "output_dir = \"ora_MSigDB_barplots\"\n",
    "os.makedirs(output_dir, exist_ok=True)\n",
    "\n",
    "dict_ora_results = {} # tuples dictionary\n",
    "for consensus in filtered_bool_df.columns:\n",
    "    ora_results = dc.mt.ora(\n",
    "                        data = pd.DataFrame(filtered_bool_df[consensus]).T,\n",
    "                        net = net,\n",
    "                        tmin = 1)\n",
    "    dict_ora_results[consensus] = ora_results\n",
    "\n",
    "    enrichment_scores = ora_results[0]\n",
    "\n",
    "    fig, ax = plt.subplots(figsize=(14, 5))  \n",
    "    dc.pl.barplot(data=enrichment_scores, name=consensus, ax=ax)\n",
    "    plt.title(consensus)\n",
    "    plt.tight_layout()\n",
    "    output_path = os.path.join(output_dir, f\"{consensus}.png\")\n",
    "    fig.savefig(output_path, dpi=300)  \n",
    "\n",
    "    plt.show()"
   ]
  },
  {
   "cell_type": "markdown",
   "id": "f87fe26b-0bc6-4596-bbc8-801325c62cb7",
   "metadata": {},
   "source": [
    "### 4.2 MSigDB GO terms separated"
   ]
  },
  {
   "cell_type": "code",
   "execution_count": null,
   "id": "e62100d7-fc2f-491d-960f-873de8eb2439",
   "metadata": {},
   "outputs": [],
   "source": [
    "net = msigdb.rename(columns={\n",
    "    'geneset': 'source',\n",
    "    'genesymbol': 'target'\n",
    "})[['source', 'target']]"
   ]
  },
  {
   "cell_type": "code",
   "execution_count": null,
   "id": "5da7b650-438f-4e07-8935-7161e7609d0b",
   "metadata": {
    "scrolled": true
   },
   "outputs": [],
   "source": [
    "net_CC = net[net['source'].str.startswith('GOCC')].copy()\n",
    "net_BP = net[net['source'].str.startswith('GOBP')].copy()\n",
    "net_MF = net[net['source'].str.startswith('GOMF')].copy()"
   ]
  },
  {
   "cell_type": "markdown",
   "id": "f45a65a7-01f6-4aad-b5c6-7336dca1e754",
   "metadata": {},
   "source": [
    "#### 4.2.1 GO cellular component"
   ]
  },
  {
   "cell_type": "code",
   "execution_count": null,
   "id": "62fea67f-d836-4469-b176-69966d2ee07a",
   "metadata": {},
   "outputs": [],
   "source": [
    "genes_in_net_CC = set(net_CC['target'])\n",
    "filtered_bool_df_CC = bool_df.loc[bool_df.index.intersection(genes_in_net_CC)]"
   ]
  },
  {
   "cell_type": "code",
   "execution_count": null,
   "id": "057606fb-f0da-49c7-8d00-a0b5eb299fbc",
   "metadata": {},
   "outputs": [],
   "source": [
    "pd.DataFrame(filtered_bool_df_CC).sum()"
   ]
  },
  {
   "cell_type": "code",
   "execution_count": null,
   "id": "25ca9494-4def-4feb-a926-b67d732b12d8",
   "metadata": {},
   "outputs": [],
   "source": [
    "filtered_bool_df_CC = filtered_bool_df_CC.drop(columns=['consensus_11'])"
   ]
  },
  {
   "cell_type": "code",
   "execution_count": null,
   "id": "d375e4af-85fa-4487-abe5-00538113e04e",
   "metadata": {},
   "outputs": [],
   "source": [
    "# order the df\n",
    "filtered_bool_df_CC = filtered_bool_df_CC[sorted(filtered_bool_df_CC.columns, key=lambda x: int(x.split(\"_\")[1]))]"
   ]
  },
  {
   "cell_type": "code",
   "execution_count": null,
   "id": "279d647b-1aaa-4c55-a85a-318615e4f8e4",
   "metadata": {
    "scrolled": true
   },
   "outputs": [],
   "source": [
    "output_dir = \"ora_MSigDB_CC_barplots\"\n",
    "os.makedirs(output_dir, exist_ok=True)\n",
    "\n",
    "dict_ora_results_CC = {} # tuples dictionary\n",
    "for consensus in filtered_bool_df_CC.columns:\n",
    "    ora_results_CC = dc.mt.ora(\n",
    "                        data = pd.DataFrame(filtered_bool_df_CC[consensus]).T,\n",
    "                        net = net_CC,\n",
    "                        tmin = 1)\n",
    "    dict_ora_results_CC[consensus] = ora_results_CC\n",
    "\n",
    "    enrichment_scores_CC = ora_results_CC[0]\n",
    "\n",
    "    fig, ax = plt.subplots(figsize=(14, 5))  \n",
    "    dc.pl.barplot(data=enrichment_scores_CC, name=consensus, ax=ax)\n",
    "    plt.title(consensus)\n",
    "    plt.tight_layout()\n",
    "    output_path = os.path.join(output_dir, f\"{consensus}.png\")\n",
    "    fig.savefig(output_path, dpi=300)  \n",
    "\n",
    "    plt.show()"
   ]
  },
  {
   "cell_type": "markdown",
   "id": "4783114b-af37-452f-a28f-658004292c2b",
   "metadata": {},
   "source": [
    "#### 4.2.2 GO biological process"
   ]
  },
  {
   "cell_type": "code",
   "execution_count": null,
   "id": "ca6752dd-4616-44fa-913e-157f977834ca",
   "metadata": {},
   "outputs": [],
   "source": [
    "genes_in_net_BP = set(net_BP['target'])\n",
    "filtered_bool_df_BP = bool_df.loc[bool_df.index.intersection(genes_in_net_BP)]"
   ]
  },
  {
   "cell_type": "code",
   "execution_count": null,
   "id": "9a9b434d-1147-4e05-a697-9675c3ddb523",
   "metadata": {},
   "outputs": [],
   "source": [
    "pd.DataFrame(filtered_bool_df_BP).sum()"
   ]
  },
  {
   "cell_type": "code",
   "execution_count": null,
   "id": "f1682141-3664-41aa-8fa2-e12da9fd94dd",
   "metadata": {},
   "outputs": [],
   "source": [
    "filtered_bool_df_BP = filtered_bool_df_BP.drop(columns=['consensus_11'])"
   ]
  },
  {
   "cell_type": "code",
   "execution_count": null,
   "id": "26996809-a301-4f1f-9d83-fa5c5613bc6a",
   "metadata": {},
   "outputs": [],
   "source": [
    "# order the df\n",
    "filtered_bool_df_BP = filtered_bool_df_BP[sorted(filtered_bool_df_BP.columns, key=lambda x: int(x.split(\"_\")[1]))]"
   ]
  },
  {
   "cell_type": "code",
   "execution_count": null,
   "id": "70b47241-b6a4-4a9a-b041-daca4d8c871a",
   "metadata": {
    "scrolled": true
   },
   "outputs": [],
   "source": [
    "output_dir = \"ora_MSigDB_BP_barplots\"\n",
    "os.makedirs(output_dir, exist_ok=True)\n",
    "\n",
    "dict_ora_results_BP = {} # tuples dictionary\n",
    "for consensus in filtered_bool_df_BP.columns:\n",
    "    ora_results_BP = dc.mt.ora(\n",
    "                        data = pd.DataFrame(filtered_bool_df_BP[consensus]).T,\n",
    "                        net = net_BP,\n",
    "                        tmin = 1)\n",
    "    dict_ora_results_BP[consensus] = ora_results_BP\n",
    "\n",
    "    enrichment_scores_BP = ora_results_BP[0]\n",
    "\n",
    "    fig, ax = plt.subplots(figsize=(14, 5))  \n",
    "    dc.pl.barplot(data=enrichment_scores_BP, name=consensus, ax=ax)\n",
    "    plt.title(consensus)\n",
    "    plt.tight_layout()\n",
    "    output_path = os.path.join(output_dir, f\"{consensus}.png\")\n",
    "    fig.savefig(output_path, dpi=300)  \n",
    "\n",
    "    plt.show()"
   ]
  },
  {
   "cell_type": "markdown",
   "id": "fd25dcda-89eb-4b7d-be43-2e284e7dee8d",
   "metadata": {},
   "source": [
    "#### 4.2.3 GO molecular function"
   ]
  },
  {
   "cell_type": "code",
   "execution_count": null,
   "id": "ccdd65e4-3e2e-4520-8ff6-8d12f4703b20",
   "metadata": {},
   "outputs": [],
   "source": [
    "genes_in_net_MF = set(net_MF['target'])\n",
    "filtered_bool_df_MF = bool_df.loc[bool_df.index.intersection(genes_in_net_MF)]"
   ]
  },
  {
   "cell_type": "code",
   "execution_count": null,
   "id": "73183e1c-f691-4c49-b732-7261bc32cc08",
   "metadata": {},
   "outputs": [],
   "source": [
    "pd.DataFrame(filtered_bool_df_MF).sum()"
   ]
  },
  {
   "cell_type": "code",
   "execution_count": null,
   "id": "7d37dd87-4ed2-49c6-9839-92d103ba2140",
   "metadata": {},
   "outputs": [],
   "source": [
    "filtered_bool_df_MF = filtered_bool_df_MF.drop(columns=['consensus_11'])"
   ]
  },
  {
   "cell_type": "code",
   "execution_count": null,
   "id": "ba6e133c-87b5-44df-a7cb-b605fce38492",
   "metadata": {},
   "outputs": [],
   "source": [
    "# order the df\n",
    "filtered_bool_df_MF = filtered_bool_df_MF[sorted(filtered_bool_df_MF.columns, key=lambda x: int(x.split(\"_\")[1]))]"
   ]
  },
  {
   "cell_type": "code",
   "execution_count": null,
   "id": "af5c42a7-0f37-4801-a8d5-16fc6df24cc3",
   "metadata": {
    "scrolled": true
   },
   "outputs": [],
   "source": [
    "output_dir = \"ora_MSigDB_MF_barplots\"\n",
    "os.makedirs(output_dir, exist_ok=True)\n",
    "\n",
    "dict_ora_results_MF = {} # tuples dictionary\n",
    "for consensus in filtered_bool_df_MF.columns:\n",
    "    ora_results_MF = dc.mt.ora(\n",
    "                        data = pd.DataFrame(filtered_bool_df_MF[consensus]).T,\n",
    "                        net = net_MF,\n",
    "                        tmin = 1)\n",
    "    dict_ora_results_MF[consensus] = ora_results_MF\n",
    "\n",
    "    enrichment_scores_MF = ora_results_MF[0]\n",
    "\n",
    "    fig, ax = plt.subplots(figsize=(14, 5))  \n",
    "    dc.pl.barplot(data=enrichment_scores_MF, name=consensus, ax=ax)\n",
    "    plt.title(consensus)\n",
    "    plt.tight_layout()\n",
    "    output_path = os.path.join(output_dir, f\"{consensus}.png\")\n",
    "    fig.savefig(output_path, dpi=300)  \n",
    "\n",
    "    plt.show()"
   ]
  },
  {
   "cell_type": "markdown",
   "id": "ebb5cab4-27ac-40bc-abf6-701df3978374",
   "metadata": {},
   "source": [
    "## 5. Load consensus programs dictionary with spectra scores"
   ]
  },
  {
   "cell_type": "code",
   "execution_count": null,
   "id": "f504298e-7b83-4c48-8389-af119a6eaaec",
   "metadata": {},
   "outputs": [],
   "source": [
    "with open(f\"{directory}/consensus_programs_symbols.pkl\", \"rb\") as f:\n",
    "    consensus_programs_symbols = pickle.load(f)"
   ]
  },
  {
   "cell_type": "code",
   "execution_count": null,
   "id": "25c57bc5-6588-489c-b93f-b7000c3a26b8",
   "metadata": {},
   "outputs": [],
   "source": [
    "consensus_programs_symbols.pop('consensus_11', None)"
   ]
  },
  {
   "cell_type": "code",
   "execution_count": null,
   "id": "50040cba-cb0b-4827-a0df-a5652f5b0e73",
   "metadata": {},
   "outputs": [],
   "source": [
    "sorted_keys = sorted(consensus_programs_symbols.keys(), key=lambda x: int(x.split('_')[1]))"
   ]
  },
  {
   "cell_type": "markdown",
   "id": "93e1116a-a96c-4d2c-9b67-b91b44d14c5e",
   "metadata": {},
   "source": [
    "## 6. GSEA"
   ]
  },
  {
   "cell_type": "markdown",
   "id": "8803d6d2-4f12-4bb9-adb0-8b48e47a8446",
   "metadata": {},
   "source": [
    "### 6.1 Hallmark gene set"
   ]
  },
  {
   "cell_type": "code",
   "execution_count": null,
   "id": "aea24050-9d64-4813-841a-265e0688c616",
   "metadata": {
    "scrolled": true
   },
   "outputs": [],
   "source": [
    "output_dir = \"gsea_Hallmark_barplots\"\n",
    "os.makedirs(output_dir, exist_ok=True)\n",
    "\n",
    "dict_gsea_results_hallmark = {} # tuples dictionary\n",
    "for consensus in sorted_keys:\n",
    "    df = pd.DataFrame(consensus_programs_symbols[consensus]).T\n",
    "    df.index = [consensus]\n",
    "    gsea_results_hallmark = dc.mt.gsea(\n",
    "                        data = df,\n",
    "                        net = hallmark,\n",
    "                        tmin = 1)\n",
    "    dict_gsea_results_hallmark[consensus] = gsea_results_hallmark\n",
    "\n",
    "    enrichment_scores_hallmark = gsea_results_hallmark[0]\n",
    "\n",
    "    fig, ax = plt.subplots(figsize=(10, 4))  \n",
    "    dc.pl.barplot(data=enrichment_scores_hallmark, name=consensus, ax=ax)\n",
    "    plt.title(consensus)\n",
    "    plt.tight_layout()\n",
    "    output_path = os.path.join(output_dir, f\"{consensus}.png\")\n",
    "    fig.savefig(output_path, dpi=300)  # dpi=300 per alta qualità\n",
    "\n",
    "    plt.show()"
   ]
  }
 ],
 "metadata": {
  "kernelspec": {
   "display_name": "Python (glioma_plot)",
   "language": "python",
   "name": "glioma_plot"
  },
  "language_info": {
   "codemirror_mode": {
    "name": "ipython",
    "version": 3
   },
   "file_extension": ".py",
   "mimetype": "text/x-python",
   "name": "python",
   "nbconvert_exporter": "python",
   "pygments_lexer": "ipython3",
   "version": "3.11.13"
  }
 },
 "nbformat": 4,
 "nbformat_minor": 5
}
