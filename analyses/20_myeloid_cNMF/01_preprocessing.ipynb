{
 "cells": [
  {
   "cell_type": "markdown",
   "id": "604d3962-feef-4d97-ae9f-095740a0b8ca",
   "metadata": {},
   "source": [
    "# Preparing and preprocessing data"
   ]
  },
  {
   "cell_type": "markdown",
   "id": "718ca1d2-78cf-4d77-94bd-c1717927f6e8",
   "metadata": {},
   "source": [
    "## 1. Import"
   ]
  },
  {
   "cell_type": "code",
   "execution_count": null,
   "id": "2a9152d1-fa79-46b6-b939-ded3555f73e5",
   "metadata": {},
   "outputs": [],
   "source": [
    "import os\n",
    "\n",
    "import scanpy as sc\n",
    "import pandas as pd\n",
    "\n",
    "import seaborn as sns\n",
    "import matplotlib.pyplot as plt"
   ]
  },
  {
   "cell_type": "code",
   "execution_count": null,
   "id": "0831548e-c0b3-4faa-9843-799d4d2a43b1",
   "metadata": {},
   "outputs": [],
   "source": [
    "output_directory = 'cNMF_w_filtered_genes'\n",
    "if not os.path.exists(output_directory):\n",
    "    os.mkdir(output_directory)"
   ]
  },
  {
   "cell_type": "markdown",
   "id": "99160200-123d-4708-93e2-d63f0a0a6cf3",
   "metadata": {},
   "source": [
    "## 2. Load atlas"
   ]
  },
  {
   "cell_type": "code",
   "execution_count": null,
   "id": "75130193-0223-4bad-8974-ae8802d131eb",
   "metadata": {},
   "outputs": [],
   "source": [
    "adata = sc.read_h5ad(\"../../../../datasets/Marteau_2024_CRC/core_atlas-adata.h5ad\")"
   ]
  },
  {
   "cell_type": "markdown",
   "id": "bfaf0ccd-df1a-4897-8a88-320eb7ca7293",
   "metadata": {},
   "source": [
    "## 3. Pre-processing"
   ]
  },
  {
   "cell_type": "markdown",
   "id": "66bb295b-3978-4207-9288-8c93982486ee",
   "metadata": {},
   "source": [
    "### 3.1 Filtering cohorts"
   ]
  },
  {
   "cell_type": "markdown",
   "id": "f9617ffa-85ac-4305-b355-e39313f9d064",
   "metadata": {},
   "source": [
    "#### 3.1.1 Identify cohorts"
   ]
  },
  {
   "cell_type": "code",
   "execution_count": null,
   "id": "eeefc701-a54f-46e7-a0dd-275da11f5555",
   "metadata": {},
   "outputs": [],
   "source": [
    "cohorts = adata.obs['dataset'].unique()"
   ]
  },
  {
   "cell_type": "code",
   "execution_count": null,
   "id": "ac506493-bac4-4c41-b284-84039e0151fd",
   "metadata": {},
   "outputs": [],
   "source": [
    "print(f\"Number of unique cohorts: {len(cohorts)}\")"
   ]
  },
  {
   "cell_type": "markdown",
   "id": "d6d3fb65-5d3b-415f-88b6-0210c0c3fae9",
   "metadata": {},
   "source": [
    "#### 3.1.2 Filter out cohorts with no myeloids"
   ]
  },
  {
   "cell_type": "code",
   "execution_count": null,
   "id": "7d1a3584-5caa-4797-8c94-47a71d003ad0",
   "metadata": {},
   "outputs": [],
   "source": [
    "valid_cohorts = []\n",
    "for cohort in cohorts:\n",
    "    subset = adata[adata.obs['dataset'] == cohort]\n",
    "    if subset.obs['cell_type_coarse'].isin(['Myeloid cell', 'Neutrophil', 'Mast cell']).any():\n",
    "        valid_cohorts.append(cohort)"
   ]
  },
  {
   "cell_type": "code",
   "execution_count": null,
   "id": "9b14d34e-839b-4f4f-99b7-dfb5d8f53bde",
   "metadata": {},
   "outputs": [],
   "source": [
    "adata = adata[adata.obs['dataset'].isin(valid_cohorts)]"
   ]
  },
  {
   "cell_type": "code",
   "execution_count": null,
   "id": "a40fe70d-1278-4dc4-a78c-89297d795962",
   "metadata": {},
   "outputs": [],
   "source": [
    "print(f\"Number of cohorts with myeloids: {len(valid_cohorts)}\")"
   ]
  },
  {
   "cell_type": "markdown",
   "id": "8e5adce2-0b63-4189-8045-991f8756f47a",
   "metadata": {},
   "source": [
    "### 3.2 Filtering samples"
   ]
  },
  {
   "cell_type": "markdown",
   "id": "302582ec-aab3-40a1-867c-02a5c4ee56d7",
   "metadata": {},
   "source": [
    "#### 3.2.1 Keeping only tumor samples"
   ]
  },
  {
   "cell_type": "code",
   "execution_count": null,
   "id": "22791e69-7bf9-4962-80e6-fbafc9c66e36",
   "metadata": {},
   "outputs": [],
   "source": [
    "adata.obs['sample_type'].unique().tolist()"
   ]
  },
  {
   "cell_type": "code",
   "execution_count": null,
   "id": "6fe07412-e7a0-4d86-a4de-ff33b06c7537",
   "metadata": {},
   "outputs": [],
   "source": [
    "print(f\"Original shape: {adata.shape}\")\n",
    "adata = adata[adata.obs['sample_type'] == 'tumor']\n",
    "print(f\"New shape: {adata.shape}\")"
   ]
  },
  {
   "cell_type": "markdown",
   "id": "0339b938-c98b-4739-ac0a-ab03f95cebe7",
   "metadata": {},
   "source": [
    "#### 3.2.2 Removing treated patients"
   ]
  },
  {
   "cell_type": "code",
   "execution_count": null,
   "id": "2ad55045-7b3e-4ad1-97e5-a5bb1643bfb2",
   "metadata": {},
   "outputs": [],
   "source": [
    "adata.obs['treatment_status_before_resection'].unique().tolist()"
   ]
  },
  {
   "cell_type": "code",
   "execution_count": null,
   "id": "47c9be0d-68a4-4d99-b7a8-c0309fb26fc7",
   "metadata": {},
   "outputs": [],
   "source": [
    "print(f\"Original shape: {adata.shape}\")\n",
    "adata = adata[adata.obs['treatment_status_before_resection'] != 'treated']\n",
    "print(f\"New shape: {adata.shape}\")"
   ]
  },
  {
   "cell_type": "markdown",
   "id": "394b9a77-ac55-4a26-a7e1-63edcf50daf2",
   "metadata": {},
   "source": [
    "### 3.3 Keep only myeloids"
   ]
  },
  {
   "cell_type": "code",
   "execution_count": null,
   "id": "f520e096-c877-404d-8240-87f439ad835a",
   "metadata": {},
   "outputs": [],
   "source": [
    "adata = adata[adata.obs['cell_type_coarse'].isin(['Myeloid cell', 'Neutrophil', 'Mast cell'])]"
   ]
  },
  {
   "cell_type": "markdown",
   "id": "a26ce369-5f5d-40dc-88be-075248723c73",
   "metadata": {},
   "source": [
    "#### 3.3.1 Filter out Platalet and Myeloid progenitor"
   ]
  },
  {
   "cell_type": "markdown",
   "id": "47b2fc98-2ef3-4e57-9333-5d722bee75c9",
   "metadata": {},
   "source": [
    "Myeloid progenitors -> Mostly in metastasis (and some tumor) samples from treated patients\n",
    "\n",
    "Platalets -> only found in blood samples"
   ]
  },
  {
   "cell_type": "code",
   "execution_count": null,
   "id": "9d7d9eb0-635b-4364-a0e4-0160488bf8d8",
   "metadata": {},
   "outputs": [],
   "source": [
    "adata = adata[~adata.obs['cell_type_fine'].isin(['Platelet', 'Myeloid progenitor'])]"
   ]
  },
  {
   "cell_type": "code",
   "execution_count": null,
   "id": "5fa59a0c-0b8f-4b3e-b24a-46a2b84f461b",
   "metadata": {},
   "outputs": [],
   "source": [
    "adata.obs['cell_type_fine'].unique().tolist()"
   ]
  },
  {
   "cell_type": "markdown",
   "id": "963ed225-90be-42d0-ac4e-de756f3843ae",
   "metadata": {},
   "source": [
    "#### 3.3.2 Verify 20 cells for each myeloid-type"
   ]
  },
  {
   "cell_type": "code",
   "execution_count": null,
   "id": "3caf50ad-e1a7-4580-8114-6ba1449079b4",
   "metadata": {},
   "outputs": [],
   "source": [
    "final_cohorts = []\n",
    "for cohort in adata.obs['dataset'].unique():\n",
    "    subset = adata[adata.obs['dataset'] == cohort]\n",
    "    counts = subset.obs['cell_type_fine'].value_counts()\n",
    "    if (counts >= 20).all():\n",
    "        final_cohorts.append(cohort)"
   ]
  },
  {
   "cell_type": "code",
   "execution_count": null,
   "id": "8e0c4770-14de-4b31-95f6-c4ff1148f3af",
   "metadata": {},
   "outputs": [],
   "source": [
    "print(f\"Number of cohorts with at least 20 cells for each myeloid-type: {len(final_cohorts)}\")"
   ]
  },
  {
   "cell_type": "code",
   "execution_count": null,
   "id": "7008f8fc-8a30-4651-80f0-7654c7d1362b",
   "metadata": {},
   "outputs": [],
   "source": [
    "final_cohorts"
   ]
  },
  {
   "cell_type": "code",
   "execution_count": null,
   "id": "f9af917b-3544-4596-8a86-22bf88d378bd",
   "metadata": {},
   "outputs": [],
   "source": [
    "# Get the list of unique datasets\n",
    "# cohorts = adata.obs['dataset'].unique()\n",
    "\n",
    "print(\"Checking for cell types with fewer than 20 cells per dataset:\\n\")\n",
    "\n",
    "for cohort in final_cohorts:\n",
    "    # Filter cells belonging to the current dataset\n",
    "    adata_subset = adata.obs[adata.obs['dataset'] == cohort]\n",
    "\n",
    "    # Count number of cells per cell type\n",
    "    counts = adata_subset['cell_type_fine'].value_counts().sort_index()\n",
    "\n",
    "    # Find underrepresented cell types (< 20 cells)\n",
    "    underrepresented = counts[counts < 20]\n",
    "\n",
    "    if not underrepresented.empty:\n",
    "        print(f\"Dataset '{cohort}' has cell types with fewer than 20 cells:\")\n",
    "        for cell_type, count in underrepresented.items():\n",
    "            print(f\"   - {cell_type:30} {count:>5} cells\")"
   ]
  },
  {
   "cell_type": "code",
   "execution_count": null,
   "id": "b895c892-2e70-4fed-a148-7c1cea4320ca",
   "metadata": {},
   "outputs": [],
   "source": [
    "adata = adata[adata.obs['dataset'].isin(final_cohorts)]"
   ]
  },
  {
   "cell_type": "code",
   "execution_count": null,
   "id": "f4c405f3-eda5-477c-985a-efe475d9e014",
   "metadata": {},
   "outputs": [],
   "source": [
    "adata.obs['cell_type_fine'].unique().tolist() \n",
    "# to show that no cohort has Eosinophil or Granulocyte progenitor "
   ]
  },
  {
   "cell_type": "markdown",
   "id": "631fd306-c120-42b7-a7b6-3be6ef17a855",
   "metadata": {},
   "source": [
    "### 3.4 Filtering cells and genes"
   ]
  },
  {
   "cell_type": "code",
   "execution_count": null,
   "id": "50b779c4-1acb-4b23-ab3d-d0d6f265159f",
   "metadata": {},
   "outputs": [],
   "source": [
    "print(f\"adata shape: {adata.shape}\")"
   ]
  },
  {
   "cell_type": "code",
   "execution_count": null,
   "id": "d2926561-9201-44df-a1d8-017086a0a383",
   "metadata": {},
   "outputs": [],
   "source": [
    "sc.pp.filter_cells(adata, min_genes=200)"
   ]
  },
  {
   "cell_type": "markdown",
   "id": "60c79ec2-e406-48b1-86e1-089b801644f4",
   "metadata": {},
   "source": [
    "#### 3.4.1 Check which genes are left now among the 2000 hvg"
   ]
  },
  {
   "cell_type": "code",
   "execution_count": null,
   "id": "e672455b-0091-42f2-9b59-b7fe1345f0c2",
   "metadata": {},
   "outputs": [],
   "source": [
    "adata_200 = adata.copy()"
   ]
  },
  {
   "cell_type": "code",
   "execution_count": null,
   "id": "521ff0a3-1adb-4d15-9540-037b313be676",
   "metadata": {},
   "outputs": [],
   "source": [
    "sc.pp.filter_genes(adata_200, min_cells=200)"
   ]
  },
  {
   "cell_type": "code",
   "execution_count": null,
   "id": "ed00c7ca-df56-4c91-b5ad-8dd7f3c3d9a3",
   "metadata": {},
   "outputs": [],
   "source": [
    "print(f\"adata shape: {adata_200.shape}\")"
   ]
  },
  {
   "cell_type": "code",
   "execution_count": null,
   "id": "decc4f58-997e-44fb-84f4-fcb1ca7abcbb",
   "metadata": {},
   "outputs": [],
   "source": [
    "sc.pp.highly_variable_genes(adata_200, n_top_genes=2000, flavor='seurat')"
   ]
  },
  {
   "cell_type": "code",
   "execution_count": null,
   "id": "3e2f35e3-54e5-453f-b03b-bb7dfec5e81b",
   "metadata": {},
   "outputs": [],
   "source": [
    "hvg_ensg_200 = adata_200.var_names[adata_200.var['highly_variable']]\n",
    "hvg_symbols_200 = adata_200.var.loc[hvg_ensg_200, 'GeneSymbol'].tolist()\n",
    "hvg_symbols_sorted_200 = sorted(hvg_symbols_200)"
   ]
  },
  {
   "cell_type": "code",
   "execution_count": null,
   "id": "8fc61cab-f221-424e-90ee-92f1db5bc9fc",
   "metadata": {},
   "outputs": [],
   "source": [
    "genes_to_check = [\n",
    "    \"CD3D\", \"TRBV27\", \"TRAV21\", \"TRAC\", \"TRAV22\", # T cells\n",
    "    \"IGKC\", \"IGHA1\", \"JCHAIN\", \"IGKV1-5\", \"IGLC1\", # Plasma / B cells\n",
    "    \"SPRR1B\", \"KRT6A\", \"KRTDAP\", \"KRT14\", \"IVL\", \"KRT13\", \"SPRR2D\" # Epithelial cells\n",
    "]\n",
    "\n",
    "present_genes = [gene for gene in genes_to_check if gene in hvg_symbols_sorted_200]\n",
    "missing_genes = [gene for gene in genes_to_check if gene not in hvg_symbols_sorted_200]\n",
    "\n",
    "print(\"Present:\")\n",
    "print(present_genes)\n",
    "print(\"\\nMissing:\")\n",
    "print(missing_genes)"
   ]
  },
  {
   "cell_type": "markdown",
   "id": "4b80bf1e-a87c-4480-8bd0-fae031d93ef3",
   "metadata": {},
   "source": [
    "With this first filtering we got rid of epithelial confounding genes, but still we have plasma and T cells genes."
   ]
  },
  {
   "cell_type": "code",
   "execution_count": null,
   "id": "2b996ec3-4492-4309-92f6-460d8d19022d",
   "metadata": {},
   "outputs": [],
   "source": [
    "# save\n",
    "filtered_counts_dir = os.path.join(output_directory, 'filtered_counts.h5ad')\n",
    "sc.write(filtered_counts_dir, adata_200)"
   ]
  },
  {
   "cell_type": "markdown",
   "id": "caabf9d5-2d90-4a60-99b3-5c1694731c28",
   "metadata": {},
   "source": [
    "#### 3.4.2 Increase min_cells parameter"
   ]
  },
  {
   "cell_type": "code",
   "execution_count": null,
   "id": "4e12cfb9-ce20-45a1-8a14-272b85a6726c",
   "metadata": {},
   "outputs": [],
   "source": [
    "adata_1000 = adata.copy()"
   ]
  },
  {
   "cell_type": "code",
   "execution_count": null,
   "id": "93a3982f-c7c9-490b-baaa-b673a6e6fe08",
   "metadata": {},
   "outputs": [],
   "source": [
    "sc.pp.filter_genes(adata_1000, min_cells=1000)"
   ]
  },
  {
   "cell_type": "code",
   "execution_count": null,
   "id": "2f06185a-e8c6-403d-bd3a-27746cfc87a1",
   "metadata": {},
   "outputs": [],
   "source": [
    "print(f\"adata shape: {adata_1000.shape}\")"
   ]
  },
  {
   "cell_type": "code",
   "execution_count": null,
   "id": "edb5d721-7ae2-44e6-b5c9-36ca37341432",
   "metadata": {},
   "outputs": [],
   "source": [
    "sc.pp.highly_variable_genes(adata_1000, n_top_genes=2000, flavor='seurat')"
   ]
  },
  {
   "cell_type": "code",
   "execution_count": null,
   "id": "e01b97e3-8434-429d-ae69-2b60540d0fab",
   "metadata": {},
   "outputs": [],
   "source": [
    "hvg_ensg_1000 = adata_1000.var_names[adata_1000.var['highly_variable']]\n",
    "hvg_symbols_1000 = adata_1000.var.loc[hvg_ensg_1000, 'GeneSymbol'].tolist()\n",
    "hvg_symbols_sorted_1000 = sorted(hvg_symbols_1000)"
   ]
  },
  {
   "cell_type": "code",
   "execution_count": null,
   "id": "45cfee90-3220-43c5-a6ea-52925e6bd3f2",
   "metadata": {},
   "outputs": [],
   "source": [
    "genes_to_check = [\n",
    "    \"CD3D\", \"TRBV27\", \"TRAV21\", \"TRAC\", \"TRAV22\", # T cells\n",
    "    \"IGKC\", \"IGHA1\", \"JCHAIN\", \"IGKV1-5\", \"IGLC1\", # Plasma / B cells\n",
    "    \"SPRR1B\", \"KRT6A\", \"KRTDAP\", \"KRT14\", \"IVL\", \"KRT13\", \"SPRR2D\" # Epithelial cells\n",
    "]\n",
    "\n",
    "present_genes = [gene for gene in genes_to_check if gene in hvg_symbols_sorted_1000]\n",
    "missing_genes = [gene for gene in genes_to_check if gene not in hvg_symbols_sorted_1000]\n",
    "\n",
    "print(\"Present:\")\n",
    "print(present_genes)\n",
    "print(\"\\nMissing:\")\n",
    "print(missing_genes)"
   ]
  },
  {
   "cell_type": "markdown",
   "id": "c35e3cb5-28fe-453d-9ecd-b86a83ef213f",
   "metadata": {},
   "source": [
    "Increasing significantly the parameter does not change outcome."
   ]
  },
  {
   "cell_type": "markdown",
   "id": "29e24d51-6ed7-4d5e-b367-639af8de4d54",
   "metadata": {},
   "source": [
    "## 4. Checking which cells are expressing non-myeloid-specific genes"
   ]
  },
  {
   "cell_type": "code",
   "execution_count": null,
   "id": "2076ed6b-eacf-4f21-8ed4-cfdafce6e052",
   "metadata": {},
   "outputs": [],
   "source": [
    "adata_200.obs['cell_type_fine'].value_counts()"
   ]
  },
  {
   "cell_type": "code",
   "execution_count": null,
   "id": "bff13483-0381-4be3-a45a-57536e19f668",
   "metadata": {},
   "outputs": [],
   "source": [
    "symbol_to_ensg = {\n",
    "    symbol: ensg for ensg, symbol in zip(adata_200.var_names, adata_200.var[\"GeneSymbol\"])\n",
    "    if symbol in present_genes\n",
    "}\n",
    "\n",
    "ensg_genes = list(symbol_to_ensg.values())\n",
    "\n",
    "is_expressed = (adata_200[:, ensg_genes].X > 0).toarray()"
   ]
  },
  {
   "cell_type": "markdown",
   "id": "6035706d-a5bc-4c75-8a12-4f92a40fe121",
   "metadata": {},
   "source": [
    "### 4.1 Grouping per cell type"
   ]
  },
  {
   "cell_type": "code",
   "execution_count": null,
   "id": "2dd70082-4474-4056-88b1-5759785efb1c",
   "metadata": {},
   "outputs": [],
   "source": [
    "df_celltype = pd.DataFrame(is_expressed, columns=present_genes, index=adata_200.obs_names)\n",
    "df_celltype[\"cell_type_fine\"] = adata_200.obs[\"cell_type_fine\"].values\n",
    "\n",
    "# for each gene, count how many cells are expressing it (grouped per cell type)\n",
    "expression_summary_celltype = df_celltype.groupby(\"cell_type_fine\")[present_genes].sum().astype(int)\n",
    "\n",
    "expression_summary_celltype = expression_summary_celltype.loc[:, expression_summary_celltype.sum().sort_values(ascending=False).index]\n",
    "expression_summary_celltype = expression_summary_celltype.loc[expression_summary_celltype.sum(axis=1).sort_values(ascending=False).index]"
   ]
  },
  {
   "cell_type": "code",
   "execution_count": null,
   "id": "808cae8c-afd4-43c1-bcb7-5c9e824bb1be",
   "metadata": {},
   "outputs": [],
   "source": [
    "total_cells_per_type = adata_200.obs['cell_type_fine'].value_counts()\n",
    "percent_expression_celltype = expression_summary_celltype.div(total_cells_per_type, axis=0) * 100\n",
    "\n",
    "percent_expression_celltype = percent_expression_celltype.loc[:, percent_expression_celltype.sum().sort_values(ascending=False).index]\n",
    "percent_expression_celltype = percent_expression_celltype.loc[percent_expression_celltype.sum(axis=1).sort_values(ascending=False).index]"
   ]
  },
  {
   "cell_type": "code",
   "execution_count": null,
   "id": "eda3021f-869f-4857-bc3d-43b67a2e7e9d",
   "metadata": {},
   "outputs": [],
   "source": [
    "plt.figure(figsize=(12, 8))\n",
    "\n",
    "sns.heatmap(percent_expression_celltype, cmap=\"viridis\", annot=True, fmt=\".1f\", cbar_kws={'label': '% cells expressing'})\n",
    "\n",
    "plt.title(\"Heatmap: % of cells expressing each gene per cell type\")\n",
    "plt.xlabel(\"Genes\")\n",
    "plt.ylabel(\"Cell type (cell_type_fine)\")\n",
    "plt.tight_layout()\n",
    "plt.show()"
   ]
  },
  {
   "cell_type": "markdown",
   "id": "4bedddf0-a52e-40bf-883c-82032a240214",
   "metadata": {},
   "source": [
    "### 4.2 Grouping per cohort"
   ]
  },
  {
   "cell_type": "code",
   "execution_count": null,
   "id": "2925d039-83ca-4d4c-8095-275ee86491d6",
   "metadata": {},
   "outputs": [],
   "source": [
    "df_cohorts = pd.DataFrame(is_expressed, columns=present_genes, index=adata_200.obs_names)\n",
    "df_cohorts[\"dataset\"] = adata_200.obs[\"dataset\"].values\n",
    "\n",
    "# for each gene, count how many cells are expressing it (grouped per cohorts)\n",
    "expression_summary_cohorts = df_cohorts.groupby(\"dataset\")[present_genes].sum().astype(int)\n",
    "\n",
    "expression_summary_cohorts = expression_summary_cohorts.loc[:, expression_summary_cohorts.sum().sort_values(ascending=False).index]\n",
    "expression_summary_cohorts = expression_summary_cohorts.loc[expression_summary_cohorts.sum(axis=1).sort_values(ascending=False).index]"
   ]
  },
  {
   "cell_type": "code",
   "execution_count": null,
   "id": "4f05fb37-6f1b-449a-9bf3-c243e89dd974",
   "metadata": {},
   "outputs": [],
   "source": [
    "total_cells_per_cohort = adata_200.obs['dataset'].value_counts()\n",
    "percent_expression_cohorts = expression_summary_cohorts.div(total_cells_per_cohort, axis=0) * 100\n",
    "\n",
    "percent_expression_cohorts = percent_expression_cohorts.loc[:, percent_expression_cohorts.sum().sort_values(ascending=False).index]\n",
    "percent_expression_cohorts = percent_expression_cohorts.loc[percent_expression_cohorts.sum(axis=1).sort_values(ascending=False).index]"
   ]
  },
  {
   "cell_type": "code",
   "execution_count": null,
   "id": "a3c5680c-1b16-4379-a4b7-9460f5a79644",
   "metadata": {},
   "outputs": [],
   "source": [
    "plt.figure(figsize=(12, 8))\n",
    "\n",
    "sns.heatmap(percent_expression_cohorts, cmap=\"viridis\", annot=True, fmt=\".1f\", cbar_kws={'label': '% cells expressing'})\n",
    "\n",
    "plt.title(\"Heatmap: % of cells expressing each gene per cohort\")\n",
    "plt.xlabel(\"Genes\")\n",
    "plt.ylabel(\"Cohorts\")\n",
    "plt.tight_layout()\n",
    "plt.show()"
   ]
  },
  {
   "cell_type": "markdown",
   "id": "e5513338-c4b6-4e23-bd6c-f58e538e5f7b",
   "metadata": {},
   "source": [
    "### 4.3 Grouping per cell type and cohort"
   ]
  },
  {
   "cell_type": "code",
   "execution_count": null,
   "id": "5db1e22f-312f-4455-ad1e-0b18e7c9fa05",
   "metadata": {},
   "outputs": [],
   "source": [
    "df_both = pd.DataFrame(is_expressed, columns=present_genes, index=adata_200.obs_names)\n",
    "df_both[\"cell_type_fine\"] = adata_200.obs[\"cell_type_fine\"].values\n",
    "df_both[\"dataset\"] = adata_200.obs[\"dataset\"].values\n",
    "\n",
    "expression_summary_both = df_both.groupby([\"cell_type_fine\", \"dataset\"])[present_genes].sum().astype(int)\n",
    "\n",
    "expression_summary_both = expression_summary_both.loc[\n",
    "    expression_summary_both.sum(axis=1).sort_values(ascending=False).index,\n",
    "    expression_summary_both.sum().sort_values(ascending=False).index\n",
    "]\n",
    "\n",
    "expression_summary_both = expression_summary_both.sort_index(level=[\"cell_type_fine\", \"dataset\"])"
   ]
  },
  {
   "cell_type": "code",
   "execution_count": null,
   "id": "f8735b25-1e88-484e-b580-b8a0164b4d8a",
   "metadata": {},
   "outputs": [],
   "source": [
    "total_cells_per_group = df_both.groupby([\"cell_type_fine\", \"dataset\"]).size()\n",
    "\n",
    "percent_expression_both = expression_summary_both.div(total_cells_per_group, axis=0) * 100\n",
    "\n",
    "percent_expression_both = percent_expression_both.loc[\n",
    "    percent_expression_both.sum(axis=1).sort_values(ascending=False).index,\n",
    "    percent_expression_both.sum().sort_values(ascending=False).index\n",
    "]\n",
    "\n",
    "percent_expression_both = percent_expression_both.sort_index(level=[\"cell_type_fine\", \"dataset\"])"
   ]
  },
  {
   "cell_type": "code",
   "execution_count": null,
   "id": "b8a71170-4971-43fb-b430-40fffa7a592e",
   "metadata": {},
   "outputs": [],
   "source": [
    "for cell_type in percent_expression_both.index.get_level_values(0).unique():\n",
    "\n",
    "    # Just that cell type\n",
    "    df_plot = percent_expression_both.loc[cell_type]\n",
    "\n",
    "    # rename\n",
    "    df_plot.index = [f\"{cohort}\" for cohort in df_plot.index]\n",
    "\n",
    "    plt.figure(figsize=(12, max(2, 0.5 * len(df_plot))))  # adatta l'altezza al numero di coorti\n",
    "    sns.heatmap(df_plot, cmap=\"viridis\", annot=True, fmt=\".1f\", cbar_kws={'label': '% cells expressing'})\n",
    "\n",
    "    plt.title(f\"Heatmap: % cells expressing per gene — {cell_type}\")\n",
    "    plt.xlabel(\"Genes\")\n",
    "    plt.ylabel(\"Cohort\")\n",
    "    plt.tight_layout()\n",
    "    plt.show()\n"
   ]
  }
 ],
 "metadata": {
  "kernelspec": {
   "display_name": "Python (glioma_plot_clone)",
   "language": "python",
   "name": "glioma_plot_clone"
  },
  "language_info": {
   "codemirror_mode": {
    "name": "ipython",
    "version": 3
   },
   "file_extension": ".py",
   "mimetype": "text/x-python",
   "name": "python",
   "nbconvert_exporter": "python",
   "pygments_lexer": "ipython3",
   "version": "3.11.13"
  }
 },
 "nbformat": 4,
 "nbformat_minor": 5
}
